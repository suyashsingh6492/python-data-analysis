{
 "cells": [
  {
   "cell_type": "code",
   "execution_count": 1,
   "id": "4b5df8d7-4cdc-42ac-b549-648ecec04987",
   "metadata": {},
   "outputs": [
    {
     "data": {
      "text/plain": [
       "Counter({1: 5, 2: 4, 4: 3, 3: 2, 22: 1})"
      ]
     },
     "execution_count": 1,
     "metadata": {},
     "output_type": "execute_result"
    }
   ],
   "source": [
    "from collections import Counter\n",
    "mylist=[1,1,1,1,2,2,2,3,4,22,2,1,3,4,4]\n",
    "Counter(mylist)"
   ]
  },
  {
   "cell_type": "code",
   "execution_count": 9,
   "id": "a1c8853c-32bc-476b-be60-c8952cd3c23d",
   "metadata": {},
   "outputs": [],
   "source": [
    "c=Counter('aaabbcccccddfffgg')"
   ]
  },
  {
   "cell_type": "code",
   "execution_count": 5,
   "id": "8c7cd6e2-b704-4241-be16-9580fd49b530",
   "metadata": {},
   "outputs": [
    {
     "data": {
      "text/plain": [
       "[('b', 5), ('d', 5), ('e', 5), ('a', 2), ('c', 2)]"
      ]
     },
     "execution_count": 5,
     "metadata": {},
     "output_type": "execute_result"
    }
   ],
   "source": [
    "Counter('aabbbbbccdddddeeeee').most_common()"
   ]
  },
  {
   "cell_type": "code",
   "execution_count": 11,
   "id": "469c2329-9546-4df4-8674-02663ba8ab24",
   "metadata": {},
   "outputs": [
    {
     "data": {
      "text/plain": [
       "['a', 'b', 'c', 'd', 'f', 'g']"
      ]
     },
     "execution_count": 11,
     "metadata": {},
     "output_type": "execute_result"
    }
   ],
   "source": [
    "list(c)"
   ]
  },
  {
   "cell_type": "code",
   "execution_count": 15,
   "id": "d62f455f-a773-4d47-b58a-5d8e98b01660",
   "metadata": {},
   "outputs": [
    {
     "data": {
      "text/plain": [
       "100"
      ]
     },
     "execution_count": 15,
     "metadata": {},
     "output_type": "execute_result"
    }
   ],
   "source": [
    "from collections import defaultdict\n",
    "d={'a':10,'b':11,'c':12}\n",
    "d=defaultdict(lambda: 100)\n",
    "d['a']=10\n",
    "d['correct']"
   ]
  },
  {
   "cell_type": "code",
   "execution_count": 41,
   "id": "67f49a70-546d-4e0c-badc-802bb267287f",
   "metadata": {},
   "outputs": [
    {
     "name": "stdout",
     "output_type": "stream",
     "text": [
      "<class '__main__.Dogis'>\n",
      "husky\n",
      "4\n"
     ]
    }
   ],
   "source": [
    "from collections import namedtuple\n",
    "dogs=namedtuple('Dogis',['age','breed','name']) #2nd fileds name pass as list, 1st is type name\n",
    "mytumpel=(10,20,30)\n",
    "mytumpel[0]\n",
    "sammy=dogs(age=4,breed='husky',name='sammy')\n",
    "print(type(sammy))\n",
    "print(sammy.breed)\n",
    "print(sammy[0])"
   ]
  },
  {
   "cell_type": "code",
   "execution_count": 43,
   "id": "13c2e6c8-dc0f-416d-b084-f4ea035191aa",
   "metadata": {},
   "outputs": [
    {
     "data": {
      "text/plain": [
       "'/Users/suyashkumarsingh'"
      ]
     },
     "execution_count": 43,
     "metadata": {},
     "output_type": "execute_result"
    }
   ],
   "source": [
    "pwd\n"
   ]
  },
  {
   "cell_type": "code",
   "execution_count": 1,
   "id": "6405c7a9-14c9-4d86-aeda-09c952cca53c",
   "metadata": {},
   "outputs": [
    {
     "data": {
      "text/plain": [
       "'/Users/suyashkumarsingh/Downloads/python basic'"
      ]
     },
     "execution_count": 1,
     "metadata": {},
     "output_type": "execute_result"
    }
   ],
   "source": [
    "pwd\n"
   ]
  },
  {
   "cell_type": "code",
   "execution_count": 3,
   "id": "620c378f-c696-47e9-b3b7-6731ec4163a6",
   "metadata": {},
   "outputs": [],
   "source": [
    "f=open('practice.txt','w+')\n",
    "f.write('THis is the test string')\n",
    "f.close()"
   ]
  },
  {
   "cell_type": "code",
   "execution_count": 5,
   "id": "e998be7c-1804-4424-a7ff-fccb54f2c0b4",
   "metadata": {},
   "outputs": [
    {
     "name": "stdout",
     "output_type": "stream",
     "text": [
      "\u001b[34mMyMainPackage\u001b[m\u001b[m/              myprogram.py\n",
      "\u001b[34m__pycache__\u001b[m\u001b[m/                one.py\n",
      "basic.ipynb                 practice.txt\n",
      "collection pdf email.ipynb  simple_one.py\n",
      "methods and oops.ipynb      simple_test.py\n",
      "myfile.txt                  two.py\n",
      "mymodule.py\n"
     ]
    }
   ],
   "source": [
    "ls\n"
   ]
  },
  {
   "cell_type": "code",
   "execution_count": 15,
   "id": "e7d1491b-c142-47af-9bcd-9c93085c3459",
   "metadata": {},
   "outputs": [
    {
     "name": "stdout",
     "output_type": "stream",
     "text": [
      "/Users/suyashkumarsingh/Downloads/python basic\n",
      "['simple_one.py', 'one.py', '.DS_Store', 'practice.txt', 'basic.ipynb', 'two.py', '__pycache__', 'myprogram.py', 'MyMainPackage', 'simple_test.py', 'mymodule.py', 'collection pdf email.ipynb', 'myfile.txt', '.ipynb_checkpoints', 'methods and oops.ipynb']\n"
     ]
    }
   ],
   "source": [
    "import os\n",
    "print(os.getcwd()) #get current working directory\n",
    "print(os.listdir())\n",
    "#print(os.listdir('/Users/suyashkumarsingh/Downloads'))\n"
   ]
  },
  {
   "cell_type": "code",
   "execution_count": 21,
   "id": "3ad95df9-e744-4658-99a8-8d7083f76f07",
   "metadata": {},
   "outputs": [],
   "source": [
    "import shutil\n",
    "shutil.copy('practice.txt','/Users/suyashkumarsingh/Downloads') #copy from source to distination\n",
    "os.unlink('/Users/suyashkumarsingh/Downloads/practice.txt') #delete a file ,send2trash if delete and move to bin ,shutil.rmtree(path) remove tree"
   ]
  },
  {
   "cell_type": "code",
   "execution_count": 23,
   "id": "228ad719-6a05-42b5-b5f6-77fde4bd4e9d",
   "metadata": {},
   "outputs": [
    {
     "name": "stdout",
     "output_type": "stream",
     "text": [
      "currently looking at /Users/suyashkumarsingh/Downloads/python basic\n",
      "\n",
      "\n",
      "sub folder __pycache__\n",
      "sub folder MyMainPackage\n",
      "sub folder .ipynb_checkpoints\n",
      "\n",
      " the files are\n",
      "\n",
      "file: simple_one.py\n",
      "file: one.py\n",
      "file: .DS_Store\n",
      "file: practice.txt\n",
      "file: basic.ipynb\n",
      "file: two.py\n",
      "file: myprogram.py\n",
      "file: simple_test.py\n",
      "file: mymodule.py\n",
      "file: collection pdf email.ipynb\n",
      "file: myfile.txt\n",
      "file: methods and oops.ipynb\n",
      "\n",
      "\n",
      "currently looking at /Users/suyashkumarsingh/Downloads/python basic/__pycache__\n",
      "\n",
      "\n",
      "\n",
      " the files are\n",
      "\n",
      "file: simple_one.cpython-311.pyc\n",
      "file: mymodule.cpython-311.pyc\n",
      "file: one.cpython-311.pyc\n",
      "\n",
      "\n",
      "currently looking at /Users/suyashkumarsingh/Downloads/python basic/MyMainPackage\n",
      "\n",
      "\n",
      "sub folder __pycache__\n",
      "sub folder SubPackage\n",
      "\n",
      " the files are\n",
      "\n",
      "file: .DS_Store\n",
      "file: __init__.py\n",
      "file: some_main_script.py\n",
      "\n",
      "\n",
      "currently looking at /Users/suyashkumarsingh/Downloads/python basic/MyMainPackage/__pycache__\n",
      "\n",
      "\n",
      "\n",
      " the files are\n",
      "\n",
      "file: some_main_script.cpython-311.pyc\n",
      "file: __init__.cpython-311.pyc\n",
      "\n",
      "\n",
      "currently looking at /Users/suyashkumarsingh/Downloads/python basic/MyMainPackage/SubPackage\n",
      "\n",
      "\n",
      "sub folder __pycache__\n",
      "\n",
      " the files are\n",
      "\n",
      "file: __init__.py\n",
      "file: sub_script.py\n",
      "\n",
      "\n",
      "currently looking at /Users/suyashkumarsingh/Downloads/python basic/MyMainPackage/SubPackage/__pycache__\n",
      "\n",
      "\n",
      "\n",
      " the files are\n",
      "\n",
      "file: sub_script.cpython-311.pyc\n",
      "file: __init__.cpython-311.pyc\n",
      "\n",
      "\n",
      "currently looking at /Users/suyashkumarsingh/Downloads/python basic/.ipynb_checkpoints\n",
      "\n",
      "\n",
      "\n",
      " the files are\n",
      "\n",
      "file: basic-checkpoint.ipynb\n",
      "file: collection pdf email-checkpoint.ipynb\n",
      "file: methods and oops-checkpoint.ipynb\n",
      "file: simple_test-checkpoint.py\n",
      "\n",
      "\n"
     ]
    }
   ],
   "source": [
    "for folder,sub_folders,files in os.walk(os.getcwd()):\n",
    "    print(\"currently looking at \"+folder)\n",
    "    print(\"\\n\")\n",
    "    for sub_folder in sub_folders:\n",
    "        print(\"sub folder \"+sub_folder)\n",
    "    print(\"\\n the files are\\n\")\n",
    "    for file in files:\n",
    "        print(\"file: \"+file)\n",
    "    print(\"\\n\")\n",
    "    "
   ]
  },
  {
   "cell_type": "code",
   "execution_count": 31,
   "id": "ec4117fc-39e5-48de-a039-43f2696b3e56",
   "metadata": {},
   "outputs": [
    {
     "name": "stdout",
     "output_type": "stream",
     "text": [
      "02:20:00\n",
      "20\n"
     ]
    }
   ],
   "source": [
    "import datetime\n",
    "mytime=datetime.time(2,20) #hour min , 24 hours\n",
    "print(mytime)\n",
    "print(mytime.minute)"
   ]
  },
  {
   "cell_type": "code",
   "execution_count": 43,
   "id": "e0120a24-5e6e-4eb3-bf9b-4510acd8e42b",
   "metadata": {},
   "outputs": [
    {
     "name": "stdout",
     "output_type": "stream",
     "text": [
      "2025\n",
      "2025-03-15\n",
      "Sat Mar 15 00:00:00 2025\n"
     ]
    }
   ],
   "source": [
    "today=datetime.date.today()\n",
    "print(today.year)\n",
    "print(today)\n",
    "print(today.ctime())\n"
   ]
  },
  {
   "cell_type": "code",
   "execution_count": 63,
   "id": "6979daf1-3bc0-4bcc-b5d1-301003dadfd1",
   "metadata": {},
   "outputs": [
    {
     "name": "stdout",
     "output_type": "stream",
     "text": [
      "2021-10-03 02:03:04\n",
      "2023-10-03 02:03:04\n"
     ]
    }
   ],
   "source": [
    "from datetime import datetime\n",
    "datetimes=datetime(2021,10,3,2,3,4)\n",
    "print(datetimes)\n",
    "mydatetime=datetimes.replace(year=2023)\n",
    "print(mydatetime)"
   ]
  },
  {
   "cell_type": "code",
   "execution_count": 69,
   "id": "9540738b-9910-45fb-b8d3-787ad94d6d1a",
   "metadata": {},
   "outputs": [
    {
     "data": {
      "text/plain": [
       "4"
      ]
     },
     "execution_count": 69,
     "metadata": {},
     "output_type": "execute_result"
    }
   ],
   "source": [
    "import math\n",
    "math.floor(4.35)"
   ]
  },
  {
   "cell_type": "code",
   "execution_count": 71,
   "id": "b24156c7-27e3-41d4-9afa-c9d3a2ed4467",
   "metadata": {},
   "outputs": [
    {
     "data": {
      "text/plain": [
       "-0.5440211108893698"
      ]
     },
     "execution_count": 71,
     "metadata": {},
     "output_type": "execute_result"
    }
   ],
   "source": [
    "math.sin(10)"
   ]
  },
  {
   "cell_type": "code",
   "execution_count": 83,
   "id": "2d38e13b-4965-4a71-b136-03a82c32be66",
   "metadata": {},
   "outputs": [
    {
     "data": {
      "text/plain": [
       "90.0"
      ]
     },
     "execution_count": 83,
     "metadata": {},
     "output_type": "execute_result"
    }
   ],
   "source": [
    "math.degrees(math.pi/2)"
   ]
  },
  {
   "cell_type": "code",
   "execution_count": 109,
   "id": "45b85ae4-9387-4eac-85a3-17e5adaaed45",
   "metadata": {},
   "outputs": [
    {
     "name": "stdout",
     "output_type": "stream",
     "text": [
      "33\n",
      "35\n",
      "54\n",
      "63\n"
     ]
    }
   ],
   "source": [
    "import random\n",
    "print(random.randint(1,100))\n",
    "random.seed(45) #always give the same numb, starts the same series\n",
    "print(random.randint(1,100)) #all will always give the same number\n",
    "print(random.randint(1,100))\n",
    "print(random.randint(1,100))"
   ]
  },
  {
   "cell_type": "code",
   "execution_count": 111,
   "id": "6d1306a7-feb1-4ede-bfc2-3c527c32b618",
   "metadata": {},
   "outputs": [
    {
     "data": {
      "text/plain": [
       "3"
      ]
     },
     "execution_count": 111,
     "metadata": {},
     "output_type": "execute_result"
    }
   ],
   "source": [
    "random.choice([1,4,3,2,1,2,3])"
   ]
  },
  {
   "cell_type": "code",
   "execution_count": 121,
   "id": "337b6a6e-a748-41ab-a8f8-ff2b2ad464b6",
   "metadata": {},
   "outputs": [
    {
     "name": "stdout",
     "output_type": "stream",
     "text": [
      "[1, 4, 8, 6, 1, 8, 6, 5, 3, 3]\n",
      "[3, 1, 5, 9, 8]\n"
     ]
    }
   ],
   "source": [
    "print(random.choices(population=[1,2,3,4,5,6,7,8,9],k=10)) # take 10 random numbers\n",
    "print(random.sample(population=[1,2,3,4,5,6,7,8,9],k=5)) # take 5 random numbers, none taken twice"
   ]
  },
  {
   "cell_type": "code",
   "execution_count": 123,
   "id": "cddae9a1-e93e-4ffd-8ef3-69de009dc0c1",
   "metadata": {},
   "outputs": [
    {
     "name": "stdout",
     "output_type": "stream",
     "text": [
      "--Return--\n",
      "None\n",
      "> \u001b[0;32m/var/folders/_d/0vyhk8rd3pz1s7bbh3_yk4th0000gn/T/ipykernel_26819/4051969038.py\u001b[0m(6)\u001b[0;36m<module>\u001b[0;34m()\u001b[0m\n",
      "\u001b[0;32m      3 \u001b[0;31m\u001b[0my\u001b[0m\u001b[0;34m=\u001b[0m\u001b[0;36m4\u001b[0m\u001b[0;34m\u001b[0m\u001b[0;34m\u001b[0m\u001b[0m\n",
      "\u001b[0m\u001b[0;32m      4 \u001b[0;31m\u001b[0mz\u001b[0m\u001b[0;34m=\u001b[0m\u001b[0;36m5\u001b[0m\u001b[0;34m\u001b[0m\u001b[0;34m\u001b[0m\u001b[0m\n",
      "\u001b[0m\u001b[0;32m      5 \u001b[0;31m\u001b[0mresult_one\u001b[0m\u001b[0;34m=\u001b[0m\u001b[0my\u001b[0m\u001b[0;34m+\u001b[0m\u001b[0mz\u001b[0m\u001b[0;34m\u001b[0m\u001b[0;34m\u001b[0m\u001b[0m\n",
      "\u001b[0m\u001b[0;32m----> 6 \u001b[0;31m\u001b[0mpdb\u001b[0m\u001b[0;34m.\u001b[0m\u001b[0mset_trace\u001b[0m\u001b[0;34m(\u001b[0m\u001b[0;34m)\u001b[0m\u001b[0;34m\u001b[0m\u001b[0;34m\u001b[0m\u001b[0m\n",
      "\u001b[0m\u001b[0;32m      7 \u001b[0;31m\u001b[0mresult_two\u001b[0m\u001b[0;34m=\u001b[0m\u001b[0mx\u001b[0m\u001b[0;34m+\u001b[0m\u001b[0mz\u001b[0m\u001b[0;34m\u001b[0m\u001b[0;34m\u001b[0m\u001b[0m\n",
      "\u001b[0m\n"
     ]
    },
    {
     "name": "stdin",
     "output_type": "stream",
     "text": [
      "ipdb>  x\n"
     ]
    },
    {
     "name": "stdout",
     "output_type": "stream",
     "text": [
      "[1, 2, 3]\n"
     ]
    },
    {
     "name": "stdin",
     "output_type": "stream",
     "text": [
      "ipdb>  y\n"
     ]
    },
    {
     "name": "stdout",
     "output_type": "stream",
     "text": [
      "4\n"
     ]
    },
    {
     "name": "stdin",
     "output_type": "stream",
     "text": [
      "ipdb>  q\n"
     ]
    }
   ],
   "source": [
    "import pdb #python debugger\n",
    "x=[1,2,3]\n",
    "y=4\n",
    "z=5\n",
    "result_one=y+z\n",
    "pdb.set_trace() #use to find what veriable assigned to what value , type q for exit\n",
    "result_two=x+z\n"
   ]
  },
  {
   "cell_type": "code",
   "execution_count": 179,
   "id": "1d693671-be10-4063-bb42-16a53f4306fd",
   "metadata": {},
   "outputs": [
    {
     "name": "stdout",
     "output_type": "stream",
     "text": [
      "True\n",
      "<re.Match object; span=(12, 17), match='phone'>\n",
      "(12, 17)\n",
      "12\n",
      "['phone', 'phone']\n",
      "<re.Match object; span=(24, 36), match='444-555-8764'>\n",
      "555\n",
      "<re.Match object; span=(10, 13), match='dog'>\n",
      "['cat', 'hat', 'sat']\n",
      "['1']\n",
      "['5']\n",
      "['t', 'h', 'e', 'r', 'e', ' ', 'a', 'r', 'e', ' ', ' ', 'n', 'u', 'm', 'e', 'r', ' ', 'a', 'n', 'd', ' ', ' ', 'i', 'n', 's', 'i', 'd', 'e', ' ', ',', ' ', ' ', 'o', 'u', 't', 's', 'i', 'd', 'e']\n",
      "['there are ', ' numer and ', ' inside , ', ' outside']\n",
      "['this is string but it is puntuation', ' how can remove it']\n",
      "['hypen-word', 'long-len']\n",
      "['fish', 'nap']\n"
     ]
    }
   ],
   "source": [
    "import re #regular expression\n",
    "text=\"the agent's phone no is 444-555-8764. call on phone soon.\"\n",
    "print(\"phone\" in text)\n",
    "patter='phone'\n",
    "match=re.search(patter,text)\n",
    "print(match)\n",
    "print(match.span())\n",
    "print(match.start()) #get 1st match only\n",
    "print(re.findall(patter,text))\n",
    "print(re.search(r'\\d{3}-\\d{3}-\\d{4}',text)) #r used as text use as pettern for reg ext, not backslash\n",
    "phne_patter=re.compile(r'(\\d{3})-(\\d{3})-(\\d{4})') #r'\\d{3}-\\d{3}-\\d{4}' compile each single code, d{3}, () indicate group of pattern, take 3 pattern and complei them\n",
    "#into single pattern and call grouping indivisually\n",
    "print(re.search(phne_patter,text).group(2)) # i wanted 2nd group\n",
    "print(re.search(r'cat|dog','this is a dog'))#search or condition , use pipe\n",
    "print(re.findall(r'.at','the cat in the hat sat here'))#wildcard . , means anything\n",
    "print(re.findall(r'^\\d','1 i have 1 parrot and 5 carrot')) # ^ carrot symbolstarts with,entire text start with 1\n",
    "print(re.findall(r'\\d$','1 i have 1 parrot and 5')) #  $ end  with,entire text end with 1\n",
    "print(re.findall(r'[^\\d]','there are 34 numer and 5 inside , 10 outside')) #[] whatever you wnt to exclude, here dont' want to include numbr\n",
    "print(re.findall(r'[^\\d]+','there are 34 numer and 5 inside , 10 outside')) #[] whatever you wnt to exclude, + menas 1 or more, group of number exlude it\n",
    "print(re.findall(r'[^.!?]+','this is string but it is puntuation. how can remove it?'))#don't include special chars\n",
    "#[] brace also allow you to combine things togetther\n",
    "print(re.findall(r'[\\w]+-[\\w]+','find hypen-word in sentent but dont know how long-len is')) #\\w is alpha numeric\n",
    "#() use to include multipe option\n",
    "print(re.findall(r'cat(fish|nap)','whould you like some catfish or want to take catnap'))"
   ]
  },
  {
   "cell_type": "code",
   "execution_count": 221,
   "id": "5989c638-fd11-4800-99eb-3fd2fac70b9c",
   "metadata": {},
   "outputs": [
    {
     "name": "stdout",
     "output_type": "stream",
     "text": [
      "6.508827209472656e-05\n",
      "5.984306335449219e-05\n"
     ]
    }
   ],
   "source": [
    "def func_one(n):\n",
    "    return [str(n) for n in range(1,10)]\n",
    "def func_two(n):\n",
    "    return list(map(str,range(1,10)))\n",
    "#check which func run faster\n",
    "import time\n",
    "start_time=time.time()\n",
    "result=func_one(100000)\n",
    "end_time=time.time()\n",
    "elapsed_time=end_time-start_time #in sec\n",
    "print(elapsed_time)\n",
    "start_time=time.time()\n",
    "result=func_two(100000)\n",
    "end_time=time.time()\n",
    "elapsed_time=end_time-start_time #in sec\n",
    "print(elapsed_time)\n",
    "#func2 is slightly faster"
   ]
  },
  {
   "cell_type": "code",
   "execution_count": 229,
   "id": "d703d1ad-4cf7-4b0d-827a-d7603bd1405d",
   "metadata": {},
   "outputs": [
    {
     "data": {
      "text/plain": [
       "0.09790087500005029"
      ]
     },
     "execution_count": 229,
     "metadata": {},
     "output_type": "execute_result"
    }
   ],
   "source": [
    "import timeit #run statment over and over again\n",
    "stmt=''' \n",
    "func_one(100)\n",
    "'''\n",
    "setup=''' \n",
    "def func_one(n):\n",
    "    return [str(n) for n in range(1,10)]\n",
    "'''\n",
    "timeit.timeit(stmt,setup,number=100000) #run it for 100,000 times"
   ]
  },
  {
   "cell_type": "code",
   "execution_count": 227,
   "id": "81aadc05-2677-4585-810c-53fecd490055",
   "metadata": {},
   "outputs": [
    {
     "data": {
      "text/plain": [
       "0.08950237500539515"
      ]
     },
     "execution_count": 227,
     "metadata": {},
     "output_type": "execute_result"
    }
   ],
   "source": [
    "stmt2=''' \n",
    "func_two(100)\n",
    "'''\n",
    "setup2=''' \n",
    "def func_two(n):\n",
    "    return list(map(str,range(1,10)))\n",
    "'''\n",
    "timeit.timeit(stmt2,setup2,number=100000) #run it for 100,000 times"
   ]
  },
  {
   "cell_type": "code",
   "execution_count": 231,
   "id": "12f39301-4c4e-41c0-b701-f0283ef9684c",
   "metadata": {},
   "outputs": [
    {
     "name": "stdout",
     "output_type": "stream",
     "text": [
      "484 ns ± 10 ns per loop (mean ± std. dev. of 7 runs, 1,000,000 loops each)\n"
     ]
    }
   ],
   "source": [
    "%%timeit  #built in notebook\n",
    "func_one(100)"
   ]
  },
  {
   "cell_type": "code",
   "execution_count": 233,
   "id": "4ffb8326-b69b-4f8d-9336-827bc9dcce04",
   "metadata": {},
   "outputs": [],
   "source": [
    "f1=open('onefile.txt','w+')\n",
    "f1.write('one file')\n",
    "f1.close()\n",
    "f1=open('twofile.txt','w+')\n",
    "f1.write('two file')\n",
    "f1.close()\n",
    "import zipfile\n",
    "compress_file=zipfile.ZipFile('new_file.zip','w') #take zip file and write to it\n",
    "compress_file.write('onefile.txt',compress_type=zipfile.ZIP_DEFLATED)\n",
    "compress_file.write('twofile.txt',compress_type=zipfile.ZIP_DEFLATED)\n",
    "compress_file.close()\n"
   ]
  },
  {
   "cell_type": "code",
   "execution_count": 235,
   "id": "012a6f38-ea67-41f8-8d16-80bc84c1b26c",
   "metadata": {},
   "outputs": [],
   "source": [
    "#extract from varaible \n",
    "zip_obj=zipfile.ZipFile('new_file.zip','r')\n",
    "zip_obj.extractall('unzip-folder-name')"
   ]
  },
  {
   "cell_type": "code",
   "execution_count": 237,
   "id": "d7e9001a-f5f6-477d-a433-40dcece1b8cd",
   "metadata": {},
   "outputs": [
    {
     "name": "stdout",
     "output_type": "stream",
     "text": [
      "one file\n"
     ]
    }
   ],
   "source": [
    "import shutil\n",
    "shutil.unpack_archive('new_file.zip','new-loc','zip') #folder: new-loc, forma is zip\n",
    "with open('onefile.txt') as f:\n",
    "    content=f.read()\n",
    "    print(content)"
   ]
  },
  {
   "cell_type": "code",
   "execution_count": 253,
   "id": "d8b83a19-81a7-4f96-bad2-55c991000111",
   "metadata": {},
   "outputs": [
    {
     "name": "stdout",
     "output_type": "stream",
     "text": [
      "[<title>Example Domain</title>]\n",
      "This domain is for use in illustrative examples in documents. You may use this\n",
      "    domain in literature without prior coordination or asking for permission.\n"
     ]
    }
   ],
   "source": [
    "import requests\n",
    "import bs4\n",
    "result=requests.get('https://example.com')\n",
    "type(result)\n",
    "soup=bs4.BeautifulSoup(result.text,'lxml') #beautiful soup use lxml on backend to figure out html and css class, ids , \n",
    "print(soup.select('title'))\n",
    "print(soup.select('p')[0].getText())\n",
    "print(soup.select('div > span')[0].getText()) #span within div , no element within"
   ]
  },
  {
   "cell_type": "code",
   "execution_count": 259,
   "id": "001752be-fc17-4baf-a117-4163266389ff",
   "metadata": {},
   "outputs": [
    {
     "name": "stdout",
     "output_type": "stream",
     "text": [
      "//upload.wikimedia.org/wikipedia/commons/thumb/5/59/Jonas_Salk_candid.jpg/220px-Jonas_Salk_candid.jpg\n"
     ]
    }
   ],
   "source": [
    "result=requests.get('https://en.wikipedia.org/wiki/Jonas_Salk')\n",
    "soup=bs4.BeautifulSoup(result.text,'lxml')\n",
    "print(soup.select('.mw-default-size img.mw-file-element')[0]['src']) #below select cell> click on run menu>cell type>change to mark down cell type"
   ]
  },
  {
   "cell_type": "markdown",
   "id": "c164b81e-5046-4586-8b34-84790fa4fe8f",
   "metadata": {
    "scrolled": true
   },
   "source": [
    "<img src=\"//upload.wikimedia.org/wikipedia/commons/thumb/5/59/Jonas_Salk_candid.jpg/220px-Jonas_Salk_candid.jpg\"/>"
   ]
  },
  {
   "cell_type": "code",
   "execution_count": 266,
   "id": "d36c2e97-8751-40fc-98ee-dc17f0403fb7",
   "metadata": {},
   "outputs": [],
   "source": [
    "image_link=requests.get('https://upload.wikimedia.org/wikipedia/commons/thumb/5/59/Jonas_Salk_candid.jpg/220px-Jonas_Salk_candid.jpg')\n",
    "image_link.content\n",
    "my_comp_image=open('my_im.jpg','wb') #write binary\n",
    "my_comp_image.write(image_link.content)\n",
    "my_comp_image.close() #file will be create at local loc"
   ]
  },
  {
   "cell_type": "code",
   "execution_count": 294,
   "id": "af3d8214-b5d7-4994-be98-293b355c6014",
   "metadata": {},
   "outputs": [
    {
     "name": "stdout",
     "output_type": "stream",
     "text": [
      "['Starving Hearts (Triangular Trade Trilogy, #1)', 'Libertarianism for Beginners', \"It's Only the Himalayas\", 'How Music Works', 'Maude (1883-1993):She Grew Up with the country', \"You can't bury them all: Poems\", 'Reasons to Stay Alive', 'Without Borders (Wanderlove #1)', 'Soul Reader', 'Security', 'Saga, Volume 5 (Saga (Collected Editions) #5)', 'Reskilling America: Learning to Labor in the Twenty-First Century', 'Political Suicide: Missteps, Peccadilloes, Bad Calls, Backroom Hijinx, Sordid Pasts, Rotten Breaks, and Just Plain Dumb Mistakes in the Annals of American Politics', 'Obsidian (Lux #1)', 'My Paris Kitchen: Recipes and Stories', 'Masks and Shadows', 'Lumberjanes, Vol. 2: Friendship to the Max (Lumberjanes #5-8)', 'Lumberjanes Vol. 3: A Terrible Plan (Lumberjanes #9-12)', 'Judo: Seven Steps to Black Belt (an Introductory Guide for Beginners)', 'I Hate Fairyland, Vol. 1: Madly Ever After (I Hate Fairyland (Compilations) #1-5)', 'Giant Days, Vol. 2 (Giant Days #5-8)', 'Everydata: The Misinformation Hidden in the Little Data You Consume Every Day', \"Don't Be a Jerk: And Other Practical Advice from Dogen, Japan's Greatest Zen Master\", 'Bossypants', 'Bitch Planet, Vol. 1: Extraordinary Machine (Bitch Planet (Collected Editions))', 'Avatar: The Last Airbender: Smoke and Shadow, Part 3 (Smoke and Shadow #3)', 'Tuesday Nights in 1980', 'The Psychopath Test: A Journey Through the Madness Industry', 'The Power of Now: A Guide to Spiritual Enlightenment', \"The Omnivore's Dilemma: A Natural History of Four Meals\", 'The Love and Lemons Cookbook: An Apple-to-Zucchini Celebration of Impromptu Cooking', 'The Girl on the Train', 'The Emerald Mystery', 'The Argonauts', 'Suddenly in Love (Lake Haven #1)', 'Soft Apocalypse', \"So You've Been Publicly Shamed\", 'Shoe Dog: A Memoir by the Creator of NIKE', 'Louisa: The Extraordinary Life of Mrs. Adams', 'Large Print Heart of the Pride', 'Grumbles', 'Chasing Heaven: What Dying Taught Me About Living', 'Becoming Wise: An Inquiry into the Mystery and Art of Living', 'Beauty Restored (Riley Family Legacy Novellas #3)', 'Batman: The Long Halloween (Batman)', \"Ayumi's Violin\", 'Wild Swans', \"What's It Like in Space?: Stories from Astronauts Who've Been There\", 'Until Friday Night (The Field Party #1)', 'Unbroken: A World War II Story of Survival, Resilience, and Redemption', 'Twenty Yawns', 'Through the Woods', 'This Is Where It Ends', 'The Year of Magical Thinking', 'The Last Mile (Amos Decker #2)', 'The Immortal Life of Henrietta Lacks', 'The Hidden Oracle (The Trials of Apollo #1)', 'The Guilty (Will Robie #4)', 'Red Hood/Arsenal, Vol. 1: Open for Business (Red Hood/Arsenal #1)', 'Once Was a Time', 'No Dream Is Too High: Life Lessons From a Man Who Walked on the Moon', 'Naruto (3-in-1 Edition), Vol. 14: Includes Vols. 40, 41 & 42 (Naruto: Omnibus #14)', 'More Than Music (Chasing the Dream #1)', 'Lowriders to the Center of the Earth (Lowriders in Space #2)', 'Eat Fat, Get Thin', 'Doctor Sleep (The Shining #2)', 'Crazy Love: Overwhelmed by a Relentless God', 'Carrie', 'Batman: Europa', 'Angels Walking (Angels Walking #1)', 'Adulthood Is a Myth: A \"Sarah\\'s Scribbles\" Collection', 'A Study in Scarlet (Sherlock Holmes #1)', 'A Series of Catastrophes and Miracles: A True Story of Love, Science, and Cancer', \"A People's History of the United States\", 'My Kitchen Year: 136 Recipes That Saved My Life', 'The Lonely City: Adventures in the Art of Being Alone', 'The Dinner Party', 'Stars Above (The Lunar Chronicles #4.5)', 'Love, Lies and Spies']\n"
     ]
    }
   ],
   "source": [
    "import requests\n",
    "import bs4\n",
    "page_url='https://books.toscrape.com/catalogue/page-{}.html'\n",
    "\n",
    "two_start_titles=[]\n",
    "for i in range(1,20):\n",
    "    result=requests.get(page_url.format(i))\n",
    "    soup=bs4.BeautifulSoup(result.text,'lxml')\n",
    "    product=soup.select('.product_pod')\n",
    "    for book in product:\n",
    "        select_book=book.select('.star-rating.Two')\n",
    "        if len(select_book)>0 : #not an empty list\n",
    "           two_start_titles.append(book.select('a')[1]['title'])\n",
    "print(two_start_titles)"
   ]
  },
  {
   "cell_type": "code",
   "execution_count": null,
   "id": "6d7e0d1b-d7c2-4438-9a4e-3e1e3ac25da6",
   "metadata": {},
   "outputs": [],
   "source": []
  }
 ],
 "metadata": {
  "kernelspec": {
   "display_name": "Python [conda env:base] *",
   "language": "python",
   "name": "conda-base-py"
  },
  "language_info": {
   "codemirror_mode": {
    "name": "ipython",
    "version": 3
   },
   "file_extension": ".py",
   "mimetype": "text/x-python",
   "name": "python",
   "nbconvert_exporter": "python",
   "pygments_lexer": "ipython3",
   "version": "3.12.7"
  }
 },
 "nbformat": 4,
 "nbformat_minor": 5
}
