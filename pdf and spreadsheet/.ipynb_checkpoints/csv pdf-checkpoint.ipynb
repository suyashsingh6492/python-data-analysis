{
 "cells": [
  {
   "cell_type": "code",
   "execution_count": 15,
   "id": "818ddfea-5d23-4af9-82bb-edadd8e48cde",
   "metadata": {},
   "outputs": [
    {
     "name": "stdout",
     "output_type": "stream",
     "text": [
      "['id', 'first_name', 'last_name', 'email', 'gender', 'ip_address', 'city']\n",
      "['1', 'Joseph', 'Zaniolini', 'jzaniolini0@simplemachines.org', 'Male', '163.168.68.132', 'Pedro Leopoldo']\n",
      "['2', 'Freida', 'Drillingcourt', 'fdrillingcourt1@umich.edu', 'Female', '97.212.102.79', 'Buri']\n",
      "['3', 'Nanni', 'Herity', 'nherity2@statcounter.com', 'Female', '145.151.178.98', 'Claver']\n",
      "['4', 'Orazio', 'Frayling', 'ofrayling3@economist.com', 'Male', '25.199.143.143', 'Kungur']\n"
     ]
    }
   ],
   "source": [
    "import csv\n",
    "data=open('example.csv',encoding='utf-8')\n",
    "csv_reader=csv.reader(data)\n",
    "data_lines=list(csv_reader)\n",
    "data_lines\n",
    "for line in data_lines[:5]: # from 0 to row no 5\n",
    "    print(line)\n",
    "data_lines[10]\n",
    "data.close()"
   ]
  },
  {
   "cell_type": "code",
   "execution_count": 17,
   "id": "5d7a412c-1ed8-4df2-99df-017f1c0291e5",
   "metadata": {},
   "outputs": [
    {
     "data": {
      "text/plain": [
       "['jzaniolini0@simplemachines.org',\n",
       " 'fdrillingcourt1@umich.edu',\n",
       " 'nherity2@statcounter.com',\n",
       " 'ofrayling3@economist.com',\n",
       " 'jmurrison4@cbslocal.com',\n",
       " 'lgamet5@list-manage.com',\n",
       " 'dhowatt6@amazon.com',\n",
       " 'kherion7@amazon.com',\n",
       " 'chedworth8@china.com.cn',\n",
       " 'hgasquoine9@google.ru',\n",
       " 'ftarra@shareasale.com',\n",
       " 'abathb@umn.edu',\n",
       " 'lchastangc@goo.gl',\n",
       " 'cceried@yale.edu']"
      ]
     },
     "execution_count": 17,
     "metadata": {},
     "output_type": "execute_result"
    }
   ],
   "source": [
    "all_emails=[]\n",
    "for line in data_lines[1:15]:\n",
    "    all_emails.append(line[3])\n",
    "all_emails\n",
    "    "
   ]
  },
  {
   "cell_type": "code",
   "execution_count": 21,
   "id": "5b2b2cf8-fa10-4e5d-a62e-7af1000d9330",
   "metadata": {},
   "outputs": [],
   "source": [
    "file_to_output=open('to_save_file.csv',mode='w',newline='')\n",
    "csv_writer=csv.writer(file_to_output,delimiter=',')\n",
    "csv_writer.writerows(data_lines[1:10])\n",
    "csv_writer.writerows([[1,2,3],[4,5,6]])\n",
    "file_to_output.close()\n"
   ]
  },
  {
   "cell_type": "code",
   "execution_count": 23,
   "id": "f4e4306c-7fda-4ff8-89e2-78941576a11f",
   "metadata": {},
   "outputs": [
    {
     "data": {
      "text/plain": [
       "[['1',\n",
       "  'Joseph',\n",
       "  'Zaniolini',\n",
       "  'jzaniolini0@simplemachines.org',\n",
       "  'Male',\n",
       "  '163.168.68.132',\n",
       "  'Pedro Leopoldo'],\n",
       " ['2',\n",
       "  'Freida',\n",
       "  'Drillingcourt',\n",
       "  'fdrillingcourt1@umich.edu',\n",
       "  'Female',\n",
       "  '97.212.102.79',\n",
       "  'Buri'],\n",
       " ['3',\n",
       "  'Nanni',\n",
       "  'Herity',\n",
       "  'nherity2@statcounter.com',\n",
       "  'Female',\n",
       "  '145.151.178.98',\n",
       "  'Claver'],\n",
       " ['4',\n",
       "  'Orazio',\n",
       "  'Frayling',\n",
       "  'ofrayling3@economist.com',\n",
       "  'Male',\n",
       "  '25.199.143.143',\n",
       "  'Kungur'],\n",
       " ['5',\n",
       "  'Julianne',\n",
       "  'Murrison',\n",
       "  'jmurrison4@cbslocal.com',\n",
       "  'Female',\n",
       "  '10.186.243.144',\n",
       "  'Sainte-Luce-sur-Loire'],\n",
       " ['6',\n",
       "  'Lucy',\n",
       "  'Gamet',\n",
       "  'lgamet5@list-manage.com',\n",
       "  'Female',\n",
       "  '10.151.93.36',\n",
       "  'Pak Phli'],\n",
       " ['7',\n",
       "  'Dyana',\n",
       "  'Howatt',\n",
       "  'dhowatt6@amazon.com',\n",
       "  'Female',\n",
       "  '224.169.61.29',\n",
       "  'Palmares'],\n",
       " ['8',\n",
       "  'Kassey',\n",
       "  'Herion',\n",
       "  'kherion7@amazon.com',\n",
       "  'Female',\n",
       "  '245.51.154.79',\n",
       "  'Zákynthos'],\n",
       " ['9',\n",
       "  'Chrissy',\n",
       "  'Hedworth',\n",
       "  'chedworth8@china.com.cn',\n",
       "  'Male',\n",
       "  '124.222.93.57',\n",
       "  'Boevange-sur-Attert'],\n",
       " ['1', '2', '3'],\n",
       " ['4', '5', '6']]"
      ]
     },
     "execution_count": 23,
     "metadata": {},
     "output_type": "execute_result"
    }
   ],
   "source": [
    "data=open('to_save_file.csv',encoding='utf-8')\n",
    "csv_reader=csv.reader(data)\n",
    "data_lines=list(csv_reader)\n",
    "data_lines\n"
   ]
  },
  {
   "cell_type": "code",
   "execution_count": 41,
   "id": "2dc2ab9d-cc44-4f38-968b-392cd082d1d6",
   "metadata": {},
   "outputs": [
    {
     "name": "stdout",
     "output_type": "stream",
     "text": [
      "Business Proposal The Revolution is Coming Leverage agile frameworks to provide a robust synopsis for high level overviews. Iterative approaches to corporate strategy foster collaborative thinking to further the overall value proposition. Organically grow the holistic world view of disruptive innovation via workplace diversity and empowerment. Bring to the table win-win survival strategies to ensure proactive domination. At the end of the day, going forward, a new normal that has evolved from generation X is on the runway heading towards a streamlined cloud solution. User generated content in real-time will have multiple touchpoints for offshoring. Capitalize on low hanging fruit to identify a ballpark value added activity to beta test. Override the digital divide with additional clickthroughs from DevOps. Nanotechnology immersion along the information highway will close the loop on focusing solely on the bottom line. Podcasting operational change management inside of workﬂows to establish a framework. Taking seamless key performance indicators ofﬂine to maximise the long tail. Keeping your eye on the ball while performing a deep dive on the start-up mentality to derive convergence on cross-platform integration. Collaboratively administrate empowered markets via plug-and-play networks. Dynamically procrastinate B2C users after installed base beneﬁts. Dramatically visualize customer directed convergence without revolutionary ROI. Efﬁciently unleash cross-media information without cross-media value. Quickly maximize timely deliverables for real-time schemas. Dramatically maintain clicks-and-mortar solutions without functional solutions. BUSINESS PROPOSAL!1\n"
     ]
    }
   ],
   "source": [
    "import PyPDF2\n",
    "f=open('Working_Business_Proposal.pdf','rb')\n",
    "pdf_reader=PyPDF2.PdfReader(f)\n",
    "len(pdf_reader.pages)\n",
    "page_1=pdf_reader.pages[0]\n",
    "page_1_text=page_1.extract_text()\n",
    "f.close()\n",
    "print(page_1_text)"
   ]
  },
  {
   "cell_type": "code",
   "execution_count": 47,
   "id": "ab6cbf62-934d-44cb-a7a8-b66b4f41e0af",
   "metadata": {},
   "outputs": [
    {
     "data": {
      "text/plain": [
       "(220, b'2.0.0 Ready to start TLS')"
      ]
     },
     "execution_count": 47,
     "metadata": {},
     "output_type": "execute_result"
    }
   ],
   "source": [
    "import smtplib\n",
    "smpt_object=smtplib.SMTP('smtp.gmail.com',587)\n",
    "smpt_object.ehlo()\n",
    "smpt_object.starttls() #enable 2 step verification in google ,signin using app password"
   ]
  },
  {
   "cell_type": "code",
   "execution_count": 51,
   "id": "7e883cad-bfcd-481b-96c7-e6cd13522246",
   "metadata": {},
   "outputs": [
    {
     "name": "stdin",
     "output_type": "stream",
     "text": [
      "Enter the password ········\n",
      "enter user name ········\n"
     ]
    },
    {
     "ename": "SMTPAuthenticationError",
     "evalue": "(535, b'5.7.8 Username and Password not accepted. For more information, go to\\n5.7.8  https://support.google.com/mail/?p=BadCredentials d2e1a72fcca58-737116b1103sm4868653b3a.167 - gsmtp')",
     "output_type": "error",
     "traceback": [
      "\u001b[0;31m---------------------------------------------------------------------------\u001b[0m",
      "\u001b[0;31mSMTPAuthenticationError\u001b[0m                   Traceback (most recent call last)",
      "Cell \u001b[0;32mIn[51], line 4\u001b[0m\n\u001b[1;32m      2\u001b[0m input_passowrd \u001b[38;5;241m=\u001b[39m getpass\u001b[38;5;241m.\u001b[39mgetpass(\u001b[38;5;124m'\u001b[39m\u001b[38;5;124mEnter the password\u001b[39m\u001b[38;5;124m'\u001b[39m)\n\u001b[1;32m      3\u001b[0m inputuser\u001b[38;5;241m=\u001b[39mgetpass\u001b[38;5;241m.\u001b[39mgetpass(\u001b[38;5;124m'\u001b[39m\u001b[38;5;124menter user name\u001b[39m\u001b[38;5;124m'\u001b[39m)\n\u001b[0;32m----> 4\u001b[0m smpt_object\u001b[38;5;241m.\u001b[39mlogin(inputuser,input_passowrd)\n\u001b[1;32m      5\u001b[0m from_address\u001b[38;5;241m=\u001b[39m\u001b[38;5;124m'\u001b[39m\u001b[38;5;124msuyashs52@gmail.com\u001b[39m\u001b[38;5;124m'\u001b[39m\n\u001b[1;32m      6\u001b[0m to_address\u001b[38;5;241m=\u001b[39m\u001b[38;5;124m'\u001b[39m\u001b[38;5;124memail@gmail.com\u001b[39m\u001b[38;5;124m'\u001b[39m\n",
      "File \u001b[0;32m/opt/anaconda3/lib/python3.12/smtplib.py:750\u001b[0m, in \u001b[0;36mSMTP.login\u001b[0;34m(self, user, password, initial_response_ok)\u001b[0m\n\u001b[1;32m    747\u001b[0m         last_exception \u001b[38;5;241m=\u001b[39m e\n\u001b[1;32m    749\u001b[0m \u001b[38;5;66;03m# We could not login successfully.  Return result of last attempt.\u001b[39;00m\n\u001b[0;32m--> 750\u001b[0m \u001b[38;5;28;01mraise\u001b[39;00m last_exception\n",
      "File \u001b[0;32m/opt/anaconda3/lib/python3.12/smtplib.py:739\u001b[0m, in \u001b[0;36mSMTP.login\u001b[0;34m(self, user, password, initial_response_ok)\u001b[0m\n\u001b[1;32m    737\u001b[0m method_name \u001b[38;5;241m=\u001b[39m \u001b[38;5;124m'\u001b[39m\u001b[38;5;124mauth_\u001b[39m\u001b[38;5;124m'\u001b[39m \u001b[38;5;241m+\u001b[39m authmethod\u001b[38;5;241m.\u001b[39mlower()\u001b[38;5;241m.\u001b[39mreplace(\u001b[38;5;124m'\u001b[39m\u001b[38;5;124m-\u001b[39m\u001b[38;5;124m'\u001b[39m, \u001b[38;5;124m'\u001b[39m\u001b[38;5;124m_\u001b[39m\u001b[38;5;124m'\u001b[39m)\n\u001b[1;32m    738\u001b[0m \u001b[38;5;28;01mtry\u001b[39;00m:\n\u001b[0;32m--> 739\u001b[0m     (code, resp) \u001b[38;5;241m=\u001b[39m \u001b[38;5;28mself\u001b[39m\u001b[38;5;241m.\u001b[39mauth(\n\u001b[1;32m    740\u001b[0m         authmethod, \u001b[38;5;28mgetattr\u001b[39m(\u001b[38;5;28mself\u001b[39m, method_name),\n\u001b[1;32m    741\u001b[0m         initial_response_ok\u001b[38;5;241m=\u001b[39minitial_response_ok)\n\u001b[1;32m    742\u001b[0m     \u001b[38;5;66;03m# 235 == 'Authentication successful'\u001b[39;00m\n\u001b[1;32m    743\u001b[0m     \u001b[38;5;66;03m# 503 == 'Error: already authenticated'\u001b[39;00m\n\u001b[1;32m    744\u001b[0m     \u001b[38;5;28;01mif\u001b[39;00m code \u001b[38;5;129;01min\u001b[39;00m (\u001b[38;5;241m235\u001b[39m, \u001b[38;5;241m503\u001b[39m):\n",
      "File \u001b[0;32m/opt/anaconda3/lib/python3.12/smtplib.py:662\u001b[0m, in \u001b[0;36mSMTP.auth\u001b[0;34m(self, mechanism, authobject, initial_response_ok)\u001b[0m\n\u001b[1;32m    660\u001b[0m \u001b[38;5;28;01mif\u001b[39;00m code \u001b[38;5;129;01min\u001b[39;00m (\u001b[38;5;241m235\u001b[39m, \u001b[38;5;241m503\u001b[39m):\n\u001b[1;32m    661\u001b[0m     \u001b[38;5;28;01mreturn\u001b[39;00m (code, resp)\n\u001b[0;32m--> 662\u001b[0m \u001b[38;5;28;01mraise\u001b[39;00m SMTPAuthenticationError(code, resp)\n",
      "\u001b[0;31mSMTPAuthenticationError\u001b[0m: (535, b'5.7.8 Username and Password not accepted. For more information, go to\\n5.7.8  https://support.google.com/mail/?p=BadCredentials d2e1a72fcca58-737116b1103sm4868653b3a.167 - gsmtp')"
     ]
    }
   ],
   "source": [
    "import getpass\n",
    "input_passowrd = getpass.getpass('Enter the password')\n",
    "inputuser=getpass.getpass('enter user name')\n",
    "smpt_object.login(inputuser,input_passowrd)\n",
    "from_address='suyashs52@gmail.com'\n",
    "to_address='email@gmail.com'\n",
    "subject=input('enter subject line')\n",
    "message=input('enter the body')\n",
    "msg=\"Subject: \"+subject+\"\\n\"+message\n",
    "smpt_object.sendmail(from_address,to_address,msg)\n",
    "smpt_object.quit()"
   ]
  },
  {
   "cell_type": "code",
   "execution_count": 1,
   "id": "74a8a8ea-a998-4662-a046-19dec27b8a89",
   "metadata": {},
   "outputs": [
    {
     "ename": "error",
     "evalue": "b'[AUTHENTICATIONFAILED] Invalid credentials (Failure)'",
     "output_type": "error",
     "traceback": [
      "\u001b[0;31m---------------------------------------------------------------------------\u001b[0m",
      "\u001b[0;31merror\u001b[0m                                     Traceback (most recent call last)",
      "Cell \u001b[0;32mIn[1], line 5\u001b[0m\n\u001b[1;32m      3\u001b[0m email\u001b[38;5;241m=\u001b[39m\u001b[38;5;124m'\u001b[39m\u001b[38;5;124masdf@gmail.com\u001b[39m\u001b[38;5;124m'\u001b[39m\n\u001b[1;32m      4\u001b[0m password\u001b[38;5;241m=\u001b[39m\u001b[38;5;124m'\u001b[39m\u001b[38;5;124masdfasdf\u001b[39m\u001b[38;5;124m'\u001b[39m\n\u001b[0;32m----> 5\u001b[0m m\u001b[38;5;241m.\u001b[39mlogin(email,password)\n\u001b[1;32m      6\u001b[0m m\u001b[38;5;241m.\u001b[39mlist()\n\u001b[1;32m      7\u001b[0m m\u001b[38;5;241m.\u001b[39mselect(\u001b[38;5;124m'\u001b[39m\u001b[38;5;124minbox\u001b[39m\u001b[38;5;124m'\u001b[39m)\n",
      "File \u001b[0;32m/opt/anaconda3/lib/python3.12/imaplib.py:612\u001b[0m, in \u001b[0;36mIMAP4.login\u001b[0;34m(self, user, password)\u001b[0m\n\u001b[1;32m    610\u001b[0m typ, dat \u001b[38;5;241m=\u001b[39m \u001b[38;5;28mself\u001b[39m\u001b[38;5;241m.\u001b[39m_simple_command(\u001b[38;5;124m'\u001b[39m\u001b[38;5;124mLOGIN\u001b[39m\u001b[38;5;124m'\u001b[39m, user, \u001b[38;5;28mself\u001b[39m\u001b[38;5;241m.\u001b[39m_quote(password))\n\u001b[1;32m    611\u001b[0m \u001b[38;5;28;01mif\u001b[39;00m typ \u001b[38;5;241m!=\u001b[39m \u001b[38;5;124m'\u001b[39m\u001b[38;5;124mOK\u001b[39m\u001b[38;5;124m'\u001b[39m:\n\u001b[0;32m--> 612\u001b[0m     \u001b[38;5;28;01mraise\u001b[39;00m \u001b[38;5;28mself\u001b[39m\u001b[38;5;241m.\u001b[39merror(dat[\u001b[38;5;241m-\u001b[39m\u001b[38;5;241m1\u001b[39m])\n\u001b[1;32m    613\u001b[0m \u001b[38;5;28mself\u001b[39m\u001b[38;5;241m.\u001b[39mstate \u001b[38;5;241m=\u001b[39m \u001b[38;5;124m'\u001b[39m\u001b[38;5;124mAUTH\u001b[39m\u001b[38;5;124m'\u001b[39m\n\u001b[1;32m    614\u001b[0m \u001b[38;5;28;01mreturn\u001b[39;00m typ, dat\n",
      "\u001b[0;31merror\u001b[0m: b'[AUTHENTICATIONFAILED] Invalid credentials (Failure)'"
     ]
    }
   ],
   "source": [
    "import imaplib\n",
    "m=imaplib.IMAP4_SSL('imap.gmail.com')\n",
    "email='asdf@gmail.com'\n",
    "password='asdfasdf'\n",
    "m.login(email,password)\n",
    "m.list()\n",
    "m.select('inbox')\n",
    "typ,data=m.search(None,'BEFORE 01-Nov-2025')\n",
    "typ,data=m.search(None,'SUBJECT \"new test python\"')\n",
    "email_id=data[0]\n",
    "result,email_data=m.fetch(email_id,'(RFC822)') #rfc is protocol\n",
    "print(email_data)\n",
    "\n"
   ]
  },
  {
   "cell_type": "code",
   "execution_count": 3,
   "id": "abfb8558-133a-426e-849d-7a94f6fd374f",
   "metadata": {},
   "outputs": [
    {
     "data": {
      "text/plain": [
       "'0xc'"
      ]
     },
     "execution_count": 3,
     "metadata": {},
     "output_type": "execute_result"
    }
   ],
   "source": [
    "hex(12)\n"
   ]
  },
  {
   "cell_type": "code",
   "execution_count": 5,
   "id": "ae21d3e6-39d2-4e51-b722-5d05da542b00",
   "metadata": {},
   "outputs": [
    {
     "data": {
      "text/plain": [
       "'0b11001000'"
      ]
     },
     "execution_count": 5,
     "metadata": {},
     "output_type": "execute_result"
    }
   ],
   "source": [
    "bin(200)"
   ]
  },
  {
   "cell_type": "code",
   "execution_count": 11,
   "id": "650bc094-7cef-418a-b1a1-1e041547ad34",
   "metadata": {},
   "outputs": [
    {
     "data": {
      "text/plain": [
       "1"
      ]
     },
     "execution_count": 11,
     "metadata": {},
     "output_type": "execute_result"
    }
   ],
   "source": [
    "pow(2,4,5) #3rd arg is mod"
   ]
  },
  {
   "cell_type": "code",
   "execution_count": 13,
   "id": "156bf901-b7e9-4267-be83-95eefb2557f4",
   "metadata": {},
   "outputs": [
    {
     "data": {
      "text/plain": [
       "3.14"
      ]
     },
     "execution_count": 13,
     "metadata": {},
     "output_type": "execute_result"
    }
   ],
   "source": [
    "round(3.14359874,2)"
   ]
  },
  {
   "cell_type": "code",
   "execution_count": 19,
   "id": "e109865d-0ae9-4d0a-8ef0-34916b6a7b11",
   "metadata": {},
   "outputs": [
    {
     "name": "stdout",
     "output_type": "stream",
     "text": [
      "Hello world\n",
      "1\n",
      "4\n"
     ]
    }
   ],
   "source": [
    "s='hello world'\n",
    "print(s.capitalize())\n",
    "print(s.count('w'))\n",
    "print(s.find('o'))"
   ]
  },
  {
   "cell_type": "code",
   "execution_count": 25,
   "id": "20a3a713-41a3-4b43-af55-e8856e811b11",
   "metadata": {},
   "outputs": [
    {
     "data": {
      "text/plain": [
       "'mmmmhello worldmmmmm'"
      ]
     },
     "execution_count": 25,
     "metadata": {},
     "output_type": "execute_result"
    }
   ],
   "source": [
    "s.center(20,'m') #2nd is chars only, put s in center"
   ]
  },
  {
   "cell_type": "code",
   "execution_count": 27,
   "id": "6cbbbd47-3d69-48bc-b3f7-3eb5549418a0",
   "metadata": {},
   "outputs": [
    {
     "data": {
      "text/plain": [
       "'hello   world'"
      ]
     },
     "execution_count": 27,
     "metadata": {},
     "output_type": "execute_result"
    }
   ],
   "source": [
    "'hello\\tworld'.expandtabs()"
   ]
  },
  {
   "cell_type": "code",
   "execution_count": 29,
   "id": "0cbb6afe-ec7c-4bae-bead-e6c5d992923a",
   "metadata": {},
   "outputs": [
    {
     "data": {
      "text/plain": [
       "False"
      ]
     },
     "execution_count": 29,
     "metadata": {},
     "output_type": "execute_result"
    }
   ],
   "source": [
    "s.isalnum() #check all are alpha numeric"
   ]
  },
  {
   "cell_type": "code",
   "execution_count": 31,
   "id": "b3ef35f1-62f4-4a98-9396-9c1250abef7a",
   "metadata": {},
   "outputs": [
    {
     "data": {
      "text/plain": [
       "False"
      ]
     },
     "execution_count": 31,
     "metadata": {},
     "output_type": "execute_result"
    }
   ],
   "source": [
    "s.isspace()"
   ]
  },
  {
   "cell_type": "code",
   "execution_count": 35,
   "id": "8fdd9c19-12b7-45e5-a738-875b2968af55",
   "metadata": {},
   "outputs": [
    {
     "data": {
      "text/plain": [
       "True"
      ]
     },
     "execution_count": 35,
     "metadata": {},
     "output_type": "execute_result"
    }
   ],
   "source": [
    "'Hello'.istitle()"
   ]
  },
  {
   "cell_type": "code",
   "execution_count": 37,
   "id": "1927fd70-9a6e-46c8-91e9-6a728c2535e6",
   "metadata": {},
   "outputs": [
    {
     "data": {
      "text/plain": [
       "('h', 'i', 'iamsuyash')"
      ]
     },
     "execution_count": 37,
     "metadata": {},
     "output_type": "execute_result"
    }
   ],
   "source": [
    "'hiiamsuyash'.partition('i') #parition by key return, before ,key, after value"
   ]
  },
  {
   "cell_type": "code",
   "execution_count": null,
   "id": "c57dcdca-bcc8-4fd5-94b8-fbe1af23b1ce",
   "metadata": {},
   "outputs": [],
   "source": [
    "s=set()\n",
    "s.add(1)\n",
    "s.add(2)\n",
    "s.add(1)\n"
   ]
  }
 ],
 "metadata": {
  "kernelspec": {
   "display_name": "Python [conda env:base] *",
   "language": "python",
   "name": "conda-base-py"
  },
  "language_info": {
   "codemirror_mode": {
    "name": "ipython",
    "version": 3
   },
   "file_extension": ".py",
   "mimetype": "text/x-python",
   "name": "python",
   "nbconvert_exporter": "python",
   "pygments_lexer": "ipython3",
   "version": "3.12.7"
  }
 },
 "nbformat": 4,
 "nbformat_minor": 5
}
