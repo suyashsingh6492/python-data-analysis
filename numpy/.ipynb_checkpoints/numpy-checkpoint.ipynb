{
 "cells": [
  {
   "cell_type": "code",
   "execution_count": 1,
   "id": "9e579eb8-5bb1-487d-8828-0a5f13a95cc2",
   "metadata": {},
   "outputs": [
    {
     "data": {
      "text/plain": [
       "array([1, 2, 3, 4, 5])"
      ]
     },
     "execution_count": 1,
     "metadata": {},
     "output_type": "execute_result"
    }
   ],
   "source": [
    "my_list=[1,2,3,4,5]\n",
    "import numpy as np\n",
    "arr=np.array(my_list)\n",
    "arr"
   ]
  },
  {
   "cell_type": "code",
   "execution_count": 5,
   "id": "ae9486e6-c327-4157-bf62-477150b9f707",
   "metadata": {},
   "outputs": [
    {
     "data": {
      "text/plain": [
       "array([[1, 2, 3],\n",
       "       [4, 5, 6],\n",
       "       [7, 8, 9]])"
      ]
     },
     "execution_count": 5,
     "metadata": {},
     "output_type": "execute_result"
    }
   ],
   "source": [
    "my_mat=[[1,2,3],[4,5,6],[7,8,9]]\n",
    "arr=np.array(my_mat)\n",
    "arr"
   ]
  },
  {
   "cell_type": "code",
   "execution_count": 13,
   "id": "1ca95af3-addc-4b7b-b819-823b27dc3add",
   "metadata": {},
   "outputs": [
    {
     "data": {
      "text/plain": [
       "array([[0., 0., 0., 0., 0.],\n",
       "       [0., 0., 0., 0., 0.],\n",
       "       [0., 0., 0., 0., 0.],\n",
       "       [0., 0., 0., 0., 0.]])"
      ]
     },
     "execution_count": 13,
     "metadata": {},
     "output_type": "execute_result"
    }
   ],
   "source": [
    "np.arange(1,10,2) #similar to range funciton\n",
    "np.zeros((4,5)) # generate 0 in array if tuple then 2 d array , 4 rows , 5 colmn"
   ]
  },
  {
   "cell_type": "code",
   "execution_count": 15,
   "id": "3aedc149-21cd-4a13-9597-e1f440478b31",
   "metadata": {},
   "outputs": [
    {
     "data": {
      "text/plain": [
       "array([1., 1., 1., 1., 1., 1., 1., 1., 1., 1.])"
      ]
     },
     "execution_count": 15,
     "metadata": {},
     "output_type": "execute_result"
    }
   ],
   "source": [
    "np.ones(10)"
   ]
  },
  {
   "cell_type": "code",
   "execution_count": 17,
   "id": "1925c0b2-6d4a-4489-8078-9e0fb42d37a0",
   "metadata": {},
   "outputs": [
    {
     "data": {
      "text/plain": [
       "array([0.        , 0.55555556, 1.11111111, 1.66666667, 2.22222222,\n",
       "       2.77777778, 3.33333333, 3.88888889, 4.44444444, 5.        ])"
      ]
     },
     "execution_count": 17,
     "metadata": {},
     "output_type": "execute_result"
    }
   ],
   "source": [
    "np.linspace(0,5,10) # i want 10 evenly space point from 0 to 5"
   ]
  },
  {
   "cell_type": "code",
   "execution_count": 23,
   "id": "1d1b5a6b-4fd3-49b9-8d62-eea4f95f35b2",
   "metadata": {},
   "outputs": [
    {
     "data": {
      "text/plain": [
       "array([[1., 0., 0., 0.],\n",
       "       [0., 1., 0., 0.],\n",
       "       [0., 0., 1., 0.],\n",
       "       [0., 0., 0., 1.]])"
      ]
     },
     "execution_count": 23,
     "metadata": {},
     "output_type": "execute_result"
    }
   ],
   "source": [
    "np.eye(4) #return identity matrix"
   ]
  },
  {
   "cell_type": "code",
   "execution_count": 25,
   "id": "1f623e37-690a-4239-8c4d-07ee74e48772",
   "metadata": {},
   "outputs": [
    {
     "data": {
      "text/plain": [
       "array([0.17066217, 0.96820295, 0.56698288, 0.51166006, 0.21108732,\n",
       "       0.42648303, 0.42207469, 0.98279702, 0.75968731, 0.8229118 ])"
      ]
     },
     "execution_count": 25,
     "metadata": {},
     "output_type": "execute_result"
    }
   ],
   "source": [
    "np.random.rand(10) #populate random sample from uniform distribution over 0 and 1, all are random value"
   ]
  },
  {
   "cell_type": "code",
   "execution_count": 27,
   "id": "29fac9ef-8bbd-4f28-b585-5d48a7dbad36",
   "metadata": {},
   "outputs": [
    {
     "data": {
      "text/plain": [
       "array([[0.52492347, 0.52892512, 0.8055225 , 0.42886252, 0.03076765],\n",
       "       [0.2551376 , 0.26811853, 0.4841416 , 0.32659951, 0.2695239 ],\n",
       "       [0.34042927, 0.37463519, 0.49446635, 0.31889441, 0.57946447],\n",
       "       [0.52149414, 0.64063888, 0.47107104, 0.94900014, 0.11648181],\n",
       "       [0.10992939, 0.48880539, 0.28725783, 0.48990527, 0.48682994]])"
      ]
     },
     "execution_count": 27,
     "metadata": {},
     "output_type": "execute_result"
    }
   ],
   "source": [
    "np.random.rand(5,5) #for 2 d"
   ]
  },
  {
   "cell_type": "code",
   "execution_count": 29,
   "id": "79df608e-9a4e-45a0-8c16-18e05a5d8142",
   "metadata": {},
   "outputs": [
    {
     "data": {
      "text/plain": [
       "array([ 0.50769664,  0.58608128, -1.39813434])"
      ]
     },
     "execution_count": 29,
     "metadata": {},
     "output_type": "execute_result"
    }
   ],
   "source": [
    "np.random.randn(3) #not from uniform distrubution , instead from standard normal distribution center around 0"
   ]
  },
  {
   "cell_type": "code",
   "execution_count": 31,
   "id": "074d9472-7b4e-4bfd-99b8-3448cb6b47df",
   "metadata": {},
   "outputs": [
    {
     "data": {
      "text/plain": [
       "array([[ 1.50295492, -0.26158016,  0.58734112,  1.09885502],\n",
       "       [-0.05603367,  0.3980388 , -2.04006746, -1.54179267],\n",
       "       [ 0.96896728,  0.12109044,  0.44875217, -0.41862005],\n",
       "       [ 0.46920774, -1.10534518, -0.96842287, -1.32601153]])"
      ]
     },
     "execution_count": 31,
     "metadata": {},
     "output_type": "execute_result"
    }
   ],
   "source": [
    "np.random.randn(4,4)"
   ]
  },
  {
   "cell_type": "code",
   "execution_count": 33,
   "id": "4c4a54e7-2199-4c29-b102-9e074ed4f338",
   "metadata": {},
   "outputs": [
    {
     "data": {
      "text/plain": [
       "array([ 2, 73, 19, 42, 95, 82, 40, 43, 11,  5])"
      ]
     },
     "execution_count": 33,
     "metadata": {},
     "output_type": "execute_result"
    }
   ],
   "source": [
    "np.random.randint(1,100,10) # get 10 random int not including 100\n"
   ]
  },
  {
   "cell_type": "code",
   "execution_count": 41,
   "id": "77edd050-e6d2-43bc-bfea-a851b755fbca",
   "metadata": {},
   "outputs": [
    {
     "data": {
      "text/plain": [
       "array([[48, 26, 55, 20, 64],\n",
       "       [52,  9,  7, 49, 60],\n",
       "       [24, 90, 21, 14, 81],\n",
       "       [18, 45, 72, 86, 81],\n",
       "       [13, 45, 38, 87, 68]])"
      ]
     },
     "execution_count": 41,
     "metadata": {},
     "output_type": "execute_result"
    }
   ],
   "source": [
    "arr=np.random.randint(1,100,25)\n",
    "arr.reshape(5,5) #reshape into 2d array of 5 row 5 cols , row*col=no of element"
   ]
  },
  {
   "cell_type": "code",
   "execution_count": 43,
   "id": "ec3c24b5-3481-4698-9d82-849b56d70469",
   "metadata": {},
   "outputs": [
    {
     "data": {
      "text/plain": [
       "90"
      ]
     },
     "execution_count": 43,
     "metadata": {},
     "output_type": "execute_result"
    }
   ],
   "source": [
    "arr.max()"
   ]
  },
  {
   "cell_type": "code",
   "execution_count": 45,
   "id": "385174d9-2675-48a0-a370-9ac67154bf3f",
   "metadata": {},
   "outputs": [
    {
     "data": {
      "text/plain": [
       "11"
      ]
     },
     "execution_count": 45,
     "metadata": {},
     "output_type": "execute_result"
    }
   ],
   "source": [
    "arr.argmax()"
   ]
  },
  {
   "cell_type": "code",
   "execution_count": 49,
   "id": "fa10631c-7661-4a12-9bbe-83a8907a8e68",
   "metadata": {},
   "outputs": [
    {
     "data": {
      "text/plain": [
       "(25,)"
      ]
     },
     "execution_count": 49,
     "metadata": {},
     "output_type": "execute_result"
    }
   ],
   "source": [
    "arr.shape\n"
   ]
  },
  {
   "cell_type": "code",
   "execution_count": 53,
   "id": "3f5c9f5f-f907-4a1e-b49e-e722c3448c84",
   "metadata": {},
   "outputs": [
    {
     "data": {
      "text/plain": [
       "dtype('int64')"
      ]
     },
     "execution_count": 53,
     "metadata": {},
     "output_type": "execute_result"
    }
   ],
   "source": [
    "arr.dtype #data type of array"
   ]
  },
  {
   "cell_type": "code",
   "execution_count": 57,
   "id": "07456e58-d463-49f4-9c3f-294f53e0036f",
   "metadata": {},
   "outputs": [
    {
     "data": {
      "text/plain": [
       "array([200, 200, 100,   3,   4,   5,   6,   7,   8,   9,  10])"
      ]
     },
     "execution_count": 57,
     "metadata": {},
     "output_type": "execute_result"
    }
   ],
   "source": [
    "arr=np.arange(0,11)\n",
    "arr[0:3]=100\n",
    "arr1=arr[0:2]\n",
    "arr1[:]=200\n",
    "arr #it is reference not copy use arr.copy() "
   ]
  },
  {
   "cell_type": "code",
   "execution_count": 63,
   "id": "d70a6a65-0f2c-4e56-933e-4743081303e6",
   "metadata": {},
   "outputs": [
    {
     "data": {
      "text/plain": [
       "2"
      ]
     },
     "execution_count": 63,
     "metadata": {},
     "output_type": "execute_result"
    }
   ],
   "source": [
    "arr=[[1,2,3],[3,4,5],[5,3,2]]\n",
    "aparr=np.array(arr)\n",
    "aparr[0,1]\n",
    "#arr[0,1] this will give error"
   ]
  },
  {
   "cell_type": "code",
   "execution_count": 67,
   "id": "8b3a745c-290f-418e-9cd8-017aa4ba261e",
   "metadata": {},
   "outputs": [
    {
     "data": {
      "text/plain": [
       "array([[2, 3],\n",
       "       [4, 5]])"
      ]
     },
     "execution_count": 67,
     "metadata": {},
     "output_type": "execute_result"
    }
   ],
   "source": [
    "aparr[:2,1:] #grable untill row 2, and start from column 1"
   ]
  },
  {
   "cell_type": "code",
   "execution_count": 73,
   "id": "de394186-0b07-44fa-b285-6e56a3f84899",
   "metadata": {},
   "outputs": [
    {
     "data": {
      "text/plain": [
       "array([[False, False,  True],\n",
       "       [ True,  True,  True],\n",
       "       [ True,  True, False]])"
      ]
     },
     "execution_count": 73,
     "metadata": {},
     "output_type": "execute_result"
    }
   ],
   "source": [
    "b_arr=aparr>2 # give boolean array and data compare \n",
    "b_arr"
   ]
  },
  {
   "cell_type": "code",
   "execution_count": 81,
   "id": "142a5ef4-c886-4e8f-8227-3504d18a8657",
   "metadata": {},
   "outputs": [
    {
     "data": {
      "text/plain": [
       "array([3, 3, 4, 5, 5, 3])"
      ]
     },
     "execution_count": 81,
     "metadata": {},
     "output_type": "execute_result"
    }
   ],
   "source": [
    "aparr[b_arr] #element that are true"
   ]
  },
  {
   "cell_type": "code",
   "execution_count": 83,
   "id": "172669dc-d839-40f4-ae05-f822d0391858",
   "metadata": {},
   "outputs": [
    {
     "data": {
      "text/plain": [
       "[[1, 2, 3], [3, 4, 5], [5, 3, 2]]"
      ]
     },
     "execution_count": 83,
     "metadata": {},
     "output_type": "execute_result"
    }
   ],
   "source": [
    "arr\n"
   ]
  },
  {
   "cell_type": "code",
   "execution_count": 101,
   "id": "d6036e7a-c15b-4cbb-b039-211210f66b8a",
   "metadata": {},
   "outputs": [
    {
     "name": "stdout",
     "output_type": "stream",
     "text": [
      "[[1, 2, 3], [3, 4, 5], [5, 3, 2], [1, 2, 3], [3, 4, 5], [5, 3, 2]]\n",
      "[[ 2  4  6]\n",
      " [ 6  8 10]\n",
      " [10  6  4]]\n",
      "[[101 102 103]\n",
      " [103 104 105]\n",
      " [105 103 102]]\n"
     ]
    }
   ],
   "source": [
    "print(arr+arr) #will add array, append it \n",
    "print(aparr+aparr) #this will add the element of array, same for -,*\n",
    "print(aparr+100)\n"
   ]
  },
  {
   "cell_type": "code",
   "execution_count": 103,
   "id": "6cc50580-5dca-40dd-b52f-df702c357476",
   "metadata": {},
   "outputs": [
    {
     "data": {
      "text/plain": [
       "array([[1.        , 1.41421356, 1.73205081],\n",
       "       [1.73205081, 2.        , 2.23606798],\n",
       "       [2.23606798, 1.73205081, 1.41421356]])"
      ]
     },
     "execution_count": 103,
     "metadata": {},
     "output_type": "execute_result"
    }
   ],
   "source": [
    "np.sqrt(aparr) # can do **, exponentional np.exp, np.sin, np.log"
   ]
  },
  {
   "cell_type": "code",
   "execution_count": 109,
   "id": "e8ef1ec6-5121-490b-ae1a-2b1bcdfdcb14",
   "metadata": {},
   "outputs": [
    {
     "data": {
      "text/plain": [
       "array([[0, 1, 2],\n",
       "       [3, 4, 5],\n",
       "       [6, 7, 8]])"
      ]
     },
     "execution_count": 109,
     "metadata": {},
     "output_type": "execute_result"
    }
   ],
   "source": [
    "np.arange(9).reshape(3,3)"
   ]
  },
  {
   "cell_type": "code",
   "execution_count": 127,
   "id": "2e76d8e5-8e0b-44ef-97da-c871eeda02f3",
   "metadata": {},
   "outputs": [
    {
     "data": {
      "text/plain": [
       "array([[0.01, 0.02, 0.03, 0.04, 0.05, 0.06, 0.07, 0.08, 0.09, 0.1 ],\n",
       "       [0.11, 0.12, 0.13, 0.14, 0.15, 0.16, 0.17, 0.18, 0.19, 0.2 ],\n",
       "       [0.21, 0.22, 0.23, 0.24, 0.25, 0.26, 0.27, 0.28, 0.29, 0.3 ],\n",
       "       [0.31, 0.32, 0.33, 0.34, 0.35, 0.36, 0.37, 0.38, 0.39, 0.4 ],\n",
       "       [0.41, 0.42, 0.43, 0.44, 0.45, 0.46, 0.47, 0.48, 0.49, 0.5 ],\n",
       "       [0.51, 0.52, 0.53, 0.54, 0.55, 0.56, 0.57, 0.58, 0.59, 0.6 ],\n",
       "       [0.61, 0.62, 0.63, 0.64, 0.65, 0.66, 0.67, 0.68, 0.69, 0.7 ],\n",
       "       [0.71, 0.72, 0.73, 0.74, 0.75, 0.76, 0.77, 0.78, 0.79, 0.8 ],\n",
       "       [0.81, 0.82, 0.83, 0.84, 0.85, 0.86, 0.87, 0.88, 0.89, 0.9 ],\n",
       "       [0.91, 0.92, 0.93, 0.94, 0.95, 0.96, 0.97, 0.98, 0.99, 1.  ]])"
      ]
     },
     "execution_count": 127,
     "metadata": {},
     "output_type": "execute_result"
    }
   ],
   "source": [
    "np.linspace(.01,1,100).reshape(10,10) #linear space .01 to 1 in 100 parts"
   ]
  },
  {
   "cell_type": "code",
   "execution_count": 137,
   "id": "dc9cd402-da82-46d8-b8b9-3fe24f4e5aa4",
   "metadata": {},
   "outputs": [
    {
     "data": {
      "text/plain": [
       "7.211102550927978"
      ]
     },
     "execution_count": 137,
     "metadata": {},
     "output_type": "execute_result"
    }
   ],
   "source": [
    "new_2d_arr=np.arange(1,26).reshape(5,5)\n",
    "np.std(new_2d_arr) #standard deviation"
   ]
  },
  {
   "cell_type": "code",
   "execution_count": 139,
   "id": "5bb809fe-65c6-4e05-b105-109d7fd034d5",
   "metadata": {},
   "outputs": [
    {
     "data": {
      "text/plain": [
       "array([[ 1,  2,  3,  4,  5],\n",
       "       [ 6,  7,  8,  9, 10],\n",
       "       [11, 12, 13, 14, 15],\n",
       "       [16, 17, 18, 19, 20],\n",
       "       [21, 22, 23, 24, 25]])"
      ]
     },
     "execution_count": 139,
     "metadata": {},
     "output_type": "execute_result"
    }
   ],
   "source": [
    "new_2d_arr"
   ]
  },
  {
   "cell_type": "code",
   "execution_count": 159,
   "id": "38723871-695f-4840-921c-fb51e4f14987",
   "metadata": {},
   "outputs": [
    {
     "data": {
      "text/plain": [
       "array([55, 60, 65, 70, 75])"
      ]
     },
     "execution_count": 159,
     "metadata": {},
     "output_type": "execute_result"
    }
   ],
   "source": [
    "new_2d_arr.sum(axis=0) #sum of column of the matrix, 1 for row sum "
   ]
  },
  {
   "cell_type": "code",
   "execution_count": 163,
   "id": "b5e678f5-b431-4a60-bf0b-098ac7870ee6",
   "metadata": {},
   "outputs": [
    {
     "data": {
      "text/plain": [
       "array([[0., 0., 0., 0., 0.],\n",
       "       [0., 0., 0., 0., 0.],\n",
       "       [0., 0., 0., 0., 0.],\n",
       "       [0., 0., 0., 0., 0.],\n",
       "       [0., 0., 0., 0., 0.]])"
      ]
     },
     "execution_count": 163,
     "metadata": {},
     "output_type": "execute_result"
    }
   ],
   "source": [
    "np.zeros((5,5), np.float64)"
   ]
  },
  {
   "cell_type": "code",
   "execution_count": null,
   "id": "9a789813-f454-4b91-a305-b53eb52dfcae",
   "metadata": {},
   "outputs": [],
   "source": []
  }
 ],
 "metadata": {
  "kernelspec": {
   "display_name": "Python [conda env:base] *",
   "language": "python",
   "name": "conda-base-py"
  },
  "language_info": {
   "codemirror_mode": {
    "name": "ipython",
    "version": 3
   },
   "file_extension": ".py",
   "mimetype": "text/x-python",
   "name": "python",
   "nbconvert_exporter": "python",
   "pygments_lexer": "ipython3",
   "version": "3.12.7"
  }
 },
 "nbformat": 4,
 "nbformat_minor": 5
}
