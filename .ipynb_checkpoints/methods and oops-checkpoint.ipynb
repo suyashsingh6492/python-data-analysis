{
 "cells": [
  {
   "cell_type": "code",
   "execution_count": 1,
   "id": "3024c63c-c1ca-49b1-a86d-302f72f173b4",
   "metadata": {},
   "outputs": [],
   "source": [
    "def print_hello(name):\n",
    "    \"\"\"\n",
    "    printing greeting\n",
    "    \"\"\"\n",
    "    print(\"hello \"+name)"
   ]
  },
  {
   "cell_type": "code",
   "execution_count": 5,
   "id": "ea0002d7-c47d-42fa-a7f4-099f58da2f09",
   "metadata": {},
   "outputs": [
    {
     "name": "stdout",
     "output_type": "stream",
     "text": [
      "hello suyash\n"
     ]
    }
   ],
   "source": [
    "print_hello(\"suyash\")"
   ]
  },
  {
   "cell_type": "code",
   "execution_count": null,
   "id": "6c368ee6-88b0-4a67-99b6-1930fa7678a1",
   "metadata": {},
   "outputs": [],
   "source": []
  }
 ],
 "metadata": {
  "kernelspec": {
   "display_name": "Python [conda env:base] *",
   "language": "python",
   "name": "conda-base-py"
  },
  "language_info": {
   "codemirror_mode": {
    "name": "ipython",
    "version": 3
   },
   "file_extension": ".py",
   "mimetype": "text/x-python",
   "name": "python",
   "nbconvert_exporter": "python",
   "pygments_lexer": "ipython3",
   "version": "3.12.7"
  }
 },
 "nbformat": 4,
 "nbformat_minor": 5
}
