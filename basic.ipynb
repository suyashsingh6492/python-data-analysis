{
 "cells": [
  {
   "cell_type": "code",
   "execution_count": 1,
   "id": "023c1bf9-ff40-499e-b287-df1a4b096543",
   "metadata": {},
   "outputs": [
    {
     "data": {
      "text/plain": [
       "2"
      ]
     },
     "execution_count": 1,
     "metadata": {},
     "output_type": "execute_result"
    }
   ],
   "source": [
    "1+1"
   ]
  },
  {
   "cell_type": "code",
   "execution_count": 8,
   "id": "206b3c6b-1541-4d7e-8909-d41b823a572c",
   "metadata": {},
   "outputs": [],
   "source": [
    "myString=\"Hello World\""
   ]
  },
  {
   "cell_type": "code",
   "execution_count": 10,
   "id": "7d59852e-7362-4f2d-a408-ad023c81b2e0",
   "metadata": {},
   "outputs": [
    {
     "data": {
      "text/plain": [
       "'H'"
      ]
     },
     "execution_count": 10,
     "metadata": {},
     "output_type": "execute_result"
    }
   ],
   "source": [
    "myString[0]"
   ]
  },
  {
   "cell_type": "code",
   "execution_count": 12,
   "id": "b531a4f5-57f3-4ab0-acb6-d314ec58a805",
   "metadata": {},
   "outputs": [
    {
     "data": {
      "text/plain": [
       "'d'"
      ]
     },
     "execution_count": 12,
     "metadata": {},
     "output_type": "execute_result"
    }
   ],
   "source": [
    "myString[10]"
   ]
  },
  {
   "cell_type": "code",
   "execution_count": 16,
   "id": "7f608bc3-41eb-44ab-98d4-ff11bb1f3a68",
   "metadata": {},
   "outputs": [
    {
     "data": {
      "text/plain": [
       "'d'"
      ]
     },
     "execution_count": 16,
     "metadata": {},
     "output_type": "execute_result"
    }
   ],
   "source": [
    "myString[-1]"
   ]
  },
  {
   "cell_type": "code",
   "execution_count": 18,
   "id": "3bbfa7ce-59db-4250-b443-9ec42515a045",
   "metadata": {},
   "outputs": [
    {
     "data": {
      "text/plain": [
       "'Hello'"
      ]
     },
     "execution_count": 18,
     "metadata": {},
     "output_type": "execute_result"
    }
   ],
   "source": [
    "myString[0:5]"
   ]
  },
  {
   "cell_type": "code",
   "execution_count": 20,
   "id": "0a5c1002-f367-4653-9cd1-1773d1de0ae6",
   "metadata": {},
   "outputs": [
    {
     "data": {
      "text/plain": [
       "'Hello '"
      ]
     },
     "execution_count": 20,
     "metadata": {},
     "output_type": "execute_result"
    }
   ],
   "source": [
    "myString[0:-5]"
   ]
  },
  {
   "cell_type": "code",
   "execution_count": 24,
   "id": "5730fd51-d788-4ca6-b97a-76a4ee97af42",
   "metadata": {},
   "outputs": [
    {
     "data": {
      "text/plain": [
       "'Hel'"
      ]
     },
     "execution_count": 24,
     "metadata": {},
     "output_type": "execute_result"
    }
   ],
   "source": [
    "myString[:3] #upto not including so Hel not Hell"
   ]
  },
  {
   "cell_type": "code",
   "execution_count": 26,
   "id": "25a80838-f773-448b-806d-0951d670c45a",
   "metadata": {},
   "outputs": [],
   "source": [
    "strs=\"abcdefg\""
   ]
  },
  {
   "cell_type": "code",
   "execution_count": 30,
   "id": "21c13111-bc95-4c5b-b20a-c763d8f612c0",
   "metadata": {},
   "outputs": [
    {
     "data": {
      "text/plain": [
       "'aceg'"
      ]
     },
     "execution_count": 30,
     "metadata": {},
     "output_type": "execute_result"
    }
   ],
   "source": [
    "strs[::2] #step size of 2 , add 2nd chars till last :: means take all letter"
   ]
  },
  {
   "cell_type": "code",
   "execution_count": 32,
   "id": "72903821-9872-4235-ae80-604a9f9638cf",
   "metadata": {},
   "outputs": [
    {
     "data": {
      "text/plain": [
       "'c'"
      ]
     },
     "execution_count": 32,
     "metadata": {},
     "output_type": "execute_result"
    }
   ],
   "source": [
    "strs[2:4:2]"
   ]
  },
  {
   "cell_type": "code",
   "execution_count": 38,
   "id": "6efa6e22-10a6-4ea0-9ba1-86fc678f0e08",
   "metadata": {},
   "outputs": [
    {
     "data": {
      "text/plain": [
       "''"
      ]
     },
     "execution_count": 38,
     "metadata": {},
     "output_type": "execute_result"
    }
   ],
   "source": [
    "strs[0:5:-1] #it reverse, take 1 step backward\n"
   ]
  },
  {
   "cell_type": "code",
   "execution_count": 36,
   "id": "6ffa4b1b-9d01-4d65-9010-785a9070e9cd",
   "metadata": {},
   "outputs": [
    {
     "data": {
      "text/plain": [
       "'gfedcba'"
      ]
     },
     "execution_count": 36,
     "metadata": {},
     "output_type": "execute_result"
    }
   ],
   "source": [
    "strs[::-1] #it reverse, take 1 step backward"
   ]
  },
  {
   "cell_type": "code",
   "execution_count": 40,
   "id": "8ec65fe1-069a-4ee4-8ffe-bec166d68209",
   "metadata": {},
   "outputs": [
    {
     "data": {
      "text/plain": [
       "'Pabcdefg'"
      ]
     },
     "execution_count": 40,
     "metadata": {},
     "output_type": "execute_result"
    }
   ],
   "source": [
    "'P'+strs #string is immutable , do contatenation"
   ]
  },
  {
   "cell_type": "code",
   "execution_count": 44,
   "id": "e824b2d5-6cb1-4746-8705-e89fb9bf062b",
   "metadata": {},
   "outputs": [
    {
     "data": {
      "text/plain": [
       "'abcabcabcabcabcabcabcabcabcabc'"
      ]
     },
     "execution_count": 44,
     "metadata": {},
     "output_type": "execute_result"
    }
   ],
   "source": [
    "'abc'*10 # concatination 10 times\n"
   ]
  },
  {
   "cell_type": "code",
   "execution_count": 54,
   "id": "40ab571d-18a1-41a6-8f32-54dd543fdf84",
   "metadata": {},
   "outputs": [
    {
     "data": {
      "text/plain": [
       "['abcdefg', 'abc']"
      ]
     },
     "execution_count": 54,
     "metadata": {},
     "output_type": "execute_result"
    }
   ],
   "source": [
    "(strs+' abc').split() #split by white space "
   ]
  },
  {
   "cell_type": "code",
   "execution_count": 58,
   "id": "6519d2e6-aedb-41c2-a2fc-3dcb0ddcb1ad",
   "metadata": {},
   "outputs": [
    {
     "data": {
      "text/plain": [
       "['', 'bcdefg ', 'bc']"
      ]
     },
     "execution_count": 58,
     "metadata": {},
     "output_type": "execute_result"
    }
   ],
   "source": [
    "(strs+' abc').split('a') #didn't include a, but split other in list"
   ]
  },
  {
   "cell_type": "code",
   "execution_count": 62,
   "id": "ada4bddc-6a1d-4079-8293-92b7c8750c0c",
   "metadata": {},
   "outputs": [
    {
     "data": {
      "text/plain": [
       "'This is the string  new one'"
      ]
     },
     "execution_count": 62,
     "metadata": {},
     "output_type": "execute_result"
    }
   ],
   "source": [
    "'This is the string {}'.format(' new one')"
   ]
  },
  {
   "cell_type": "code",
   "execution_count": 70,
   "id": "80a66adf-641e-479d-a14a-2796d3fd085f",
   "metadata": {},
   "outputs": [
    {
     "data": {
      "text/plain": [
       "'The thrid, second added '"
      ]
     },
     "execution_count": 70,
     "metadata": {},
     "output_type": "execute_result"
    }
   ],
   "source": [
    "'The {2}, {1} added '.format('first','second','thrid')"
   ]
  },
  {
   "cell_type": "code",
   "execution_count": 72,
   "id": "7b6610ea-7fc1-4987-928e-3b14c9fe8108",
   "metadata": {},
   "outputs": [
    {
     "data": {
      "text/plain": [
       "'fox run on brown'"
      ]
     },
     "execution_count": 72,
     "metadata": {},
     "output_type": "execute_result"
    }
   ],
   "source": [
    "'{q} run on {b}'.format(b='brown',q='fox')"
   ]
  },
  {
   "cell_type": "code",
   "execution_count": 11,
   "id": "48e4a815-daf4-455a-bd2b-6cd9a00e4138",
   "metadata": {},
   "outputs": [],
   "source": [
    "result=100/77"
   ]
  },
  {
   "cell_type": "code",
   "execution_count": 13,
   "id": "e2033f2f-60c9-4f06-9bde-3dfb4832b6cc",
   "metadata": {},
   "outputs": [
    {
     "data": {
      "text/plain": [
       "1.2987012987012987"
      ]
     },
     "execution_count": 13,
     "metadata": {},
     "output_type": "execute_result"
    }
   ],
   "source": [
    "result\n"
   ]
  },
  {
   "cell_type": "code",
   "execution_count": 15,
   "id": "263e0550-4687-4183-b043-dab7e57cec6b",
   "metadata": {},
   "outputs": [
    {
     "data": {
      "text/plain": [
       "'the result was 1.2987012987012987'"
      ]
     },
     "execution_count": 15,
     "metadata": {},
     "output_type": "execute_result"
    }
   ],
   "source": [
    "'the result was {}'.format(result)"
   ]
  },
  {
   "cell_type": "code",
   "execution_count": 17,
   "id": "9dd056ca-5cec-45f4-a0a6-4e758eb42ba6",
   "metadata": {},
   "outputs": [
    {
     "data": {
      "text/plain": [
       "'the result was 1.2987012987012987'"
      ]
     },
     "execution_count": 17,
     "metadata": {},
     "output_type": "execute_result"
    }
   ],
   "source": [
    "'the result was {r}'.format(r=result)\n"
   ]
  },
  {
   "cell_type": "code",
   "execution_count": 19,
   "id": "afd74385-2318-4005-9013-1e97d2539256",
   "metadata": {},
   "outputs": [
    {
     "data": {
      "text/plain": [
       "'the result was      1.299'"
      ]
     },
     "execution_count": 19,
     "metadata": {},
     "output_type": "execute_result"
    }
   ],
   "source": [
    "'the result was {r:10.3f}'.format(r=result) #r:width:precision"
   ]
  },
  {
   "cell_type": "code",
   "execution_count": 25,
   "id": "08302472-2b57-4eee-904d-2c117208b09e",
   "metadata": {},
   "outputs": [
    {
     "data": {
      "text/plain": [
       "'the result was      1.299'"
      ]
     },
     "execution_count": 25,
     "metadata": {},
     "output_type": "execute_result"
    }
   ],
   "source": [
    "f'the result was {result:10.3f}' #new wat to format , pass variable add f in starting call fstring"
   ]
  },
  {
   "cell_type": "code",
   "execution_count": 27,
   "id": "28d26919-0765-4dad-adc1-9d9f6156f155",
   "metadata": {},
   "outputs": [],
   "source": [
    "my_list=[1,2,3]"
   ]
  },
  {
   "cell_type": "code",
   "execution_count": 29,
   "id": "3fecd071-7e8d-4ed5-99dd-49fab44c28e9",
   "metadata": {},
   "outputs": [],
   "source": [
    "my_list=[1,\"string\",1.34]"
   ]
  },
  {
   "cell_type": "code",
   "execution_count": 31,
   "id": "4150bfc7-500d-4b93-ae4c-a5a107b8ef81",
   "metadata": {},
   "outputs": [
    {
     "data": {
      "text/plain": [
       "3"
      ]
     },
     "execution_count": 31,
     "metadata": {},
     "output_type": "execute_result"
    }
   ],
   "source": [
    "len(my_list)\n"
   ]
  },
  {
   "cell_type": "code",
   "execution_count": 35,
   "id": "6a77dacb-94be-4947-a5cc-1246d83bddaa",
   "metadata": {},
   "outputs": [
    {
     "data": {
      "text/plain": [
       "[1, 'string']"
      ]
     },
     "execution_count": 35,
     "metadata": {},
     "output_type": "execute_result"
    }
   ],
   "source": [
    "my_list[0:2]"
   ]
  },
  {
   "cell_type": "code",
   "execution_count": 37,
   "id": "5d060e55-b6b4-459c-9643-f2c8eb9bee18",
   "metadata": {},
   "outputs": [],
   "source": [
    "another=['4',5]"
   ]
  },
  {
   "cell_type": "code",
   "execution_count": 41,
   "id": "05664e6a-9b20-413d-81bd-35bf2b54ebd5",
   "metadata": {},
   "outputs": [
    {
     "data": {
      "text/plain": [
       "[1, 'string', 1.34, '4', 5]"
      ]
     },
     "execution_count": 41,
     "metadata": {},
     "output_type": "execute_result"
    }
   ],
   "source": [
    "my_list+another #this will  concatinate the list, list is mutable"
   ]
  },
  {
   "cell_type": "code",
   "execution_count": 43,
   "id": "2bfb6ad8-f14f-4a79-b2e6-69a8ea01e898",
   "metadata": {},
   "outputs": [],
   "source": [
    "new_list=my_list+another"
   ]
  },
  {
   "cell_type": "code",
   "execution_count": 45,
   "id": "c1eef1ea-624f-4c64-85c4-1236ae4fab27",
   "metadata": {},
   "outputs": [],
   "source": [
    "new_list.append('seven')\n"
   ]
  },
  {
   "cell_type": "code",
   "execution_count": 47,
   "id": "865ddb40-f2ee-4271-b998-eb79339b4aaa",
   "metadata": {},
   "outputs": [
    {
     "data": {
      "text/plain": [
       "[1, 'string', 1.34, '4', 5, 'seven']"
      ]
     },
     "execution_count": 47,
     "metadata": {},
     "output_type": "execute_result"
    }
   ],
   "source": [
    "new_list"
   ]
  },
  {
   "cell_type": "code",
   "execution_count": 49,
   "id": "a6ba0e5e-8b61-45d6-9504-2c71b6429146",
   "metadata": {},
   "outputs": [
    {
     "data": {
      "text/plain": [
       "'seven'"
      ]
     },
     "execution_count": 49,
     "metadata": {},
     "output_type": "execute_result"
    }
   ],
   "source": [
    "new_list.pop() #pop last value in list"
   ]
  },
  {
   "cell_type": "code",
   "execution_count": 51,
   "id": "993a9217-f3c9-48e2-96d7-a453bb0349e5",
   "metadata": {},
   "outputs": [
    {
     "data": {
      "text/plain": [
       "[1, 'string', 1.34, '4', 5]"
      ]
     },
     "execution_count": 51,
     "metadata": {},
     "output_type": "execute_result"
    }
   ],
   "source": [
    "new_list"
   ]
  },
  {
   "cell_type": "code",
   "execution_count": 55,
   "id": "afb72c13-3780-42f7-88a5-ea1522c03680",
   "metadata": {},
   "outputs": [
    {
     "ename": "IndexError",
     "evalue": "pop index out of range",
     "output_type": "error",
     "traceback": [
      "\u001b[0;31m---------------------------------------------------------------------------\u001b[0m",
      "\u001b[0;31mIndexError\u001b[0m                                Traceback (most recent call last)",
      "Cell \u001b[0;32mIn[55], line 1\u001b[0m\n\u001b[0;32m----> 1\u001b[0m new_list\u001b[38;5;241m.\u001b[39mpop(\u001b[38;5;241m10\u001b[39m)\n",
      "\u001b[0;31mIndexError\u001b[0m: pop index out of range"
     ]
    }
   ],
   "source": [
    "new_list.pop(10) #pop at given index -ve index also work\n"
   ]
  },
  {
   "cell_type": "code",
   "execution_count": 57,
   "id": "40ef7d0d-02bb-4c60-948a-ac097ded01db",
   "metadata": {},
   "outputs": [
    {
     "ename": "TypeError",
     "evalue": "'<' not supported between instances of 'str' and 'int'",
     "output_type": "error",
     "traceback": [
      "\u001b[0;31m---------------------------------------------------------------------------\u001b[0m",
      "\u001b[0;31mTypeError\u001b[0m                                 Traceback (most recent call last)",
      "Cell \u001b[0;32mIn[57], line 1\u001b[0m\n\u001b[0;32m----> 1\u001b[0m sort_list\u001b[38;5;241m=\u001b[39mnew_list\u001b[38;5;241m.\u001b[39msort()\n",
      "\u001b[0;31mTypeError\u001b[0m: '<' not supported between instances of 'str' and 'int'"
     ]
    }
   ],
   "source": [
    "sort_list=new_list.sort() #sort method return nothing\n"
   ]
  },
  {
   "cell_type": "code",
   "execution_count": 59,
   "id": "d93a63b9-c903-4626-b55d-31177e9a1652",
   "metadata": {},
   "outputs": [
    {
     "ename": "TypeError",
     "evalue": "'<' not supported between instances of 'str' and 'int'",
     "output_type": "error",
     "traceback": [
      "\u001b[0;31m---------------------------------------------------------------------------\u001b[0m",
      "\u001b[0;31mTypeError\u001b[0m                                 Traceback (most recent call last)",
      "Cell \u001b[0;32mIn[59], line 1\u001b[0m\n\u001b[0;32m----> 1\u001b[0m new_list\u001b[38;5;241m.\u001b[39msort()\n",
      "\u001b[0;31mTypeError\u001b[0m: '<' not supported between instances of 'str' and 'int'"
     ]
    }
   ],
   "source": [
    "new_list.sort()\n"
   ]
  },
  {
   "cell_type": "code",
   "execution_count": 61,
   "id": "1d585e85-f1c1-489f-9f85-a4a85e3da633",
   "metadata": {},
   "outputs": [
    {
     "data": {
      "text/plain": [
       "[1, 'string', 1.34, '4', 5]"
      ]
     },
     "execution_count": 61,
     "metadata": {},
     "output_type": "execute_result"
    }
   ],
   "source": [
    "new_list"
   ]
  },
  {
   "cell_type": "code",
   "execution_count": 215,
   "id": "d2519122-f301-420e-b4dc-a01e36daa204",
   "metadata": {},
   "outputs": [],
   "source": [
    "new_list=[1,2,10,2,103]"
   ]
  },
  {
   "cell_type": "code",
   "execution_count": 65,
   "id": "21167df4-5987-4367-a087-59f33a7337ca",
   "metadata": {},
   "outputs": [],
   "source": [
    "new_list.sort()"
   ]
  },
  {
   "cell_type": "code",
   "execution_count": 67,
   "id": "b5b64070-32aa-45d8-b1e3-f6b3568ada05",
   "metadata": {},
   "outputs": [
    {
     "data": {
      "text/plain": [
       "[1, 2, 2, 10, 103]"
      ]
     },
     "execution_count": 67,
     "metadata": {},
     "output_type": "execute_result"
    }
   ],
   "source": [
    "new_list"
   ]
  },
  {
   "cell_type": "code",
   "execution_count": 217,
   "id": "1c755517-a77f-4ab7-a531-06d3dba0742a",
   "metadata": {},
   "outputs": [
    {
     "data": {
      "text/plain": [
       "[1, 2, 10, 2, 103, 1, 2, 10, 2, 103]"
      ]
     },
     "execution_count": 217,
     "metadata": {},
     "output_type": "execute_result"
    }
   ],
   "source": [
    "new_list*2 #duplicate list 2 times"
   ]
  },
  {
   "cell_type": "code",
   "execution_count": 69,
   "id": "6fe07d3b-468a-4953-be2f-117218802965",
   "metadata": {},
   "outputs": [
    {
     "data": {
      "text/plain": [
       "list"
      ]
     },
     "execution_count": 69,
     "metadata": {},
     "output_type": "execute_result"
    }
   ],
   "source": [
    "type(new_list)"
   ]
  },
  {
   "cell_type": "code",
   "execution_count": 71,
   "id": "71e4a8b0-52af-4b8b-823a-536d94544044",
   "metadata": {},
   "outputs": [
    {
     "ename": "NameError",
     "evalue": "name 'abc' is not defined",
     "output_type": "error",
     "traceback": [
      "\u001b[0;31m---------------------------------------------------------------------------\u001b[0m",
      "\u001b[0;31mNameError\u001b[0m                                 Traceback (most recent call last)",
      "Cell \u001b[0;32mIn[71], line 1\u001b[0m\n\u001b[0;32m----> 1\u001b[0m \u001b[38;5;28mtype\u001b[39m(abc)\n",
      "\u001b[0;31mNameError\u001b[0m: name 'abc' is not defined"
     ]
    }
   ],
   "source": [
    "type(abc)"
   ]
  },
  {
   "cell_type": "code",
   "execution_count": 75,
   "id": "947d4fb9-26ce-43c5-99df-f093430db244",
   "metadata": {},
   "outputs": [
    {
     "data": {
      "text/plain": [
       "NoneType"
      ]
     },
     "execution_count": 75,
     "metadata": {},
     "output_type": "execute_result"
    }
   ],
   "source": [
    "abc=new_list.sort()\n",
    "type(abc) #None is object it is return value of function that return nothing"
   ]
  },
  {
   "cell_type": "code",
   "execution_count": 77,
   "id": "202468eb-ddde-46cf-b468-5700631d8778",
   "metadata": {},
   "outputs": [],
   "source": [
    "abc=new_list"
   ]
  },
  {
   "cell_type": "code",
   "execution_count": 79,
   "id": "437d933d-e2d5-4922-87e0-ef103468294d",
   "metadata": {},
   "outputs": [],
   "source": [
    "new_list.reverse()"
   ]
  },
  {
   "cell_type": "code",
   "execution_count": 83,
   "id": "8802dd98-75e6-465d-b9c6-e591f6df2e1b",
   "metadata": {},
   "outputs": [
    {
     "data": {
      "text/plain": [
       "[103, 10, 2, 2, 1]"
      ]
     },
     "execution_count": 83,
     "metadata": {},
     "output_type": "execute_result"
    }
   ],
   "source": [
    "abc #abc also reversed"
   ]
  },
  {
   "cell_type": "code",
   "execution_count": 85,
   "id": "4ab97f63-8373-4887-9de4-76e939b495c3",
   "metadata": {},
   "outputs": [],
   "source": [
    "my_dic={1:'one','one':'two'}"
   ]
  },
  {
   "cell_type": "code",
   "execution_count": 87,
   "id": "dc4d6528-1486-47a7-b0f5-8fb679f553e6",
   "metadata": {},
   "outputs": [
    {
     "data": {
      "text/plain": [
       "{1: 'one', 'one': 'two'}"
      ]
     },
     "execution_count": 87,
     "metadata": {},
     "output_type": "execute_result"
    }
   ],
   "source": [
    "my_dic"
   ]
  },
  {
   "cell_type": "code",
   "execution_count": 89,
   "id": "2f1d2e5e-7e0b-444f-ac43-0797d59e4f15",
   "metadata": {},
   "outputs": [],
   "source": [
    "my_dic={1:'one','one':'two',1:'new_one'}"
   ]
  },
  {
   "cell_type": "code",
   "execution_count": 91,
   "id": "c9b5d53d-f744-4846-bce6-63a933dc1d17",
   "metadata": {},
   "outputs": [
    {
     "data": {
      "text/plain": [
       "{1: 'new_one', 'one': 'two'}"
      ]
     },
     "execution_count": 91,
     "metadata": {},
     "output_type": "execute_result"
    }
   ],
   "source": [
    "my_dic"
   ]
  },
  {
   "cell_type": "code",
   "execution_count": 93,
   "id": "70435dfd-72b7-408f-9e3a-636363faeaed",
   "metadata": {},
   "outputs": [
    {
     "data": {
      "text/plain": [
       "'new_one'"
      ]
     },
     "execution_count": 93,
     "metadata": {},
     "output_type": "execute_result"
    }
   ],
   "source": [
    "my_dic[1]"
   ]
  },
  {
   "cell_type": "code",
   "execution_count": 95,
   "id": "e04af740-7e92-47aa-ad50-a1b091ed26ba",
   "metadata": {},
   "outputs": [
    {
     "ename": "KeyError",
     "evalue": "'two'",
     "output_type": "error",
     "traceback": [
      "\u001b[0;31m---------------------------------------------------------------------------\u001b[0m",
      "\u001b[0;31mKeyError\u001b[0m                                  Traceback (most recent call last)",
      "Cell \u001b[0;32mIn[95], line 1\u001b[0m\n\u001b[0;32m----> 1\u001b[0m my_dic[\u001b[38;5;124m'\u001b[39m\u001b[38;5;124mtwo\u001b[39m\u001b[38;5;124m'\u001b[39m]\n",
      "\u001b[0;31mKeyError\u001b[0m: 'two'"
     ]
    }
   ],
   "source": [
    "my_dic['two']"
   ]
  },
  {
   "cell_type": "code",
   "execution_count": 99,
   "id": "1c4dacd3-2d78-4bee-9288-6882f45aac49",
   "metadata": {},
   "outputs": [
    {
     "data": {
      "text/plain": [
       "[1, 2, 3]"
      ]
     },
     "execution_count": 99,
     "metadata": {},
     "output_type": "execute_result"
    }
   ],
   "source": [
    "d={'key1':[1,2,3]}\n",
    "my_list=d['key1']\n",
    "my_list"
   ]
  },
  {
   "cell_type": "code",
   "execution_count": 103,
   "id": "cf68667d-8679-4ab8-9fe4-eeca067b9481",
   "metadata": {},
   "outputs": [],
   "source": [
    "my_list[1]='upper'"
   ]
  },
  {
   "cell_type": "code",
   "execution_count": 105,
   "id": "b215f9c8-c5f9-4b37-8f0b-3a6964d91759",
   "metadata": {},
   "outputs": [
    {
     "data": {
      "text/plain": [
       "'UPPER'"
      ]
     },
     "execution_count": 105,
     "metadata": {},
     "output_type": "execute_result"
    }
   ],
   "source": [
    "my_list[1].upper()"
   ]
  },
  {
   "cell_type": "code",
   "execution_count": 107,
   "id": "27113124-cd62-4e88-a0ed-cf8f665a015c",
   "metadata": {},
   "outputs": [],
   "source": [
    "d['key2']=['one']"
   ]
  },
  {
   "cell_type": "code",
   "execution_count": 109,
   "id": "da82c654-e4f9-404d-9c85-dae64918dbf1",
   "metadata": {},
   "outputs": [
    {
     "data": {
      "text/plain": [
       "dict_values([[1, 'upper', 3], ['one']])"
      ]
     },
     "execution_count": 109,
     "metadata": {},
     "output_type": "execute_result"
    }
   ],
   "source": [
    "d.values()"
   ]
  },
  {
   "cell_type": "code",
   "execution_count": 111,
   "id": "f2a33cc4-e87b-4699-bb8e-e19ad16d2f41",
   "metadata": {},
   "outputs": [
    {
     "data": {
      "text/plain": [
       "dict_items([('key1', [1, 'upper', 3]), ('key2', ['one'])])"
      ]
     },
     "execution_count": 111,
     "metadata": {},
     "output_type": "execute_result"
    }
   ],
   "source": [
    "d.items() # get actual pairing\n"
   ]
  },
  {
   "cell_type": "code",
   "execution_count": 113,
   "id": "a084687a-3ab8-4c5c-ab6b-9e6189812c08",
   "metadata": {},
   "outputs": [],
   "source": [
    "tuples=(1,2,3,'one') #similar to list but immutable"
   ]
  },
  {
   "cell_type": "code",
   "execution_count": 115,
   "id": "367afe32-3b6e-443b-a1a8-39d41e45c435",
   "metadata": {},
   "outputs": [
    {
     "data": {
      "text/plain": [
       "(1, 2, 3, 'one')"
      ]
     },
     "execution_count": 115,
     "metadata": {},
     "output_type": "execute_result"
    }
   ],
   "source": [
    "tuples"
   ]
  },
  {
   "cell_type": "code",
   "execution_count": 117,
   "id": "4d04dc17-03d9-4fc9-aefd-a84a8d1af1cd",
   "metadata": {},
   "outputs": [
    {
     "ename": "TypeError",
     "evalue": "'tuple' object does not support item assignment",
     "output_type": "error",
     "traceback": [
      "\u001b[0;31m---------------------------------------------------------------------------\u001b[0m",
      "\u001b[0;31mTypeError\u001b[0m                                 Traceback (most recent call last)",
      "Cell \u001b[0;32mIn[117], line 1\u001b[0m\n\u001b[0;32m----> 1\u001b[0m tuples[\u001b[38;5;241m0\u001b[39m]\u001b[38;5;241m=\u001b[39m\u001b[38;5;124m'\u001b[39m\u001b[38;5;124mone one\u001b[39m\u001b[38;5;124m'\u001b[39m\n",
      "\u001b[0;31mTypeError\u001b[0m: 'tuple' object does not support item assignment"
     ]
    }
   ],
   "source": [
    "tuples[0]='one one' #as immuable so can't do this\n"
   ]
  },
  {
   "cell_type": "code",
   "execution_count": 121,
   "id": "5399459c-eedf-4a8d-86a8-55c15ba0528e",
   "metadata": {},
   "outputs": [
    {
     "data": {
      "text/plain": [
       "1"
      ]
     },
     "execution_count": 121,
     "metadata": {},
     "output_type": "execute_result"
    }
   ],
   "source": [
    "tuples.count(1)\n"
   ]
  },
  {
   "cell_type": "code",
   "execution_count": 123,
   "id": "c8134714-af6c-4e2c-b6c2-8a2643faeeb2",
   "metadata": {},
   "outputs": [
    {
     "data": {
      "text/plain": [
       "0"
      ]
     },
     "execution_count": 123,
     "metadata": {},
     "output_type": "execute_result"
    }
   ],
   "source": [
    "tuples.index(1)"
   ]
  },
  {
   "cell_type": "code",
   "execution_count": 125,
   "id": "724fd7aa-c3c5-4424-9028-923909ffcf18",
   "metadata": {},
   "outputs": [],
   "source": [
    "tuples=(1,1,2,3,4)"
   ]
  },
  {
   "cell_type": "code",
   "execution_count": 127,
   "id": "1fc4c400-605e-4f73-a7ba-a94950b4e0ce",
   "metadata": {},
   "outputs": [
    {
     "data": {
      "text/plain": [
       "0"
      ]
     },
     "execution_count": 127,
     "metadata": {},
     "output_type": "execute_result"
    }
   ],
   "source": [
    "tuples.index(1) #return first time it appears in tuple , pass as argument and don't change"
   ]
  },
  {
   "cell_type": "code",
   "execution_count": 129,
   "id": "169fedab-9648-442f-9eb4-cda4805fb5b1",
   "metadata": {},
   "outputs": [],
   "source": [
    "my_set=set() #unique set of element"
   ]
  },
  {
   "cell_type": "code",
   "execution_count": 131,
   "id": "7e2ea541-1f0b-4d03-ae3f-443080ebf294",
   "metadata": {},
   "outputs": [],
   "source": [
    "my_set.add('one')"
   ]
  },
  {
   "cell_type": "code",
   "execution_count": 133,
   "id": "f0fbb28e-28e2-477e-a3b1-d8bf6df7abca",
   "metadata": {},
   "outputs": [],
   "source": [
    "my_set.add(1)"
   ]
  },
  {
   "cell_type": "code",
   "execution_count": 135,
   "id": "7050eab6-78f3-4b28-adf8-4d3109f3b901",
   "metadata": {},
   "outputs": [
    {
     "data": {
      "text/plain": [
       "{1, 'one'}"
      ]
     },
     "execution_count": 135,
     "metadata": {},
     "output_type": "execute_result"
    }
   ],
   "source": [
    "my_set"
   ]
  },
  {
   "cell_type": "code",
   "execution_count": 153,
   "id": "74be906e-9c1b-42eb-8956-e6e74aa5fc5b",
   "metadata": {},
   "outputs": [
    {
     "data": {
      "text/plain": [
       "{1, 2, 4, 19}"
      ]
     },
     "execution_count": 153,
     "metadata": {},
     "output_type": "execute_result"
    }
   ],
   "source": [
    "set([1,1,2,4,2,19,2,2]) #set generally don't have any order , see the { bracket in o/p"
   ]
  },
  {
   "cell_type": "code",
   "execution_count": 141,
   "id": "2dabadf3-c554-4bf8-9371-77358a26ce25",
   "metadata": {},
   "outputs": [
    {
     "ename": "ValueError",
     "evalue": "empty separator",
     "output_type": "error",
     "traceback": [
      "\u001b[0;31m---------------------------------------------------------------------------\u001b[0m",
      "\u001b[0;31mValueError\u001b[0m                                Traceback (most recent call last)",
      "Cell \u001b[0;32mIn[141], line 1\u001b[0m\n\u001b[0;32m----> 1\u001b[0m \u001b[38;5;124m'\u001b[39m\u001b[38;5;124mMississippi\u001b[39m\u001b[38;5;124m'\u001b[39m\u001b[38;5;241m.\u001b[39msplit(\u001b[38;5;124m'\u001b[39m\u001b[38;5;124m'\u001b[39m)\n",
      "\u001b[0;31mValueError\u001b[0m: empty separator"
     ]
    }
   ],
   "source": [
    "'Mississippi'.split('')"
   ]
  },
  {
   "cell_type": "code",
   "execution_count": 143,
   "id": "edef4a48-4224-49f6-90cc-a09810eab546",
   "metadata": {},
   "outputs": [
    {
     "data": {
      "text/plain": [
       "['M', 'i', 's', 's', 'i', 's', 's', 'i', 'p', 'p', 'i']"
      ]
     },
     "execution_count": 143,
     "metadata": {},
     "output_type": "execute_result"
    }
   ],
   "source": [
    "list('Mississippi')\n"
   ]
  },
  {
   "cell_type": "code",
   "execution_count": 145,
   "id": "fbd4f9c8-fa66-4618-aaaf-07006fefca47",
   "metadata": {},
   "outputs": [
    {
     "data": {
      "text/plain": [
       "{'M', 'i', 'p', 's'}"
      ]
     },
     "execution_count": 145,
     "metadata": {},
     "output_type": "execute_result"
    }
   ],
   "source": [
    "set(list('Mississippi'))"
   ]
  },
  {
   "cell_type": "code",
   "execution_count": 147,
   "id": "ca3b56f4-a363-47b6-864a-657d19cc77ec",
   "metadata": {},
   "outputs": [
    {
     "data": {
      "text/plain": [
       "bool"
      ]
     },
     "execution_count": 147,
     "metadata": {},
     "output_type": "execute_result"
    }
   ],
   "source": [
    "type(5>2)"
   ]
  },
  {
   "cell_type": "code",
   "execution_count": 149,
   "id": "85539fdb-b3f0-415a-9b90-496452b5cd3c",
   "metadata": {},
   "outputs": [
    {
     "data": {
      "text/plain": [
       "True"
      ]
     },
     "execution_count": 149,
     "metadata": {},
     "output_type": "execute_result"
    }
   ],
   "source": [
    "5>2\n"
   ]
  },
  {
   "cell_type": "code",
   "execution_count": 151,
   "id": "d0960f2b-7427-4375-94de-d0ba80b98db1",
   "metadata": {},
   "outputs": [],
   "source": [
    "b= None\n"
   ]
  },
  {
   "cell_type": "code",
   "execution_count": 157,
   "id": "0bd2965a-e7d9-449c-8dae-c214a34340ab",
   "metadata": {},
   "outputs": [
    {
     "name": "stdout",
     "output_type": "stream",
     "text": [
      "Writing myfile.txt\n"
     ]
    }
   ],
   "source": [
    "%%writefile myfile.txt\n",
    "hello this is the txt file\n",
    "this is the second line"
   ]
  },
  {
   "cell_type": "code",
   "execution_count": 161,
   "id": "9d881bb1-f24f-4cd4-bfc9-7671930b8247",
   "metadata": {},
   "outputs": [],
   "source": [
    "myfile=open('myfile.txt')"
   ]
  },
  {
   "cell_type": "code",
   "execution_count": 163,
   "id": "af6a9c57-82b5-4002-ad46-d8288b3e2a44",
   "metadata": {},
   "outputs": [
    {
     "data": {
      "text/plain": [
       "'/Users/suyashkumarsingh/Downloads/python basic'"
      ]
     },
     "execution_count": 163,
     "metadata": {},
     "output_type": "execute_result"
    }
   ],
   "source": [
    "pwd"
   ]
  },
  {
   "cell_type": "code",
   "execution_count": 165,
   "id": "bfd36f2b-6092-4f1b-b7b6-083780428bc7",
   "metadata": {},
   "outputs": [
    {
     "data": {
      "text/plain": [
       "'hello this is the txt file\\nthis is the second line\\n'"
      ]
     },
     "execution_count": 165,
     "metadata": {},
     "output_type": "execute_result"
    }
   ],
   "source": [
    "myfile.read()\n"
   ]
  },
  {
   "cell_type": "code",
   "execution_count": 167,
   "id": "807ae9dd-dafb-4441-9f81-b538e9f85ece",
   "metadata": {},
   "outputs": [
    {
     "data": {
      "text/plain": [
       "''"
      ]
     },
     "execution_count": 167,
     "metadata": {},
     "output_type": "execute_result"
    }
   ],
   "source": [
    "myfile.read()"
   ]
  },
  {
   "cell_type": "code",
   "execution_count": 169,
   "id": "166ebf09-d8b9-481a-b021-a07dc00fe4e3",
   "metadata": {},
   "outputs": [
    {
     "data": {
      "text/plain": [
       "0"
      ]
     },
     "execution_count": 169,
     "metadata": {},
     "output_type": "execute_result"
    }
   ],
   "source": [
    "myfile.seek(0) #reset the cursor to starting"
   ]
  },
  {
   "cell_type": "code",
   "execution_count": 171,
   "id": "ceade481-2325-4ee4-97ac-6c44a48be517",
   "metadata": {},
   "outputs": [
    {
     "data": {
      "text/plain": [
       "'hello this is the txt file\\nthis is the second line\\n'"
      ]
     },
     "execution_count": 171,
     "metadata": {},
     "output_type": "execute_result"
    }
   ],
   "source": [
    "myfile.read()"
   ]
  },
  {
   "cell_type": "code",
   "execution_count": 175,
   "id": "21ed6d80-5e99-46b1-9df2-3a89131f8ddf",
   "metadata": {},
   "outputs": [
    {
     "data": {
      "text/plain": [
       "['hello this is the txt file\\n', 'this is the second line\\n']"
      ]
     },
     "execution_count": 175,
     "metadata": {},
     "output_type": "execute_result"
    }
   ],
   "source": [
    "myfile.seek(0)\n",
    "myfile.readlines()"
   ]
  },
  {
   "cell_type": "code",
   "execution_count": 177,
   "id": "4a291ce5-cf4a-48f9-9e18-ec0de4e55d56",
   "metadata": {},
   "outputs": [],
   "source": [
    "myfile=open('/Users/suyashkumarsingh/Downloads/python basic/myfile.txt')"
   ]
  },
  {
   "cell_type": "code",
   "execution_count": 179,
   "id": "0c30adc3-2aad-4f64-b4f8-3bfeac7a2d0d",
   "metadata": {},
   "outputs": [
    {
     "data": {
      "text/plain": [
       "'hello this is the txt file\\nthis is the second line\\n'"
      ]
     },
     "execution_count": 179,
     "metadata": {},
     "output_type": "execute_result"
    }
   ],
   "source": [
    "myfile.read()"
   ]
  },
  {
   "cell_type": "code",
   "execution_count": 183,
   "id": "962a28bd-0b61-4811-9e0f-93108eefda34",
   "metadata": {},
   "outputs": [],
   "source": [
    "myfile.close() #close the file"
   ]
  },
  {
   "cell_type": "code",
   "execution_count": 189,
   "id": "602c2b3a-cc19-4a71-b9e4-206baa8b9b2e",
   "metadata": {},
   "outputs": [
    {
     "data": {
      "text/plain": [
       "'hello this is the txt file\\nthis is the second line\\n'"
      ]
     },
     "execution_count": 189,
     "metadata": {},
     "output_type": "execute_result"
    }
   ],
   "source": [
    "with open('/Users/suyashkumarsingh/Downloads/python basic/myfile.txt') as myfile: #with keywork don't have to close the file automatically\n",
    "    content=myfile.read()\n",
    "content"
   ]
  },
  {
   "cell_type": "code",
   "execution_count": 191,
   "id": "ba8922ef-f158-4980-bf8d-9dbf46b4096e",
   "metadata": {},
   "outputs": [
    {
     "data": {
      "text/plain": [
       "'hello this is the txt file\\nthis is the second line\\n'"
      ]
     },
     "execution_count": 191,
     "metadata": {},
     "output_type": "execute_result"
    }
   ],
   "source": [
    "with open('/Users/suyashkumarsingh/Downloads/python basic/myfile.txt',mode='r') as myfile:\n",
    "    content=myfile.read()\n",
    "content"
   ]
  },
  {
   "cell_type": "code",
   "execution_count": 193,
   "id": "72b775bd-92ed-4863-9d75-36f29f3c8e79",
   "metadata": {},
   "outputs": [
    {
     "data": {
      "text/plain": [
       "'hello this is the txt file\\nthis is the second line\\n'"
      ]
     },
     "execution_count": 193,
     "metadata": {},
     "output_type": "execute_result"
    }
   ],
   "source": [
    "with open('/Users/suyashkumarsingh/Downloads/python basic/myfile.txt',mode='a') as myfile:  #mode is writing also called permission w will overwrite,\n",
    "    #a append the next content\n",
    "    myfile.write('third line appended')\n",
    "content"
   ]
  },
  {
   "cell_type": "code",
   "execution_count": 195,
   "id": "12f80d5a-a0f4-4777-bcbe-7c5cba580758",
   "metadata": {},
   "outputs": [
    {
     "ename": "ValueError",
     "evalue": "I/O operation on closed file.",
     "output_type": "error",
     "traceback": [
      "\u001b[0;31m---------------------------------------------------------------------------\u001b[0m",
      "\u001b[0;31mValueError\u001b[0m                                Traceback (most recent call last)",
      "Cell \u001b[0;32mIn[195], line 1\u001b[0m\n\u001b[0;32m----> 1\u001b[0m myfile\u001b[38;5;241m.\u001b[39mread()\n",
      "\u001b[0;31mValueError\u001b[0m: I/O operation on closed file."
     ]
    }
   ],
   "source": [
    "myfile.read()\n"
   ]
  },
  {
   "cell_type": "code",
   "execution_count": 197,
   "id": "034427a6-e124-4768-beeb-f8f93b94ddfd",
   "metadata": {},
   "outputs": [
    {
     "name": "stdout",
     "output_type": "stream",
     "text": [
      "hello this is the txt file\n",
      "this is the second line\n",
      "third line appended\n"
     ]
    }
   ],
   "source": [
    "with open('/Users/suyashkumarsingh/Downloads/python basic/myfile.txt',mode='r') as myfile:\n",
    "    print(myfile.read())"
   ]
  },
  {
   "cell_type": "code",
   "execution_count": 199,
   "id": "4d17e1a9-7a76-4177-b652-a474fc6d6368",
   "metadata": {},
   "outputs": [
    {
     "data": {
      "text/plain": [
       "float"
      ]
     },
     "execution_count": 199,
     "metadata": {},
     "output_type": "execute_result"
    }
   ],
   "source": [
    "type(4+1.5+2)"
   ]
  },
  {
   "cell_type": "code",
   "execution_count": 201,
   "id": "82dce2cd-ba61-458c-9665-6793e4b2a474",
   "metadata": {},
   "outputs": [
    {
     "data": {
      "text/plain": [
       "True"
      ]
     },
     "execution_count": 201,
     "metadata": {},
     "output_type": "execute_result"
    }
   ],
   "source": [
    "3.0==3"
   ]
  },
  {
   "cell_type": "code",
   "execution_count": 209,
   "id": "9624b14f-a6cd-46a2-ba84-86f49f173bda",
   "metadata": {},
   "outputs": [
    {
     "data": {
      "text/plain": [
       "True"
      ]
     },
     "execution_count": 209,
     "metadata": {},
     "output_type": "execute_result"
    }
   ],
   "source": [
    "4**0.5==2"
   ]
  },
  {
   "cell_type": "code",
   "execution_count": 219,
   "id": "ee32c938-40a3-484f-8cc3-dd45041c0610",
   "metadata": {},
   "outputs": [
    {
     "data": {
      "text/plain": [
       "False"
      ]
     },
     "execution_count": 219,
     "metadata": {},
     "output_type": "execute_result"
    }
   ],
   "source": [
    "2=='2'\n"
   ]
  },
  {
   "cell_type": "code",
   "execution_count": 221,
   "id": "f1539ff8-dc03-451c-9c6d-5d475db34163",
   "metadata": {},
   "outputs": [
    {
     "data": {
      "text/plain": [
       "True"
      ]
     },
     "execution_count": 221,
     "metadata": {},
     "output_type": "execute_result"
    }
   ],
   "source": [
    "1<2<3"
   ]
  },
  {
   "cell_type": "code",
   "execution_count": 223,
   "id": "1cab435c-1623-4bf1-80a0-25d0b28a6498",
   "metadata": {},
   "outputs": [
    {
     "data": {
      "text/plain": [
       "False"
      ]
     },
     "execution_count": 223,
     "metadata": {},
     "output_type": "execute_result"
    }
   ],
   "source": [
    "1<2 and 2>3"
   ]
  },
  {
   "cell_type": "code",
   "execution_count": 225,
   "id": "93dc2546-cee4-452b-833c-b006baf21788",
   "metadata": {},
   "outputs": [
    {
     "data": {
      "text/plain": [
       "False"
      ]
     },
     "execution_count": 225,
     "metadata": {},
     "output_type": "execute_result"
    }
   ],
   "source": [
    "not 1==1\n"
   ]
  },
  {
   "cell_type": "code",
   "execution_count": 233,
   "id": "865b14e5-f70b-444a-8d42-a64f3759dc1d",
   "metadata": {},
   "outputs": [
    {
     "data": {
      "text/plain": [
       "False"
      ]
     },
     "execution_count": 233,
     "metadata": {},
     "output_type": "execute_result"
    }
   ],
   "source": [
    "not 10\n"
   ]
  },
  {
   "cell_type": "code",
   "execution_count": 243,
   "id": "e6086a49-6ddb-4c0b-9dc6-9778b920808d",
   "metadata": {},
   "outputs": [
    {
     "name": "stdout",
     "output_type": "stream",
     "text": [
      "its false\n"
     ]
    }
   ],
   "source": [
    "hungary = 3 >4\n",
    "if hungary:\n",
    "    print(\"its true\")\n",
    "else:\n",
    "    print(\"its false\")"
   ]
  },
  {
   "cell_type": "code",
   "execution_count": 245,
   "id": "6448b35d-f6f9-40da-9d1e-8ece62b5e52d",
   "metadata": {},
   "outputs": [
    {
     "name": "stdout",
     "output_type": "stream",
     "text": [
      "I am in bank!\n"
     ]
    }
   ],
   "source": [
    "loc = 'bank'\n",
    "if loc=='auto shop':\n",
    "    print(\"car is cool!\")\n",
    "elif loc=='bank':\n",
    "    print(\"I am in bank!\")\n",
    "else:\n",
    "    print(\"dont' know much\")"
   ]
  },
  {
   "cell_type": "code",
   "execution_count": 255,
   "id": "303081b5-13a5-4118-ac58-db87cc31645c",
   "metadata": {},
   "outputs": [
    {
     "name": "stdout",
     "output_type": "stream",
     "text": [
      "odd number 1\n",
      "2\n",
      "odd number 3\n",
      "4\n",
      "odd number 5\n",
      "6\n"
     ]
    }
   ],
   "source": [
    "mylist=[1,2,3,4,5,6]\n",
    "for num in mylist:\n",
    "    if num%2==0:\n",
    "        print(num)\n",
    "    else :\n",
    "        print(f'odd number {num}')"
   ]
  },
  {
   "cell_type": "code",
   "execution_count": 261,
   "id": "3e77f730-33fa-4129-93a6-57cd1234d632",
   "metadata": {},
   "outputs": [
    {
     "name": "stdout",
     "output_type": "stream",
     "text": [
      "h\n",
      "e\n",
      "l\n",
      "l\n",
      "o\n",
      " \n",
      "w\n",
      "o\n",
      "r\n",
      "l\n",
      "d\n",
      "outer hello world\n"
     ]
    }
   ],
   "source": [
    "mystring=\"hello world\"\n",
    "for c in mystring:\n",
    "    print(c)\n",
    "print(f'outer {mystring}')"
   ]
  },
  {
   "cell_type": "code",
   "execution_count": 265,
   "id": "83d76cbf-a0d0-450a-8fc4-5c7ea97b73b5",
   "metadata": {},
   "outputs": [
    {
     "name": "stdout",
     "output_type": "stream",
     "text": [
      "1\n",
      "2\n",
      "3\n",
      "4\n",
      "5\n",
      "6\n"
     ]
    }
   ],
   "source": [
    "mylist=[(1,2),(3,4),(5,6)]\n",
    "for m in mylist:\n",
    "    for c in m:\n",
    "        print(c)"
   ]
  },
  {
   "cell_type": "code",
   "execution_count": 269,
   "id": "e49605de-788f-4332-8d6d-2906cc9abe15",
   "metadata": {},
   "outputs": [
    {
     "name": "stdout",
     "output_type": "stream",
     "text": [
      "first is 1\n",
      "sec is 2\n",
      "first is 3\n",
      "sec is 4\n",
      "first is 5\n",
      "sec is 6\n"
     ]
    }
   ],
   "source": [
    "mylist=[(1,2),(3,4),(5,6)] #list of tuple\n",
    "for (a,b) in mylist:\n",
    "    print(f'first is {a}')\n",
    "    print(f'sec is {b}')"
   ]
  },
  {
   "cell_type": "code",
   "execution_count": 273,
   "id": "94cd2eba-c318-4964-ada3-6d972b342b83",
   "metadata": {},
   "outputs": [
    {
     "name": "stdout",
     "output_type": "stream",
     "text": [
      "('k1', 1)\n",
      "('k2', 2)\n",
      "('k3', 3)\n"
     ]
    }
   ],
   "source": [
    "dic={'k1':1,'k2':2,'k3':3}\n",
    "for d in dic.items():\n",
    "    print(d)"
   ]
  },
  {
   "cell_type": "code",
   "execution_count": 275,
   "id": "905ef35f-a748-443a-b574-40d42358b18d",
   "metadata": {},
   "outputs": [
    {
     "name": "stdout",
     "output_type": "stream",
     "text": [
      "1\n",
      "2\n",
      "3\n"
     ]
    }
   ],
   "source": [
    "dic={'k1':1,'k2':2,'k3':3}\n",
    "for (key,value) in dic.items():\n",
    "    print(value)"
   ]
  },
  {
   "cell_type": "code",
   "execution_count": 283,
   "id": "a4ee626a-4755-428d-a022-fe18af9b7fa4",
   "metadata": {},
   "outputs": [
    {
     "name": "stdout",
     "output_type": "stream",
     "text": [
      "curret x value is 0\n",
      "curret x value is 1\n",
      "curret x value is 2\n",
      "curret x value is 3\n",
      "curret x value is 4\n",
      "X is not less than 5\n"
     ]
    }
   ],
   "source": [
    "x=0\n",
    "\n",
    "while x<5:\n",
    "    print(f'curret x value is {x}')\n",
    "    x=x+1\n",
    "else:\n",
    "    print('X is not less than 5')\n",
    "    "
   ]
  },
  {
   "cell_type": "code",
   "execution_count": 289,
   "id": "e9b495c1-4494-4e06-b341-8298538e8c17",
   "metadata": {},
   "outputs": [
    {
     "name": "stdout",
     "output_type": "stream",
     "text": [
      "end of script\n"
     ]
    }
   ],
   "source": [
    "x=[1,2,3]\n",
    "for i in x:\n",
    "    #do nothing or like placeholder do pass\n",
    "    pass\n",
    "print('end of script')\n"
   ]
  },
  {
   "cell_type": "code",
   "execution_count": 297,
   "id": "ad4f2df1-6658-4350-98b7-33d36bc577b9",
   "metadata": {},
   "outputs": [
    {
     "name": "stdout",
     "output_type": "stream",
     "text": [
      "S\n",
      "m\n"
     ]
    }
   ],
   "source": [
    "mystring='Sammy'\n",
    "for l in mystring:\n",
    "    if l=='a':\n",
    "        continue\n",
    "    print(l)\n",
    "    if l=='m':\n",
    "        break\n",
    "    "
   ]
  },
  {
   "cell_type": "code",
   "execution_count": 299,
   "id": "2e54043d-2996-4d28-8594-8a0e6f744010",
   "metadata": {},
   "outputs": [
    {
     "name": "stdout",
     "output_type": "stream",
     "text": [
      "1\n",
      "3\n",
      "5\n",
      "7\n",
      "9\n"
     ]
    }
   ],
   "source": [
    "mylist=[1,2,3,5]\n",
    "for n in range(1,10,2): # 1<=i<10, step by 2\n",
    "    print(n)"
   ]
  },
  {
   "cell_type": "code",
   "execution_count": 311,
   "id": "50c21a20-c07a-4eb0-bf90-c1c799f35fee",
   "metadata": {},
   "outputs": [
    {
     "data": {
      "text/plain": [
       "[1, 3, 5, 7, 9]"
      ]
     },
     "execution_count": 311,
     "metadata": {},
     "output_type": "execute_result"
    }
   ],
   "source": [
    "list(range(1,10,2)) #we use list() , range is generator: generate number instead of saving it"
   ]
  },
  {
   "cell_type": "code",
   "execution_count": 305,
   "id": "2717dad6-2fb7-4af7-b557-b18a08fb78b9",
   "metadata": {},
   "outputs": [
    {
     "data": {
      "text/plain": [
       "list[range(1, 10, 2)]"
      ]
     },
     "execution_count": 305,
     "metadata": {},
     "output_type": "execute_result"
    }
   ],
   "source": [
    "mylist\n"
   ]
  },
  {
   "cell_type": "code",
   "execution_count": 315,
   "id": "9a4c63a8-6071-4d4b-a3cb-b08e2bada794",
   "metadata": {},
   "outputs": [
    {
     "name": "stdout",
     "output_type": "stream",
     "text": [
      "at index 0 letter is a\n",
      "at index 1 letter is b\n",
      "at index 2 letter is c\n",
      "at index 3 letter is d\n",
      "at index 4 letter is e\n",
      "at index 5 letter is f\n",
      "at index 6 letter is g\n"
     ]
    }
   ],
   "source": [
    "index_count=0\n",
    "for l in 'abcdefg':\n",
    "    print(f'at index {index_count} letter is {l}')\n",
    "    index_count+=1\n",
    "    "
   ]
  },
  {
   "cell_type": "code",
   "execution_count": 323,
   "id": "32cdb4c5-c2f2-474b-bc94-f57bd559ef09",
   "metadata": {},
   "outputs": [
    {
     "name": "stdout",
     "output_type": "stream",
     "text": [
      "0\n",
      "1\n",
      "2\n"
     ]
    }
   ],
   "source": [
    "#use enumerate function to get index of it\n",
    "for (index,l) in enumerate('abc'):\n",
    "    print(index)"
   ]
  },
  {
   "cell_type": "code",
   "execution_count": 333,
   "id": "d9a54df9-db58-44c3-aa2b-4dbde7772ac4",
   "metadata": {},
   "outputs": [
    {
     "name": "stdout",
     "output_type": "stream",
     "text": [
      "(1, 'a', 'e')\n",
      "(2, 'b', 'd')\n",
      "(3, 'c', 's')\n"
     ]
    },
    {
     "data": {
      "text/plain": [
       "[(1, 'a'), (2, 'b'), (3, 'c')]"
      ]
     },
     "execution_count": 333,
     "metadata": {},
     "output_type": "execute_result"
    }
   ],
   "source": [
    "#zip zip together 2 list\n",
    "mylist=[1,2,3]\n",
    "mylist2=['a','b','c']\n",
    "mylist3=['e','d','s',10,20]\n",
    "for l in zip(mylist,mylist2,mylist3): #iterator convert it into tuple, sortest len we'll get ans\n",
    "    print(l)\n",
    "list(zip(mylist,mylist2))"
   ]
  },
  {
   "cell_type": "code",
   "execution_count": 335,
   "id": "82ce15a9-625f-4323-b9ea-a7d2f35b7385",
   "metadata": {},
   "outputs": [
    {
     "data": {
      "text/plain": [
       "False"
      ]
     },
     "execution_count": 335,
     "metadata": {},
     "output_type": "execute_result"
    }
   ],
   "source": [
    "'z' in 'abc'"
   ]
  },
  {
   "cell_type": "code",
   "execution_count": 337,
   "id": "5b340a6b-a92a-42da-a857-49b7138ce292",
   "metadata": {},
   "outputs": [
    {
     "data": {
      "text/plain": [
       "True"
      ]
     },
     "execution_count": 337,
     "metadata": {},
     "output_type": "execute_result"
    }
   ],
   "source": [
    "'a' in 'abc'"
   ]
  },
  {
   "cell_type": "code",
   "execution_count": 339,
   "id": "0f47a61e-3757-49de-85fc-eb61d341211d",
   "metadata": {},
   "outputs": [
    {
     "data": {
      "text/plain": [
       "True"
      ]
     },
     "execution_count": 339,
     "metadata": {},
     "output_type": "execute_result"
    }
   ],
   "source": [
    "1 in [1,2,3,4,5]\n"
   ]
  },
  {
   "cell_type": "code",
   "execution_count": 401,
   "id": "43a3623b-899d-4d9b-9429-9740759f707f",
   "metadata": {},
   "outputs": [
    {
     "data": {
      "text/plain": [
       "True"
      ]
     },
     "execution_count": 401,
     "metadata": {},
     "output_type": "execute_result"
    }
   ],
   "source": [
    "'k1' in {'k2':1,'k1':3}"
   ]
  },
  {
   "cell_type": "code",
   "execution_count": 347,
   "id": "c82e2f8c-1696-4d8a-8e12-5ff20b6e6569",
   "metadata": {},
   "outputs": [
    {
     "data": {
      "text/plain": [
       "True"
      ]
     },
     "execution_count": 347,
     "metadata": {},
     "output_type": "execute_result"
    }
   ],
   "source": [
    "1 in {'k2':1,'k1':3}.values()"
   ]
  },
  {
   "cell_type": "code",
   "execution_count": 349,
   "id": "3bf7eed6-d915-419c-87d0-0badfa75354f",
   "metadata": {},
   "outputs": [
    {
     "data": {
      "text/plain": [
       "2"
      ]
     },
     "execution_count": 349,
     "metadata": {},
     "output_type": "execute_result"
    }
   ],
   "source": [
    "min([10,20,2,10])"
   ]
  },
  {
   "cell_type": "code",
   "execution_count": 351,
   "id": "3ffcff04-9494-46cd-bf9e-50a0ab41600c",
   "metadata": {},
   "outputs": [
    {
     "data": {
      "text/plain": [
       "20"
      ]
     },
     "execution_count": 351,
     "metadata": {},
     "output_type": "execute_result"
    }
   ],
   "source": [
    "max([10,20,2,10])"
   ]
  },
  {
   "cell_type": "code",
   "execution_count": 357,
   "id": "f7c487b7-c8cd-49ef-aad5-248d8a47c288",
   "metadata": {},
   "outputs": [
    {
     "data": {
      "text/plain": [
       "[5, 1, 30, 3, 5, 2, 4, 1]"
      ]
     },
     "execution_count": 357,
     "metadata": {},
     "output_type": "execute_result"
    }
   ],
   "source": [
    "from random import shuffle #from random library import shuffle function \n",
    "mylist=[1,2,4,5,30,1,3,5]\n",
    "newlist=shuffle(mylist) #function doesn't return anything\n",
    "mylist #see list is scramble / suffle , not original form\n",
    "#type(newlist)"
   ]
  },
  {
   "cell_type": "code",
   "execution_count": 361,
   "id": "edd7091e-9248-413f-a108-f41adba4e3cd",
   "metadata": {},
   "outputs": [
    {
     "data": {
      "text/plain": [
       "30"
      ]
     },
     "execution_count": 361,
     "metadata": {},
     "output_type": "execute_result"
    }
   ],
   "source": [
    "from random import randint\n",
    "randint(0,100) #return randome int and we can save it"
   ]
  },
  {
   "cell_type": "code",
   "execution_count": 373,
   "id": "a53ea1ce-313a-4b3f-ad68-453df6c2bf70",
   "metadata": {},
   "outputs": [
    {
     "name": "stdin",
     "output_type": "stream",
     "text": [
      "Enter a number here 400\n"
     ]
    },
    {
     "data": {
      "text/plain": [
       "400"
      ]
     },
     "execution_count": 373,
     "metadata": {},
     "output_type": "execute_result"
    }
   ],
   "source": [
    "#take the input from user \n",
    "result=input('Enter a number here')\n",
    "int(result)"
   ]
  },
  {
   "cell_type": "code",
   "execution_count": 375,
   "id": "46691cf6-bb69-4d9c-ace0-0f9d2045244d",
   "metadata": {},
   "outputs": [
    {
     "name": "stdout",
     "output_type": "stream",
     "text": [
      "['m', 'y', ' ', 's', 't', 'r', 'i', 'n', 'g']\n"
     ]
    }
   ],
   "source": [
    "string='my string'\n",
    "mylist=[]\n",
    "for s in string:\n",
    "    mylist.append(s)\n",
    "print(mylist)"
   ]
  },
  {
   "cell_type": "code",
   "execution_count": 399,
   "id": "ff8c9158-a03e-46b8-bfd2-adfd98bbcc84",
   "metadata": {},
   "outputs": [
    {
     "data": {
      "text/plain": [
       "['h', 'e', 'l', 'l', 'o']"
      ]
     },
     "execution_count": 399,
     "metadata": {},
     "output_type": "execute_result"
    }
   ],
   "source": [
    "#list comprehension: do the same thing in 1 line, val understand that you need to append only thats why\n",
    "mylist=[ val for val in 'hello']\n",
    "mylist"
   ]
  },
  {
   "cell_type": "code",
   "execution_count": 397,
   "id": "a5a98a8d-7a3b-4709-b563-929dd392706f",
   "metadata": {},
   "outputs": [
    {
     "name": "stdout",
     "output_type": "stream",
     "text": [
      "[1, 4, 9, 16, 25, 36, 49, 64, 81]\n"
     ]
    }
   ],
   "source": [
    "mylist=[r**2 for r in range(1,10)] #similar to for num in range(1,10): mylist.append(num**2)\n",
    "print(mylist)"
   ]
  },
  {
   "cell_type": "code",
   "execution_count": 403,
   "id": "eb907852-4361-4e2c-add6-dcf03da60b0d",
   "metadata": {},
   "outputs": [
    {
     "name": "stdout",
     "output_type": "stream",
     "text": [
      "[4, 16, 36, 64]\n"
     ]
    }
   ],
   "source": [
    "mylist=[r**2 for r in range(1,10) if r%2==0] #print even number square\n",
    "print(mylist)"
   ]
  },
  {
   "cell_type": "code",
   "execution_count": 407,
   "id": "3092a957-082e-4f90-801a-9e53022c171c",
   "metadata": {},
   "outputs": [
    {
     "name": "stdout",
     "output_type": "stream",
     "text": [
      "[32.0, 50.0, 68.0, 86.0, 94.1]\n"
     ]
    }
   ],
   "source": [
    "celcius=[0,10,20,30,34.5]\n",
    "fahrenheit=[( (9/5) * temp + 32) for temp in celcius]\n",
    "print(fahrenheit)"
   ]
  },
  {
   "cell_type": "code",
   "execution_count": 409,
   "id": "417349c4-6912-4f3c-8dd4-222cbe457a12",
   "metadata": {},
   "outputs": [
    {
     "data": {
      "text/plain": [
       "[32.0, 50.0, 68.0, 86.0, 94.1]"
      ]
     },
     "execution_count": 409,
     "metadata": {},
     "output_type": "execute_result"
    }
   ],
   "source": [
    "fahrenheit=[] #same result\n",
    "for c in [0,10,20,30,34.5]:\n",
    "    fahrenheit.append(( (9/5) * c + 32))\n",
    "fahrenheit"
   ]
  },
  {
   "cell_type": "code",
   "execution_count": 415,
   "id": "9d81cc1f-685e-45e3-ad73-c7c651c4534f",
   "metadata": {},
   "outputs": [
    {
     "data": {
      "text/plain": [
       "[0, 'Odd 1', 2, 'Odd 3', 4, 'Odd 5', 6, 'Odd 7', 8, 'Odd 9']"
      ]
     },
     "execution_count": 415,
     "metadata": {},
     "output_type": "execute_result"
    }
   ],
   "source": [
    "[x if x%2==0 else f'Odd {x}' for x in range(0,10)] #if else statement but not readable"
   ]
  },
  {
   "cell_type": "code",
   "execution_count": 419,
   "id": "28e8d228-fa06-4b98-ad02-b356db960352",
   "metadata": {},
   "outputs": [
    {
     "name": "stdout",
     "output_type": "stream",
     "text": [
      "[20, 200, 2000, 40, 400, 4000, 60, 600, 6000]\n"
     ]
    }
   ],
   "source": [
    "#2 for loop in 1 liner\n",
    "mylist=[x*y for x in [2,4,6] for y in [10, 100, 1000]]\n",
    "print(mylist)"
   ]
  },
  {
   "cell_type": "code",
   "execution_count": null,
   "id": "66e46093-d4dc-44d0-bc54-87209d653789",
   "metadata": {},
   "outputs": [],
   "source": []
  }
 ],
 "metadata": {
  "kernelspec": {
   "display_name": "Python [conda env:base] *",
   "language": "python",
   "name": "conda-base-py"
  },
  "language_info": {
   "codemirror_mode": {
    "name": "ipython",
    "version": 3
   },
   "file_extension": ".py",
   "mimetype": "text/x-python",
   "name": "python",
   "nbconvert_exporter": "python",
   "pygments_lexer": "ipython3",
   "version": "3.12.7"
  }
 },
 "nbformat": 4,
 "nbformat_minor": 5
}
