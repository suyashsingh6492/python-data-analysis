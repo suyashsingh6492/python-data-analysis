{
 "cells": [
  {
   "cell_type": "code",
   "execution_count": 2,
   "id": "a60a59e8-b758-414c-8ebb-913dca4e112c",
   "metadata": {},
   "outputs": [],
   "source": [
    "import numpy as np\n",
    "import pandas as pd\n",
    "labels=['a','b','c']\n",
    "my_data=[10,20,30]\n",
    "arr=np.array(my_data)\n",
    "d={'a':10,'b':20,'c':30}\n"
   ]
  },
  {
   "cell_type": "code",
   "execution_count": 6,
   "id": "efcaf1d4-9ecf-47dc-bad5-dd588c9ac94e",
   "metadata": {},
   "outputs": [
    {
     "data": {
      "text/plain": [
       "a    10\n",
       "b    20\n",
       "c    30\n",
       "dtype: int64"
      ]
     },
     "execution_count": 6,
     "metadata": {},
     "output_type": "execute_result"
    }
   ],
   "source": [
    "pd.Series(data=my_data,index=labels) #index change to labels value"
   ]
  },
  {
   "cell_type": "code",
   "execution_count": 8,
   "id": "60bd515a-e076-4f64-b202-5eb55bb77b13",
   "metadata": {},
   "outputs": [
    {
     "data": {
      "text/plain": [
       "a    10\n",
       "b    20\n",
       "c    30\n",
       "dtype: int64"
      ]
     },
     "execution_count": 8,
     "metadata": {},
     "output_type": "execute_result"
    }
   ],
   "source": [
    "pd.Series(d)"
   ]
  },
  {
   "cell_type": "code",
   "execution_count": 10,
   "id": "56fb9df3-90aa-4e2d-a3fc-434c78881530",
   "metadata": {},
   "outputs": [
    {
     "data": {
      "text/plain": [
       "0      <built-in function sum>\n",
       "1    <built-in function print>\n",
       "2      <built-in function len>\n",
       "dtype: object"
      ]
     },
     "execution_count": 10,
     "metadata": {},
     "output_type": "execute_result"
    }
   ],
   "source": [
    "pd.Series(data=[sum,print,len])"
   ]
  },
  {
   "cell_type": "code",
   "execution_count": 12,
   "id": "594de825-5b72-40a5-aafb-9a168640ae68",
   "metadata": {},
   "outputs": [
    {
     "data": {
      "text/plain": [
       "[<function sum(iterable, /, start=0)>,\n",
       " <function print(*args, sep=' ', end='\\n', file=None, flush=False)>,\n",
       " <function len(obj, /)>]"
      ]
     },
     "execution_count": 12,
     "metadata": {},
     "output_type": "execute_result"
    }
   ],
   "source": [
    "[sum,print,len]"
   ]
  },
  {
   "cell_type": "code",
   "execution_count": 14,
   "id": "dfd1aea3-099e-4cdd-82a1-de835777fb29",
   "metadata": {},
   "outputs": [
    {
     "data": {
      "text/plain": [
       "4"
      ]
     },
     "execution_count": 14,
     "metadata": {},
     "output_type": "execute_result"
    }
   ],
   "source": [
    "ser1=pd.Series([1,2,3,4,5],['USA','Germany','USSR','India','Japan'])\n",
    "ser2=pd.Series([1,2,6,4],['USA','Italy','Germany','India'])\n",
    "ser1['India']\n"
   ]
  },
  {
   "cell_type": "code",
   "execution_count": 16,
   "id": "5086e9fe-e974-45ed-907b-adc5ba4effc3",
   "metadata": {},
   "outputs": [
    {
     "data": {
      "text/plain": [
       "Germany    8.0\n",
       "India      8.0\n",
       "Italy      NaN\n",
       "Japan      NaN\n",
       "USA        2.0\n",
       "USSR       NaN\n",
       "dtype: float64"
      ]
     },
     "execution_count": 16,
     "metadata": {},
     "output_type": "execute_result"
    }
   ],
   "source": [
    "ser1+ser2"
   ]
  },
  {
   "cell_type": "code",
   "execution_count": 22,
   "id": "d6500f01-a85e-4703-9c52-65e8a4c4476c",
   "metadata": {},
   "outputs": [
    {
     "data": {
      "text/plain": [
       "array([[-0.45802699,  0.43516349, -0.58359505,  0.81684707],\n",
       "       [ 0.67272081, -0.10441114, -0.53128038,  1.02973269],\n",
       "       [-0.43813562, -1.11831825,  1.61898166,  1.54160517],\n",
       "       [-0.25187914, -0.84243574,  0.18451869,  0.9370822 ],\n",
       "       [ 0.73100034,  1.36155613, -0.32623806,  0.05567601]])"
      ]
     },
     "execution_count": 22,
     "metadata": {},
     "output_type": "execute_result"
    }
   ],
   "source": [
    "np.random.randn(5,4)"
   ]
  },
  {
   "cell_type": "code",
   "execution_count": 24,
   "id": "0ea52a9d-ff98-454f-afda-484a2906241d",
   "metadata": {},
   "outputs": [
    {
     "data": {
      "text/html": [
       "<div>\n",
       "<style scoped>\n",
       "    .dataframe tbody tr th:only-of-type {\n",
       "        vertical-align: middle;\n",
       "    }\n",
       "\n",
       "    .dataframe tbody tr th {\n",
       "        vertical-align: top;\n",
       "    }\n",
       "\n",
       "    .dataframe thead th {\n",
       "        text-align: right;\n",
       "    }\n",
       "</style>\n",
       "<table border=\"1\" class=\"dataframe\">\n",
       "  <thead>\n",
       "    <tr style=\"text-align: right;\">\n",
       "      <th></th>\n",
       "      <th>W</th>\n",
       "      <th>X</th>\n",
       "      <th>Y</th>\n",
       "      <th>Z</th>\n",
       "    </tr>\n",
       "  </thead>\n",
       "  <tbody>\n",
       "    <tr>\n",
       "      <th>A</th>\n",
       "      <td>-1.749765</td>\n",
       "      <td>0.342680</td>\n",
       "      <td>1.153036</td>\n",
       "      <td>-0.252436</td>\n",
       "    </tr>\n",
       "    <tr>\n",
       "      <th>B</th>\n",
       "      <td>0.981321</td>\n",
       "      <td>0.514219</td>\n",
       "      <td>0.221180</td>\n",
       "      <td>-1.070043</td>\n",
       "    </tr>\n",
       "    <tr>\n",
       "      <th>C</th>\n",
       "      <td>-0.189496</td>\n",
       "      <td>0.255001</td>\n",
       "      <td>-0.458027</td>\n",
       "      <td>0.435163</td>\n",
       "    </tr>\n",
       "    <tr>\n",
       "      <th>D</th>\n",
       "      <td>-0.583595</td>\n",
       "      <td>0.816847</td>\n",
       "      <td>0.672721</td>\n",
       "      <td>-0.104411</td>\n",
       "    </tr>\n",
       "    <tr>\n",
       "      <th>E</th>\n",
       "      <td>-0.531280</td>\n",
       "      <td>1.029733</td>\n",
       "      <td>-0.438136</td>\n",
       "      <td>-1.118318</td>\n",
       "    </tr>\n",
       "  </tbody>\n",
       "</table>\n",
       "</div>"
      ],
      "text/plain": [
       "          W         X         Y         Z\n",
       "A -1.749765  0.342680  1.153036 -0.252436\n",
       "B  0.981321  0.514219  0.221180 -1.070043\n",
       "C -0.189496  0.255001 -0.458027  0.435163\n",
       "D -0.583595  0.816847  0.672721 -0.104411\n",
       "E -0.531280  1.029733 -0.438136 -1.118318"
      ]
     },
     "execution_count": 24,
     "metadata": {},
     "output_type": "execute_result"
    }
   ],
   "source": [
    "np.random.seed(100)\n",
    "df=pd.DataFrame(np.random.randn(5,4),['A','B','C','D','E'],['W','X','Y','Z'])#data here 2d 0 uniform disutribution of 5 row, 4 colmn, 2nd arg is index,3rd colmns\n",
    "df"
   ]
  },
  {
   "cell_type": "code",
   "execution_count": null,
   "id": "374babb3-67e1-4167-8d24-8d5726507385",
   "metadata": {},
   "outputs": [],
   "source": []
  }
 ],
 "metadata": {
  "kernelspec": {
   "display_name": "Python [conda env:base] *",
   "language": "python",
   "name": "conda-base-py"
  },
  "language_info": {
   "codemirror_mode": {
    "name": "ipython",
    "version": 3
   },
   "file_extension": ".py",
   "mimetype": "text/x-python",
   "name": "python",
   "nbconvert_exporter": "python",
   "pygments_lexer": "ipython3",
   "version": "3.12.7"
  }
 },
 "nbformat": 4,
 "nbformat_minor": 5
}
