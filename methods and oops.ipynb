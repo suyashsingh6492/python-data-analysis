{
 "cells": [
  {
   "cell_type": "code",
   "execution_count": 1,
   "id": "3024c63c-c1ca-49b1-a86d-302f72f173b4",
   "metadata": {},
   "outputs": [],
   "source": [
    "def print_hello(name):\n",
    "    \"\"\"\n",
    "    printing greeting\n",
    "    \"\"\"\n",
    "    print(\"hello \"+name)"
   ]
  },
  {
   "cell_type": "code",
   "execution_count": 5,
   "id": "ea0002d7-c47d-42fa-a7f4-099f58da2f09",
   "metadata": {},
   "outputs": [
    {
     "name": "stdout",
     "output_type": "stream",
     "text": [
      "hello suyash\n"
     ]
    }
   ],
   "source": [
    "print_hello(\"suyash\")"
   ]
  },
  {
   "cell_type": "code",
   "execution_count": 5,
   "id": "6c368ee6-88b0-4a67-99b6-1930fa7678a1",
   "metadata": {},
   "outputs": [],
   "source": [
    "def even_check(num_list):\n",
    "    for i in num_list:\n",
    "        if i%2 !=0 :\n",
    "            return False\n",
    "    return True"
   ]
  },
  {
   "cell_type": "code",
   "execution_count": 9,
   "id": "2c9cd9ac-71df-4c23-bdbc-7743d0eff9e4",
   "metadata": {},
   "outputs": [
    {
     "data": {
      "text/plain": [
       "True"
      ]
     },
     "execution_count": 9,
     "metadata": {},
     "output_type": "execute_result"
    }
   ],
   "source": [
    "even_check([20,40])"
   ]
  },
  {
   "cell_type": "code",
   "execution_count": 11,
   "id": "62462d9f-3606-4b3d-aeaa-ff1582122c0d",
   "metadata": {},
   "outputs": [],
   "source": [
    "stock_pric=[('appl',200),('googl',400),('msft',300)] #list of touple"
   ]
  },
  {
   "cell_type": "code",
   "execution_count": 21,
   "id": "2178c93f-6436-4e70-8342-f0e5bc9ca2fa",
   "metadata": {},
   "outputs": [],
   "source": [
    "def stock_check(stocks):\n",
    "    c_max=0\n",
    "    c_name=''\n",
    "    for s,p in stocks:\n",
    "        if p>c_max:\n",
    "            c_max=p\n",
    "            c_name=s\n",
    "    return (c_name,c_max)"
   ]
  },
  {
   "cell_type": "code",
   "execution_count": 25,
   "id": "e4e94f56-8cff-44e1-be9e-fa70e414585b",
   "metadata": {},
   "outputs": [],
   "source": [
    "name,price=stock_check(stock_pric)"
   ]
  },
  {
   "cell_type": "code",
   "execution_count": 27,
   "id": "aa4b98e8-eb23-42f0-9dea-22e7cd532fa6",
   "metadata": {},
   "outputs": [
    {
     "data": {
      "text/plain": [
       "400"
      ]
     },
     "execution_count": 27,
     "metadata": {},
     "output_type": "execute_result"
    }
   ],
   "source": [
    "price"
   ]
  },
  {
   "cell_type": "code",
   "execution_count": 37,
   "id": "b5cf0317-80da-45a0-b2f9-e3621129f491",
   "metadata": {},
   "outputs": [
    {
     "data": {
      "text/plain": [
       "[2, 6, 7, 5, 1, 3, 4]"
      ]
     },
     "execution_count": 37,
     "metadata": {},
     "output_type": "execute_result"
    }
   ],
   "source": [
    "example=[1,2,3,4,5,6,7]\n",
    "from random import shuffle\n",
    "shuffle(example)\n",
    "example"
   ]
  },
  {
   "cell_type": "code",
   "execution_count": 39,
   "id": "2427cec0-4348-4870-8744-260e3d57dccb",
   "metadata": {},
   "outputs": [],
   "source": [
    "def shuffle_list(my_list):\n",
    "    from random import shuffle\n",
    "    shuffle(my_list)\n",
    "    return my_list;"
   ]
  },
  {
   "cell_type": "code",
   "execution_count": 49,
   "id": "bb5f965c-8a3f-4b8c-90a6-9b4d31e29822",
   "metadata": {},
   "outputs": [
    {
     "data": {
      "text/plain": [
       "[' ', 'O', ' ']"
      ]
     },
     "execution_count": 49,
     "metadata": {},
     "output_type": "execute_result"
    }
   ],
   "source": [
    "shuffle_list([' ','O',' '])"
   ]
  },
  {
   "cell_type": "code",
   "execution_count": 53,
   "id": "375490b2-ee69-40cf-b328-e3c90d3aa076",
   "metadata": {},
   "outputs": [],
   "source": [
    "def player_guess():\n",
    "    guess=''\n",
    "    \n",
    "    while guess not in ['0','1','2']:\n",
    "        guess=input('pick a number: 0,1,2')\n",
    "        \n",
    "    return int(guess)\n",
    "    \n",
    "    "
   ]
  },
  {
   "cell_type": "code",
   "execution_count": 55,
   "id": "96b31384-26af-4cf5-8478-4bb04d0a1b4f",
   "metadata": {},
   "outputs": [
    {
     "name": "stdin",
     "output_type": "stream",
     "text": [
      "pick a number: 0,1,2 20\n",
      "pick a number: 0,1,2 33\n",
      "pick a number: 0,1,2 10\n",
      "pick a number: 0,1,2 1\n"
     ]
    },
    {
     "data": {
      "text/plain": [
       "1"
      ]
     },
     "execution_count": 55,
     "metadata": {},
     "output_type": "execute_result"
    }
   ],
   "source": [
    "player_guess()"
   ]
  },
  {
   "cell_type": "code",
   "execution_count": 57,
   "id": "b0e49dac-c756-403c-b5d5-effafb2512d3",
   "metadata": {},
   "outputs": [],
   "source": [
    "def check_guess(my_list,guess):\n",
    "    if my_list[guess]=='O' :\n",
    "        print('Correct')\n",
    "    else:\n",
    "        print('Wrong Guess!')\n",
    "        print(my_list)"
   ]
  },
  {
   "cell_type": "code",
   "execution_count": 61,
   "id": "5d603903-eaad-49f6-a56f-86d3708fcdf3",
   "metadata": {},
   "outputs": [
    {
     "name": "stdin",
     "output_type": "stream",
     "text": [
      "pick a number: 0,1,2 3\n",
      "pick a number: 0,1,2 2\n"
     ]
    },
    {
     "name": "stdout",
     "output_type": "stream",
     "text": [
      "Wrong Guess!\n",
      "['O', ' ', ' ']\n"
     ]
    }
   ],
   "source": [
    "#intial list\n",
    "my_list=[' ' , ' ' , 'O' ]\n",
    "#shuffle\n",
    "shuf=shuffle_list(my_list)\n",
    "#player guess\n",
    "guess=player_guess()\n",
    "#check the guess\n",
    "check_guess(shuf,guess)"
   ]
  },
  {
   "cell_type": "code",
   "execution_count": 63,
   "id": "0b3a204c-7ecd-4725-9c72-4102f75d7d1f",
   "metadata": {},
   "outputs": [
    {
     "name": "stdout",
     "output_type": "stream",
     "text": [
      "helo world\n"
     ]
    }
   ],
   "source": [
    "print('helo world')\n"
   ]
  },
  {
   "cell_type": "code",
   "execution_count": 65,
   "id": "9bd3839c-9241-4035-b5ed-5eef794d5f3a",
   "metadata": {},
   "outputs": [],
   "source": [
    "def myfunc_5(*args): #tream as tuple of unlimited paramter\n",
    "    return sum(args)*.05;"
   ]
  },
  {
   "cell_type": "code",
   "execution_count": 67,
   "id": "5df0f977-556e-458b-989a-4ed150f3b7e9",
   "metadata": {},
   "outputs": [
    {
     "data": {
      "text/plain": [
       "0.5"
      ]
     },
     "execution_count": 67,
     "metadata": {},
     "output_type": "execute_result"
    }
   ],
   "source": [
    "myfunc_5(1,2,3,4)"
   ]
  },
  {
   "cell_type": "code",
   "execution_count": 73,
   "id": "4ef05973-8d43-4f35-86f9-40ff3af387e0",
   "metadata": {},
   "outputs": [],
   "source": [
    "def myfunc_kargs(**kargs): #** keyword argument means dictionary pair arguments , it returns dictionary\n",
    "    if 'fruits' in kargs:\n",
    "        print('my frouts are {}'.format(kargs['fruits']))\n",
    "    else:\n",
    "        print('no fruits preset')\n",
    "        "
   ]
  },
  {
   "cell_type": "code",
   "execution_count": 77,
   "id": "945e17cb-4e6a-45bc-b834-a991b8cd3943",
   "metadata": {},
   "outputs": [
    {
     "name": "stdout",
     "output_type": "stream",
     "text": [
      "my frouts are {'apple', 'oranges'}\n"
     ]
    }
   ],
   "source": [
    "myfunc_kargs(fruits={'apple','oranges'})"
   ]
  },
  {
   "cell_type": "code",
   "execution_count": 79,
   "id": "92820958-60a1-454e-be06-58c82d0d8df8",
   "metadata": {},
   "outputs": [
    {
     "name": "stdout",
     "output_type": "stream",
     "text": [
      "my frouts are apple\n"
     ]
    }
   ],
   "source": [
    "myfunc_kargs(fruits='apple')"
   ]
  },
  {
   "cell_type": "code",
   "execution_count": 81,
   "id": "ebacd072-1c0a-450b-9e6d-e4d20dd77177",
   "metadata": {},
   "outputs": [
    {
     "ename": "TypeError",
     "evalue": "myfunc_kargs() takes 0 positional arguments but 1 was given",
     "output_type": "error",
     "traceback": [
      "\u001b[0;31m---------------------------------------------------------------------------\u001b[0m",
      "\u001b[0;31mTypeError\u001b[0m                                 Traceback (most recent call last)",
      "Cell \u001b[0;32mIn[81], line 1\u001b[0m\n\u001b[0;32m----> 1\u001b[0m myfunc_kargs({\u001b[38;5;124m'\u001b[39m\u001b[38;5;124mfruits\u001b[39m\u001b[38;5;124m'\u001b[39m:[\u001b[38;5;124m'\u001b[39m\u001b[38;5;124mapple\u001b[39m\u001b[38;5;124m'\u001b[39m,\u001b[38;5;124m'\u001b[39m\u001b[38;5;124moranges\u001b[39m\u001b[38;5;124m'\u001b[39m]})\n",
      "\u001b[0;31mTypeError\u001b[0m: myfunc_kargs() takes 0 positional arguments but 1 was given"
     ]
    }
   ],
   "source": [
    "myfunc_kargs({'fruits':['apple','oranges']})"
   ]
  },
  {
   "cell_type": "code",
   "execution_count": 83,
   "id": "c17fa67e-cfe2-4296-90f5-f0f548f3b8bc",
   "metadata": {},
   "outputs": [
    {
     "name": "stdout",
     "output_type": "stream",
     "text": [
      "my frouts are apple\n"
     ]
    }
   ],
   "source": [
    "myfunc_kargs(fruits='apple',veggie='spinach')"
   ]
  },
  {
   "cell_type": "code",
   "execution_count": 99,
   "id": "9ecb53a6-afaf-40d2-a37f-2737d5bc5ae1",
   "metadata": {},
   "outputs": [
    {
     "data": {
      "text/plain": [
       "\"['a', 's', 'b']\""
      ]
     },
     "execution_count": 99,
     "metadata": {},
     "output_type": "execute_result"
    }
   ],
   "source": [
    "def myfunc(string): # Output: 'aNtHrOpOmOrPhIsM' lower and then uppoer\n",
    "    my_list=list(string)\n",
    "    strs=''\n",
    "    for i,val in enumerate(my_list):\n",
    "        if i%2==0:\n",
    "            my_list[i]=val.lower()\n",
    "        else:\n",
    "            my_list[i]=val.upper()\n",
    "        strs=strs+my_list[i]\n",
    "    return strs"
   ]
  },
  {
   "cell_type": "code",
   "execution_count": 87,
   "id": "01059c7f-ec70-4790-8a5f-a5a7f9ebcfc7",
   "metadata": {},
   "outputs": [
    {
     "data": {
      "text/plain": [
       "list['asb']"
      ]
     },
     "execution_count": 87,
     "metadata": {},
     "output_type": "execute_result"
    }
   ],
   "source": [
    "list['asb']\n"
   ]
  },
  {
   "cell_type": "code",
   "execution_count": 101,
   "id": "3fecaed2-c566-44e4-b86a-312bc718e94b",
   "metadata": {},
   "outputs": [
    {
     "data": {
      "text/plain": [
       "'Macdonald'"
      ]
     },
     "execution_count": 101,
     "metadata": {},
     "output_type": "execute_result"
    }
   ],
   "source": [
    "\"macdonald\".capitalize()\n"
   ]
  },
  {
   "cell_type": "code",
   "execution_count": 103,
   "id": "2bc46adf-af97-4692-adf2-1a68945ab005",
   "metadata": {},
   "outputs": [
    {
     "data": {
      "text/plain": [
       "'a--b--c'"
      ]
     },
     "execution_count": 103,
     "metadata": {},
     "output_type": "execute_result"
    }
   ],
   "source": [
    "\"--\".join(['a','b','c'])"
   ]
  },
  {
   "cell_type": "code",
   "execution_count": 105,
   "id": "0a2d0f39-7364-46ef-b914-ddaa8d9a1347",
   "metadata": {},
   "outputs": [],
   "source": [
    "#convert i am home to home i am\n",
    "def master(strs):\n",
    "    word_list=strs.split(' ')\n",
    "    word_list=word_list[::-1]\n",
    "    return ' '.join(word_list)"
   ]
  },
  {
   "cell_type": "code",
   "execution_count": 107,
   "id": "6ed2f565-dfc3-40f3-bd05-07110719788f",
   "metadata": {},
   "outputs": [
    {
     "data": {
      "text/plain": [
       "'home am i'"
      ]
     },
     "execution_count": 107,
     "metadata": {},
     "output_type": "execute_result"
    }
   ],
   "source": [
    "master('i am home')"
   ]
  },
  {
   "cell_type": "code",
   "execution_count": 117,
   "id": "54b1bf9a-913d-47fd-9eef-84ae33f377c3",
   "metadata": {},
   "outputs": [],
   "source": [
    "def check_33(mylist):\n",
    "    for i in range(0,len(mylist)-1):\n",
    "        #if mylist[i]==mylist[i+1] and mylist[i]==3 :\n",
    "       #     return True\n",
    "        if mylist[i:i+2]==[3,3]: #slice by 1 range\n",
    "            return True\n",
    "    return False\n",
    "        "
   ]
  },
  {
   "cell_type": "code",
   "execution_count": 119,
   "id": "5d3b3f92-b6d9-48f9-ab85-bad2ab036e3c",
   "metadata": {},
   "outputs": [
    {
     "data": {
      "text/plain": [
       "True"
      ]
     },
     "execution_count": 119,
     "metadata": {},
     "output_type": "execute_result"
    }
   ],
   "source": [
    "check_33([3,2,1,2,3,3])"
   ]
  },
  {
   "cell_type": "code",
   "execution_count": 121,
   "id": "03f0142d-507a-4d60-be40-95031a6993f9",
   "metadata": {},
   "outputs": [
    {
     "data": {
      "text/plain": [
       "'hhheeellllllooo'"
      ]
     },
     "execution_count": 121,
     "metadata": {},
     "output_type": "execute_result"
    }
   ],
   "source": [
    "#repeat each chars 3 more time\n",
    "def paper_doll(text):\n",
    "    result=''\n",
    "    for t in text:\n",
    "        result+=t*3\n",
    "    return result\n",
    "paper_doll('hello')"
   ]
  },
  {
   "cell_type": "code",
   "execution_count": 127,
   "id": "a2ecbd6b-d1d8-414e-b704-7b8e0b1f271f",
   "metadata": {},
   "outputs": [
    {
     "name": "stdout",
     "output_type": "stream",
     "text": [
      "[1, 4, 9, 16]\n",
      "1\n",
      "4\n",
      "9\n",
      "16\n"
     ]
    }
   ],
   "source": [
    "#map takes function and iterable obj, use shift+tab at map to check\n",
    "def square(num):\n",
    "    return num**2\n",
    "my_num=[1,2,3,4]\n",
    "print(list(map(square,my_num)))\n",
    "for m in map(square,my_num):\n",
    "    print(m)\n"
   ]
  },
  {
   "cell_type": "code",
   "execution_count": 133,
   "id": "3b0bd492-1fcd-428f-8ba3-b0b152121893",
   "metadata": {},
   "outputs": [
    {
     "data": {
      "text/plain": [
       "[2, 4]"
      ]
     },
     "execution_count": 133,
     "metadata": {},
     "output_type": "execute_result"
    }
   ],
   "source": [
    "def check_even(num):\n",
    "    return num%2==0\n",
    "list(filter(check_even,[1,2,3,4,5]))"
   ]
  },
  {
   "cell_type": "code",
   "execution_count": 135,
   "id": "5f2ec57c-679f-4207-8980-6fdfdd3f61a6",
   "metadata": {},
   "outputs": [
    {
     "data": {
      "text/plain": [
       "4"
      ]
     },
     "execution_count": 135,
     "metadata": {},
     "output_type": "execute_result"
    }
   ],
   "source": [
    "#this is lambda expression, like annonymous function\n",
    "square=lambda num: num**2 \n",
    "square(2)\n"
   ]
  },
  {
   "cell_type": "code",
   "execution_count": 141,
   "id": "8f20e7e0-8dae-4ee4-9330-adb565408277",
   "metadata": {},
   "outputs": [
    {
     "data": {
      "text/plain": [
       "[4, 16, 36]"
      ]
     },
     "execution_count": 141,
     "metadata": {},
     "output_type": "execute_result"
    }
   ],
   "source": [
    "list(filter(lambda num: num%2==0, map(lambda num: num**2,[1,2,3,4,5,6]))) # combining all in list square it , check if even that return"
   ]
  },
  {
   "cell_type": "code",
   "execution_count": 145,
   "id": "2466294a-6701-4bdd-b677-bb23ba7855bf",
   "metadata": {},
   "outputs": [
    {
     "name": "stdout",
     "output_type": "stream",
     "text": [
      "25\n",
      "50\n",
      "25\n"
     ]
    }
   ],
   "source": [
    "#variable name store in namespace, \n",
    "x=25\n",
    "def printer():\n",
    "    x=50\n",
    "    return x\n",
    "print(x)\n",
    "print(printer()) #why reassignment not changed x value in next line, LEGB: local, enclosing functinoal local, global, built in, \n",
    "#this is order how python checks\n",
    "print(x)"
   ]
  },
  {
   "cell_type": "code",
   "execution_count": 147,
   "id": "ce5ed5f4-bc44-4f69-8baa-5e33aec74b26",
   "metadata": {},
   "outputs": [
    {
     "name": "stdout",
     "output_type": "stream",
     "text": [
      "hello sammy\n"
     ]
    }
   ],
   "source": [
    "x=100 #global in file , b-built in like open close\n",
    "def printern(nums): #local\n",
    "    x=nums+1  #enclosing local\n",
    "lambda num: num**2 #here num local to this lambda expression\n",
    "name = 'this is global'\n",
    "def greet():\n",
    "    name='sammy'\n",
    "    def hello():\n",
    "        print('hello '+name)\n",
    "    hello()\n",
    "greet() #python check local name space, if not found local, go to enclosing function local if found then print"
   ]
  },
  {
   "cell_type": "code",
   "execution_count": 153,
   "id": "58b41c72-d911-4f94-90ca-2bea65f2ca32",
   "metadata": {},
   "outputs": [
    {
     "name": "stdout",
     "output_type": "stream",
     "text": [
      "hello sammy\n"
     ]
    }
   ],
   "source": [
    "def greet_global():\n",
    "    global name #go to global namespace and assign it\n",
    "    name='sammy'\n",
    "    def hello():\n",
    "        print('hello '+name)\n",
    "    hello()\n",
    "greet_global()"
   ]
  },
  {
   "cell_type": "code",
   "execution_count": 155,
   "id": "fdb4f615-e116-4423-b0eb-de717a2381bc",
   "metadata": {},
   "outputs": [
    {
     "data": {
      "text/plain": [
       "'sammy'"
      ]
     },
     "execution_count": 155,
     "metadata": {},
     "output_type": "execute_result"
    }
   ],
   "source": [
    "name\n"
   ]
  },
  {
   "cell_type": "code",
   "execution_count": 157,
   "id": "bb5b460d-d81c-4f52-b491-2b1fe206744b",
   "metadata": {},
   "outputs": [
    {
     "data": {
      "text/plain": [
       "'abcdefghijklmnopqrstuvwxyz'"
      ]
     },
     "execution_count": 157,
     "metadata": {},
     "output_type": "execute_result"
    }
   ],
   "source": [
    "import string\n",
    "string.ascii_lowercase"
   ]
  },
  {
   "cell_type": "code",
   "execution_count": 2,
   "id": "971b8065-a5bf-44e6-8a17-4e48c64d8d60",
   "metadata": {},
   "outputs": [],
   "source": [
    "row1=[' ',' ',' ']\n",
    "row2=[' ',' ',' ']\n",
    "row3=[' ',' ',' ']\n",
    "def display(row1,row2,row3):\n",
    "    print(row1)\n",
    "    print(row2)\n",
    "    print(row3)"
   ]
  },
  {
   "cell_type": "code",
   "execution_count": 33,
   "id": "ee71cb9a-2f63-4e63-83a5-0aceb695d5a0",
   "metadata": {},
   "outputs": [
    {
     "name": "stdout",
     "output_type": "stream",
     "text": [
      "[' ', ' ', ' ']\n",
      "[' ', ' ', ' ']\n",
      "[' ', ' ', ' ']\n"
     ]
    }
   ],
   "source": [
    "display(row1,row2,row3)"
   ]
  },
  {
   "cell_type": "code",
   "execution_count": 37,
   "id": "ae964735-3b82-4ead-86a6-bf5831e74abb",
   "metadata": {},
   "outputs": [],
   "source": [
    "def user_choice():\n",
    "    choice=''\n",
    "    is_currect=False\n",
    "    while not choice.isdigit() or not is_currect:\n",
    "        choice=input(\"please enter a number b/w 0 to 10\")\n",
    "        if choice.isdigit() and int(choice) in range(0,10):\n",
    "            is_currect=True\n",
    "    return int(choice)\n",
    "    "
   ]
  },
  {
   "cell_type": "code",
   "execution_count": 39,
   "id": "710a254e-c44e-4241-8b6f-47a0ea922e43",
   "metadata": {},
   "outputs": [
    {
     "name": "stdin",
     "output_type": "stream",
     "text": [
      "please enter a number b/w 0 to 10 100\n",
      "please enter a number b/w 0 to 10 2\n"
     ]
    },
    {
     "data": {
      "text/plain": [
       "2"
      ]
     },
     "execution_count": 39,
     "metadata": {},
     "output_type": "execute_result"
    }
   ],
   "source": [
    "user_choice()"
   ]
  },
  {
   "cell_type": "code",
   "execution_count": 57,
   "id": "b5db1a8c-17e7-494c-9d0f-218f1ffb7d46",
   "metadata": {},
   "outputs": [],
   "source": [
    "game_list=[0,1,2]\n",
    "def display_game(game_list):\n",
    "    print(\"here is the curernt list\")\n",
    "    print(game_list)\n",
    "def position_choice():\n",
    "    choice=''\n",
    "    while choice not in ['0','1','2']:\n",
    "        choice=input('please enter your choice [0-2]')\n",
    "    return int(choice)\n",
    "def replacement_choice(game_list,position):\n",
    "    user_placement=input('type a string to place at position')\n",
    "    game_list[position]=user_placement\n",
    "    return game_list\n",
    "def game_on_choice():\n",
    "    choice=''\n",
    "    game_list=[0,1,2]\n",
    "    while choice not in ['y','n']:\n",
    "        choice=input('please enter your choice y/n')\n",
    "        if choice.lower()=='y':\n",
    "            pos=position_choice()\n",
    "            game_list=replacement_choice(game_list,pos) #as this is local game_list , will not effect global_list \n",
    "            display_game(game_list)\n",
    "            choice=''\n",
    "        else:\n",
    "            break\n",
    "     "
   ]
  },
  {
   "cell_type": "code",
   "execution_count": 61,
   "id": "ce26cbd1-ef5b-4646-b625-8de356acb059",
   "metadata": {},
   "outputs": [
    {
     "name": "stdin",
     "output_type": "stream",
     "text": [
      "please enter your choice y/n y\n",
      "please enter your choice [0-2] 2\n",
      "type a string to place at position test\n"
     ]
    },
    {
     "name": "stdout",
     "output_type": "stream",
     "text": [
      "here is the curernt list\n",
      "[0, 1, 'test']\n"
     ]
    },
    {
     "name": "stdin",
     "output_type": "stream",
     "text": [
      "please enter your choice y/n y\n",
      "please enter your choice [0-2] 0\n",
      "type a string to place at position test2\n"
     ]
    },
    {
     "name": "stdout",
     "output_type": "stream",
     "text": [
      "here is the curernt list\n",
      "['test2', 1, 'test']\n"
     ]
    },
    {
     "name": "stdin",
     "output_type": "stream",
     "text": [
      "please enter your choice y/n n\n"
     ]
    }
   ],
   "source": [
    "game_on_choice()\n",
    "\n"
   ]
  },
  {
   "cell_type": "code",
   "execution_count": 69,
   "id": "03cd649e-fea5-47c4-8dd6-a1076e161fbf",
   "metadata": {},
   "outputs": [
    {
     "name": "stdout",
     "output_type": "stream",
     "text": [
      "new line\n"
     ]
    }
   ],
   "source": [
    "from IPython.display import clear_output\n",
    "print('hello')\n",
    "clear_output()\n",
    "print('new line')"
   ]
  },
  {
   "cell_type": "code",
   "execution_count": 111,
   "id": "3aea74d1-2c29-481a-a1a7-b794578b2bc7",
   "metadata": {},
   "outputs": [],
   "source": [
    "class Dog():\n",
    "    species='Mammal'\n",
    "    def __init__(this,mybreed,name,spots): #constructor self is this , self is any parameter, but self is ok, at other lang, it is hidden but here we need t pass\n",
    "        this.breed=mybreed\n",
    "        this.name=name\n",
    "        this.spots=spots\n",
    "        this.species='Dog'\n",
    " \n",
    "    def setSpecies(this,species):\n",
    "        this.species=species\n",
    "    def bark(self):\n",
    "        print(\"WOOF ! my name is {}\".format(self.name))\n",
    "        \n",
    "    "
   ]
  },
  {
   "cell_type": "code",
   "execution_count": 113,
   "id": "b9d6aa8b-c7aa-4f68-b381-1b2a6a417234",
   "metadata": {},
   "outputs": [
    {
     "name": "stdout",
     "output_type": "stream",
     "text": [
      "Dog\n",
      "cat\n",
      "WOOF ! my name is sammy\n",
      "None\n"
     ]
    }
   ],
   "source": [
    "my_dog=Dog(mybreed='lab',name='sammy',spots=True)\n",
    "type(my_dog)\n",
    "print(my_dog.species)\n",
    "my_dog.setSpecies('cat')\n",
    "print(my_dog.species)\n",
    "print(my_dog.bark())"
   ]
  },
  {
   "cell_type": "code",
   "execution_count": 187,
   "id": "092e9d4d-92ee-428d-b0c2-3602e8e52bfb",
   "metadata": {},
   "outputs": [
    {
     "data": {
      "text/plain": [
       "2826.0"
      ]
     },
     "execution_count": 187,
     "metadata": {},
     "output_type": "execute_result"
    }
   ],
   "source": [
    "class Circle():\n",
    "    pi=3.14\n",
    "    def __init__(this,radius=1):\n",
    "        this.radius=radius\n",
    "        this.area=this.pi*radius*radius\n",
    "    def get_circumference(this):\n",
    "        return this.pi*this.radius*2\n",
    "        \n",
    "c=Circle(30)\n",
    "c.get_circumference()\n",
    "c.area"
   ]
  },
  {
   "cell_type": "code",
   "execution_count": 189,
   "id": "eac38d8d-2f09-4f13-8ad9-502e98c53188",
   "metadata": {},
   "outputs": [
    {
     "data": {
      "text/plain": [
       "3.14"
      ]
     },
     "execution_count": 189,
     "metadata": {},
     "output_type": "execute_result"
    }
   ],
   "source": [
    "Circle.pi #variable can reference from class too\n"
   ]
  },
  {
   "cell_type": "code",
   "execution_count": 265,
   "id": "e0894f98-0767-4b5b-b04e-679e95094d45",
   "metadata": {},
   "outputs": [
    {
     "name": "stdout",
     "output_type": "stream",
     "text": [
      "Animal created\n",
      "I am an Animal\n",
      "-----\n",
      "Animal created\n",
      "Dog created\n",
      "I am a Dog\n",
      "nex is deleted from memory\n",
      "-----\n",
      "Animal created\n",
      "Dog created\n",
      "i am eating\n",
      "woof!\n",
      "-------\n",
      "<class '__main__.Dog'>\n",
      "sammy dog speack woof!\n",
      "<class '__main__.Cat'>\n",
      "Flex cat speak meow!\n",
      "-------\n",
      "Animal created\n",
      "animal instance\n",
      "Animal created\n",
      "Dog created\n",
      "str->name: alex\n",
      "alex is deleted from memory\n"
     ]
    }
   ],
   "source": [
    "class Animal():\n",
    "    def __init__(self):\n",
    "        print(\"Animal created\")\n",
    "    def __str__(self):\n",
    "        return \"animal instance\"\n",
    "    def who_am_i(self):\n",
    "        print(\"I am an Animal\")\n",
    "    def eat(self):\n",
    "        print(\"i am eating\")\n",
    "    def run(self):\n",
    "        raise NotImplementedError('sub class must implement run method')\n",
    "class Dog(Animal): #dog inherit animal\n",
    "    def __init__(self,name):\n",
    "        Animal.__init__(self) #create instance of animal class\n",
    "        self.name=name\n",
    "        print(\"Dog created\")\n",
    "    def __str__(self): #to string method\n",
    "        return \"str->name: \"+self.name\n",
    "    def __len__(self):  #len(Dog()) len('asb') \n",
    "        return len(self.name)\n",
    "    def __del__(self): #call when obj is delete from memeory\n",
    "        print(self.name +\" is deleted from memory\")\n",
    "    def who_am_i(self):\n",
    "        print(\"I am a Dog\")\n",
    "    def bark(self):\n",
    "        print(\"woof!\")\n",
    "    def speak(self):\n",
    "        print(self.name+ \" dog speack woof!\")\n",
    "class Cat():\n",
    "    def __init__(self,name):\n",
    "        self.name=name\n",
    "    def speak(self):\n",
    "        print(self.name+ \" cat speak meow!\")\n",
    "        \n",
    "\n",
    "Animal().who_am_i()\n",
    "print('-----')\n",
    "Dog('nex').who_am_i()\n",
    "print('-----')\n",
    "d=Dog('sammy')\n",
    "d.eat()\n",
    "d.bark()\n",
    "#d.run()\n",
    "c=Cat('Flex')\n",
    "print('-------')\n",
    "for pet in [d,c]: #polymorphism\n",
    "    print(type(pet))\n",
    "    pet.speak()\n",
    "print('-------')   \n",
    "print(Animal())\n",
    "print(Dog('alex'))"
   ]
  },
  {
   "cell_type": "code",
   "execution_count": 223,
   "id": "a3e354e5-8e8c-4a07-a756-a9e3764b95ed",
   "metadata": {},
   "outputs": [
    {
     "name": "stdout",
     "output_type": "stream",
     "text": [
      "sammy dog speack woof!\n",
      "Flex cat speak meow!\n"
     ]
    }
   ],
   "source": [
    "def pet_speak(pet):\n",
    "    pet.speak()\n",
    "pet_speak(d)\n",
    "pet_speak(c)"
   ]
  },
  {
   "cell_type": "code",
   "execution_count": 255,
   "id": "8e0f28bc-c098-412c-a062-6f1cf652de60",
   "metadata": {},
   "outputs": [
    {
     "name": "stdout",
     "output_type": "stream",
     "text": [
      "Animal created\n",
      "Dog created\n",
      "str->name: alex\n",
      "Animal created\n",
      "Dog created\n",
      "2\n"
     ]
    }
   ],
   "source": [
    "print(Dog('alex'))\n",
    "print(len(Dog('al')))\n"
   ]
  },
  {
   "cell_type": "code",
   "execution_count": 259,
   "id": "9be47db6-2944-41d7-88c6-001943c0030c",
   "metadata": {},
   "outputs": [],
   "source": [
    "del d #delete obj from memory"
   ]
  },
  {
   "cell_type": "code",
   "execution_count": 269,
   "id": "51d333e2-fb9f-4071-9db0-349f31246167",
   "metadata": {},
   "outputs": [
    {
     "name": "stdout",
     "output_type": "stream",
     "text": [
      "Animal created\n",
      "Dog created\n",
      "franky is deleted from memory\n"
     ]
    }
   ],
   "source": [
    "d=Dog('franky')\n",
    "del d"
   ]
  },
  {
   "cell_type": "code",
   "execution_count": 19,
   "id": "85f1e6b2-48a8-4c9e-9315-821975c8d905",
   "metadata": {},
   "outputs": [],
   "source": [
    "def add(num1,num2):\n",
    "    try:\n",
    "        num= num1+num2\n",
    "    except TypeError:\n",
    "        print('type error occured')\n",
    "    except:\n",
    "        print('normal error')\n",
    "    else:\n",
    "        print('add sum went smoothly')\n",
    "        print(num)\n",
    "    finally:\n",
    "        print('i am from finally block')"
   ]
  },
  {
   "cell_type": "code",
   "execution_count": 21,
   "id": "960feab9-215e-4e87-80c2-a5d6312f48ff",
   "metadata": {},
   "outputs": [
    {
     "name": "stdout",
     "output_type": "stream",
     "text": [
      "add sum went smoothly\n",
      "20\n",
      "i am from finally block\n"
     ]
    }
   ],
   "source": [
    "add(10,10)"
   ]
  },
  {
   "cell_type": "code",
   "execution_count": 23,
   "id": "d77937b8-814f-44b5-9d06-326d510e7c45",
   "metadata": {},
   "outputs": [
    {
     "name": "stdout",
     "output_type": "stream",
     "text": [
      "type error occured\n",
      "i am from finally block\n"
     ]
    }
   ],
   "source": [
    "add(10,'10')"
   ]
  },
  {
   "cell_type": "code",
   "execution_count": 26,
   "id": "7c38432f-ea76-4e96-a279-d40144ca4bf9",
   "metadata": {},
   "outputs": [],
   "source": [
    "def func():\n",
    "    return 1\n",
    "    "
   ]
  },
  {
   "cell_type": "code",
   "execution_count": 28,
   "id": "e1d7ad57-6c54-4144-baba-ef5e90788073",
   "metadata": {},
   "outputs": [
    {
     "data": {
      "text/plain": [
       "<function __main__.func()>"
      ]
     },
     "execution_count": 28,
     "metadata": {},
     "output_type": "execute_result"
    }
   ],
   "source": [
    "func\n"
   ]
  },
  {
   "cell_type": "code",
   "execution_count": 30,
   "id": "95063c64-99d7-421b-b92d-862afda0e53e",
   "metadata": {},
   "outputs": [
    {
     "data": {
      "text/plain": [
       "1"
      ]
     },
     "execution_count": 30,
     "metadata": {},
     "output_type": "execute_result"
    }
   ],
   "source": [
    "greek=func\n",
    "greek()"
   ]
  },
  {
   "cell_type": "code",
   "execution_count": 32,
   "id": "8066c488-e2ec-4ece-b192-499b632a1818",
   "metadata": {},
   "outputs": [],
   "source": [
    "del func"
   ]
  },
  {
   "cell_type": "code",
   "execution_count": 36,
   "id": "eeb3a669-09d8-48d3-885c-b730f1bc5cd3",
   "metadata": {},
   "outputs": [
    {
     "data": {
      "text/plain": [
       "1"
      ]
     },
     "execution_count": 36,
     "metadata": {},
     "output_type": "execute_result"
    }
   ],
   "source": [
    "greek() #deleting func but greek() itself valid\n"
   ]
  },
  {
   "cell_type": "code",
   "execution_count": 46,
   "id": "c1272437-dae3-4c83-b2f2-7c796e1945d0",
   "metadata": {},
   "outputs": [],
   "source": [
    "def hello(name='jose'):\n",
    "    print('hello() function executed')\n",
    "    def greet():\n",
    "        return '\\t this is the greet() inside hello()'\n",
    "    def welcome():\n",
    "        return '\\t this is welcome() inside hello()'\n",
    "    print('return a function')\n",
    "\n",
    "    if name=='jose':\n",
    "        return greet\n",
    "    else:\n",
    "        return welcome"
   ]
  },
  {
   "cell_type": "code",
   "execution_count": 50,
   "id": "a113232f-e1ef-4ad7-b9ee-54e952079417",
   "metadata": {},
   "outputs": [
    {
     "name": "stdout",
     "output_type": "stream",
     "text": [
      "hello() function executed\n",
      "return a function\n"
     ]
    },
    {
     "data": {
      "text/plain": [
       "'\\t this is the greet() inside hello()'"
      ]
     },
     "execution_count": 50,
     "metadata": {},
     "output_type": "execute_result"
    }
   ],
   "source": [
    "hello()()"
   ]
  },
  {
   "cell_type": "code",
   "execution_count": 52,
   "id": "c88a92c0-2f60-4eac-9b3a-5a8cdf37ccc6",
   "metadata": {},
   "outputs": [],
   "source": [
    "def new_decorator(orginal_func): #wrapping paper , inside that we have gift means function\n",
    "    def wrap_func():\n",
    "        print('some extra code')\n",
    "        orginal_func()\n",
    "        print('after calling extra func')\n",
    "    return wrap_func;"
   ]
  },
  {
   "cell_type": "code",
   "execution_count": 54,
   "id": "1579014f-3f48-4c4b-8dff-211e128c8f5a",
   "metadata": {},
   "outputs": [],
   "source": [
    "def func_need_decorator():\n",
    "    print('i want to be decorator')"
   ]
  },
  {
   "cell_type": "code",
   "execution_count": 56,
   "id": "7efe9092-6e9a-4025-a04f-026b754cb733",
   "metadata": {},
   "outputs": [
    {
     "name": "stdout",
     "output_type": "stream",
     "text": [
      "i want to be decorator\n"
     ]
    }
   ],
   "source": [
    "func_need_decorator()"
   ]
  },
  {
   "cell_type": "code",
   "execution_count": 58,
   "id": "be15486d-3f70-4560-9d65-ff4eea611451",
   "metadata": {},
   "outputs": [
    {
     "name": "stdout",
     "output_type": "stream",
     "text": [
      "some extra code\n",
      "i want to be decorator\n",
      "after calling extra func\n"
     ]
    }
   ],
   "source": [
    "new_decorator(func_need_decorator)()"
   ]
  },
  {
   "cell_type": "code",
   "execution_count": 60,
   "id": "c14e2b4a-320b-4417-860d-3b6b95954fc4",
   "metadata": {},
   "outputs": [],
   "source": [
    "@new_decorator  #means i will pass below function as arg in current function(new_decorator function), and call func\n",
    "def func_need_decorator():\n",
    "    print('i want to be decorator')"
   ]
  },
  {
   "cell_type": "code",
   "execution_count": 62,
   "id": "d6407900-471d-4051-a625-0fa43110ba01",
   "metadata": {},
   "outputs": [
    {
     "name": "stdout",
     "output_type": "stream",
     "text": [
      "some extra code\n",
      "i want to be decorator\n",
      "after calling extra func\n"
     ]
    }
   ],
   "source": [
    "func_need_decorator() #same functionality"
   ]
  },
  {
   "cell_type": "code",
   "execution_count": 64,
   "id": "a1e70523-8bb8-4dec-b51e-1cc6f122b20e",
   "metadata": {},
   "outputs": [
    {
     "data": {
      "text/plain": [
       "range(1, 10)"
      ]
     },
     "execution_count": 64,
     "metadata": {},
     "output_type": "execute_result"
    }
   ],
   "source": [
    "range(1,10) #it generate next value based on step size (default 1), didn't retain all 1to10 in memory, but when user ask then it give next \n",
    "#value"
   ]
  },
  {
   "cell_type": "code",
   "execution_count": 68,
   "id": "52178ce3-64ff-4995-aadd-e86cce3fdb17",
   "metadata": {},
   "outputs": [
    {
     "data": {
      "text/plain": [
       "[1, 2, 3, 4, 5, 6, 7, 8, 9]"
      ]
     },
     "execution_count": 68,
     "metadata": {},
     "output_type": "execute_result"
    }
   ],
   "source": [
    " list(range(1,10,1)) #if you want to retain in memory"
   ]
  },
  {
   "cell_type": "code",
   "execution_count": 70,
   "id": "64cbc14c-fac5-4869-b0b2-c83c12a77d02",
   "metadata": {},
   "outputs": [],
   "source": [
    "def create_cubes(n):\n",
    "    result=[]\n",
    "    for x in range(n):\n",
    "        result.append(x**3) #x power of 3\n",
    "    return result"
   ]
  },
  {
   "cell_type": "code",
   "execution_count": 74,
   "id": "e3b7b6d6-1ffc-4163-add0-9bbf45957f4e",
   "metadata": {},
   "outputs": [
    {
     "data": {
      "text/plain": [
       "[0, 1, 8, 27, 64, 125, 216, 343, 512, 729]"
      ]
     },
     "execution_count": 74,
     "metadata": {},
     "output_type": "execute_result"
    }
   ],
   "source": [
    "create_cubes(10) # if we need only next value not all list then what to do so genrator"
   ]
  },
  {
   "cell_type": "code",
   "execution_count": 76,
   "id": "884291cc-b44b-4c62-b6fb-63f3d6e2dc04",
   "metadata": {},
   "outputs": [],
   "source": [
    "def create_cubes_g(n):\n",
    "     \n",
    "    for x in range(n):\n",
    "        yield x**3"
   ]
  },
  {
   "cell_type": "code",
   "execution_count": 78,
   "id": "baa5faf4-d435-4012-841c-ca0230b57c36",
   "metadata": {},
   "outputs": [
    {
     "data": {
      "text/plain": [
       "<generator object create_cubes_g at 0x10461d970>"
      ]
     },
     "execution_count": 78,
     "metadata": {},
     "output_type": "execute_result"
    }
   ],
   "source": [
    "create_cubes_g(10)"
   ]
  },
  {
   "cell_type": "code",
   "execution_count": 80,
   "id": "55142c46-49e4-4915-b868-e0fa7af1cac2",
   "metadata": {},
   "outputs": [
    {
     "name": "stdout",
     "output_type": "stream",
     "text": [
      "0\n",
      "1\n",
      "8\n",
      "27\n"
     ]
    }
   ],
   "source": [
    "for x in create_cubes_g(4): #i don't hav elist in memory i am yeilng the value as they come\n",
    "    print(x)"
   ]
  },
  {
   "cell_type": "code",
   "execution_count": 82,
   "id": "b3576c29-2e78-43d4-bedd-f70fa3dac079",
   "metadata": {},
   "outputs": [],
   "source": [
    "def gen_fib(n):\n",
    "    a=1\n",
    "    b=1\n",
    "    for i in range(n):\n",
    "        yield a\n",
    "        a,b=b,a+b"
   ]
  },
  {
   "cell_type": "code",
   "execution_count": 84,
   "id": "d0782ecb-99b3-43fe-818f-84ae1710d6a9",
   "metadata": {},
   "outputs": [
    {
     "data": {
      "text/plain": [
       "<generator object gen_fib at 0x145492ea0>"
      ]
     },
     "execution_count": 84,
     "metadata": {},
     "output_type": "execute_result"
    }
   ],
   "source": [
    "gen_fib(10)"
   ]
  },
  {
   "cell_type": "code",
   "execution_count": 86,
   "id": "92596c24-92c9-4a58-8193-719ab08d12d9",
   "metadata": {},
   "outputs": [
    {
     "name": "stdout",
     "output_type": "stream",
     "text": [
      "1\n",
      "1\n",
      "2\n",
      "3\n",
      "5\n",
      "8\n",
      "13\n",
      "21\n",
      "34\n",
      "55\n"
     ]
    }
   ],
   "source": [
    "for x in gen_fib(10):\n",
    "    print(x)\n",
    "    "
   ]
  },
  {
   "cell_type": "code",
   "execution_count": 88,
   "id": "84a66812-5543-47fa-b52e-e179ae4457d6",
   "metadata": {},
   "outputs": [
    {
     "data": {
      "text/plain": [
       "1"
      ]
     },
     "execution_count": 88,
     "metadata": {},
     "output_type": "execute_result"
    }
   ],
   "source": [
    "next(gen_fib(10))"
   ]
  },
  {
   "cell_type": "code",
   "execution_count": 90,
   "id": "94d653a1-33e8-4b99-94b5-87bf92b2050b",
   "metadata": {},
   "outputs": [
    {
     "data": {
      "text/plain": [
       "1"
      ]
     },
     "execution_count": 90,
     "metadata": {},
     "output_type": "execute_result"
    }
   ],
   "source": [
    "next(gen_fib(10))\n"
   ]
  },
  {
   "cell_type": "code",
   "execution_count": 104,
   "id": "4ac45615-3a7f-4d28-8f2f-d32cabe2d871",
   "metadata": {},
   "outputs": [],
   "source": [
    "gfib=gen_fib(10)"
   ]
  },
  {
   "cell_type": "code",
   "execution_count": 108,
   "id": "f5395bd1-795b-4c70-be7c-f6ac8dc58e12",
   "metadata": {},
   "outputs": [
    {
     "data": {
      "text/plain": [
       "1"
      ]
     },
     "execution_count": 108,
     "metadata": {},
     "output_type": "execute_result"
    }
   ],
   "source": [
    "next(gfib)"
   ]
  },
  {
   "cell_type": "code",
   "execution_count": 112,
   "id": "2cac4582-8254-4581-999a-1e3900ee6ad9",
   "metadata": {},
   "outputs": [
    {
     "data": {
      "text/plain": [
       "8"
      ]
     },
     "execution_count": 112,
     "metadata": {},
     "output_type": "execute_result"
    }
   ],
   "source": [
    "next(gfib)\n",
    "next(gfib)\n",
    "next(gfib)"
   ]
  },
  {
   "cell_type": "code",
   "execution_count": 98,
   "id": "19578d02-0e0f-496e-9bd9-cd3596a1d364",
   "metadata": {},
   "outputs": [
    {
     "data": {
      "text/plain": [
       "1"
      ]
     },
     "execution_count": 98,
     "metadata": {},
     "output_type": "execute_result"
    }
   ],
   "source": [
    "next(gen_fib(10))\n",
    "next(gen_fib(10))\n",
    "next(gen_fib(10))\n",
    "next(gen_fib(10))\n"
   ]
  },
  {
   "cell_type": "code",
   "execution_count": 120,
   "id": "754c5882-eda9-4154-96df-9bf7c69ffc73",
   "metadata": {},
   "outputs": [
    {
     "data": {
      "text/plain": [
       "'h'"
      ]
     },
     "execution_count": 120,
     "metadata": {},
     "output_type": "execute_result"
    }
   ],
   "source": [
    "new_itr=iter('helll')\n",
    "next(new_itr) #convert it into iterable and call next() get to next available record, yield keyword use here\n"
   ]
  },
  {
   "cell_type": "code",
   "execution_count": 128,
   "id": "09813d38-d0f6-44ed-af28-d291da4da7a6",
   "metadata": {},
   "outputs": [
    {
     "data": {
      "text/plain": [
       "2"
      ]
     },
     "execution_count": 128,
     "metadata": {},
     "output_type": "execute_result"
    }
   ],
   "source": [
    "new_list=[1,2,3,4,5,6,7]\n",
    "gen_list=(i for i in new_list) # converted into generator\n",
    "next(gen_list)\n",
    "next(gen_list)"
   ]
  },
  {
   "cell_type": "code",
   "execution_count": 130,
   "id": "907be24a-50d4-4eff-ac7e-017636b2cad9",
   "metadata": {},
   "outputs": [
    {
     "data": {
      "text/plain": [
       "5"
      ]
     },
     "execution_count": 130,
     "metadata": {},
     "output_type": "execute_result"
    }
   ],
   "source": [
    "new_list=[1,2,3,4,5,6,7]\n",
    "gen_list=(i for i in new_list if i>3) # converted into generator\n",
    "next(gen_list)\n",
    "next(gen_list)"
   ]
  },
  {
   "cell_type": "code",
   "execution_count": null,
   "id": "a867ff15-0d7c-413a-9574-ffa17ecf5108",
   "metadata": {},
   "outputs": [],
   "source": []
  }
 ],
 "metadata": {
  "kernelspec": {
   "display_name": "Python [conda env:base] *",
   "language": "python",
   "name": "conda-base-py"
  },
  "language_info": {
   "codemirror_mode": {
    "name": "ipython",
    "version": 3
   },
   "file_extension": ".py",
   "mimetype": "text/x-python",
   "name": "python",
   "nbconvert_exporter": "python",
   "pygments_lexer": "ipython3",
   "version": "3.12.7"
  }
 },
 "nbformat": 4,
 "nbformat_minor": 5
}
